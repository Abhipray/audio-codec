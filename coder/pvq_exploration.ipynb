{
 "cells": [
  {
   "cell_type": "code",
   "execution_count": 3,
   "metadata": {},
   "outputs": [
    {
     "name": "stdout",
     "output_type": "stream",
     "text": [
      "The autoreload extension is already loaded. To reload it, use:\n",
      "  %reload_ext autoreload\n"
     ]
    }
   ],
   "source": [
    "import numpy as np\n",
    "import matplotlib.pyplot as plt\n",
    "from IPython.display import HTML\n",
    "from matplotlib import animation, rc\n",
    "from quantize import * \n",
    "from gain_shape_quantize import *\n",
    "%load_ext autoreload\n",
    "%autoreload 2"
   ]
  },
  {
   "cell_type": "code",
   "execution_count": 4,
   "metadata": {},
   "outputs": [
    {
     "data": {
      "text/plain": [
       "(array([[ 2,  0],\n",
       "        [-2,  0],\n",
       "        [ 1,  1],\n",
       "        [ 1, -1],\n",
       "        [-1,  1],\n",
       "        [-1, -1],\n",
       "        [ 0,  2],\n",
       "        [ 0, -2]]),\n",
       " array([[ 1.        ,  0.        ],\n",
       "        [-1.        ,  0.        ],\n",
       "        [ 0.70710678,  0.70710678],\n",
       "        [ 0.70710678, -0.70710678],\n",
       "        [-0.70710678,  0.70710678],\n",
       "        [-0.70710678, -0.70710678],\n",
       "        [ 0.        ,  1.        ],\n",
       "        [ 0.        , -1.        ]]))"
      ]
     },
     "execution_count": 4,
     "metadata": {},
     "output_type": "execute_result"
    }
   ],
   "source": [
    "codebook = np.array([(2, 0), (-2, 0), (1, 1), (1, -1), (-1, 1), (-1, -1), (0, 2), (0, -2)])\n",
    "normalized = codebook/np.linalg.norm(codebook, axis=1, keepdims=True)\n",
    "codebook, normalized"
   ]
  },
  {
   "cell_type": "code",
   "execution_count": 5,
   "metadata": {},
   "outputs": [
    {
     "data": {
      "text/html": [
       "<video width=\"576\" height=\"576\" controls autoplay loop>\n",
       "  <source type=\"video/mp4\" src=\"data:video/mp4;base64,AAAAHGZ0eXBNNFYgAAACAGlzb21pc28yYXZjMQAAAAhmcmVlAABhRm1kYXQAAAKvBgX//6vcRem9\n",
       "5tlIt5Ys2CDZI+7veDI2NCAtIGNvcmUgMTQ4IHIyNzQ4IDk3ZWFlZjIgLSBILjI2NC9NUEVHLTQg\n",
       "QVZDIGNvZGVjIC0gQ29weWxlZnQgMjAwMy0yMDE2IC0gaHR0cDovL3d3dy52aWRlb2xhbi5vcmcv\n",
       "eDI2NC5odG1sIC0gb3B0aW9uczogY2FiYWM9MSByZWY9MyBkZWJsb2NrPTE6MDowIGFuYWx5c2U9\n",
       "MHgzOjB4MTEzIG1lPWhleCBzdWJtZT03IHBzeT0xIHBzeV9yZD0xLjAwOjAuMDAgbWl4ZWRfcmVm\n",
       "PTEgbWVfcmFuZ2U9MTYgY2hyb21hX21lPTEgdHJlbGxpcz0xIDh4OGRjdD0xIGNxbT0wIGRlYWR6\n",
       "b25lPTIxLDExIGZhc3RfcHNraXA9MSBjaHJvbWFfcXBfb2Zmc2V0PS0yIHRocmVhZHM9MTggbG9v\n",
       "a2FoZWFkX3RocmVhZHM9MyBzbGljZWRfdGhyZWFkcz0wIG5yPTAgZGVjaW1hdGU9MSBpbnRlcmxh\n",
       "Y2VkPTAgYmx1cmF5X2NvbXBhdD0wIGNvbnN0cmFpbmVkX2ludHJhPTAgYmZyYW1lcz0zIGJfcHly\n",
       "YW1pZD0yIGJfYWRhcHQ9MSBiX2JpYXM9MCBkaXJlY3Q9MSB3ZWlnaHRiPTEgb3Blbl9nb3A9MCB3\n",
       "ZWlnaHRwPTIga2V5aW50PTI1MCBrZXlpbnRfbWluPTEwIHNjZW5lY3V0PTQwIGludHJhX3JlZnJl\n",
       "c2g9MCByY19sb29rYWhlYWQ9NDAgcmM9Y3JmIG1idHJlZT0xIGNyZj0yMy4wIHFjb21wPTAuNjAg\n",
       "cXBtaW49MCBxcG1heD02OSBxcHN0ZXA9NCBpcF9yYXRpbz0xLjQwIGFxPTE6MS4wMACAAAAi6GWI\n",
       "hAAR//73iB8yy2n5OtdyEeetLq0fUO5GcV6kvf4gAAADAAADAA4SCLMzbu2wEQuAAAICADUXC/iK\n",
       "EbgAbWwxFlnqlvmdIau0/tcOZf/bpUXLvOjWk4ZHtjYjSfb6WTmgOWIt3BeoC3tmE5EjxU7rEXrb\n",
       "fxGcZJ00PJQPNkGiKMJp2R47cbZymOCHWogLuJBr5DUdiBk5YQ47xQu8byDdn9bWZuilN3EABoOj\n",
       "WN8e5+MuW4Tv1r4zvVKgEp2pVVyONUMqFH7otSzh+OnVjOnuH0cE8jY5diZXXxuKisxdw5fTVPJy\n",
       "9ZaZ2uX2c6MXiBgB5YDhJTF0bFCFtujsOt3VgDlmQiled6d7BB+lQzr4rEUhhiCj72CcuE3L5mhm\n",
       "CTxICqQyaSy3+X8poLvjR78tgwDVN37QM11LgwsvbRhcWp4j9QjJJjX5mXWpEqCfABejrtLDndVM\n",
       "1PkPL2OanMyHp7MJUcLW8wnio7o8uVC0Pe+D9kDFlTps3DxFRuWKBiGvSnT46m9/+hBiIpgE0f1X\n",
       "GaQsE5uxH9REn8Mn/PWYijye4b0+Er9aveDkrX8s/UKyGMH1RxVUa2GtQIk3WEwZQpjcyNVXK0r8\n",
       "EyoP21aapxVnL5LTxrOoj2XTiomqCLHnkQhVh8Hi5U4qNhhGuidKvtTo6Sf69WLISE1xbT1qhoEH\n",
       "Pa5UqdtvizFy9jurVupFqV1QyK49YqOAwENd5f0anFgvx9siHade2d6zKwKfPx8HRH5ZAtUlaHmx\n",
       "tW3fmbmk4Mlu3WYT7Wu/oWpFW/5JN+HLkvlWQL6peE/wTwq7WcM4oE0U0nH+IllD4rgUW6pLNaPc\n",
       "D4AXwi1Gpl2Hn/zBkuHzYMzi9Dd8q8pe3gt+1Yf1Ja3ce1hGlVBTvOsioySp8n0w/O1UkQ5BAYBm\n",
       "BWKFfUFMNATs9lRjriT1J5A23fpMoPADt3xBPCfb51E8Eo4gTmGWYEDsv+R4fTkpYe8hulQHeNTd\n",
       "6xDgk8mLh+7DgoQVf9gRLDPRK0pc/jCfAS9lWGqhh6+Jg8bws5+Gio141QGYU/rtthLtz1+QeEf6\n",
       "0LrczNOX2hx+3KS1RsueVOwh9WvcJmQccgqjapGsnXLQZQsV1qAiOcobr5OMAN2pAkVLoP26wmuU\n",
       "LLLBifO0sKW5paCQ08mtHUhL7WFFmc5ObFuPDkQLDQjzyZqUrRL80HpD1bNZgc+wq+Xjd/5gAwMZ\n",
       "ENrt959okuRjvsCD/QMgesmP+ByXfGt0U2CPXjwfl8imk/wPE632IBXK7pWQIbw2NH2tY14P4zhy\n",
       "wW/HeFwvxgngRBHVA8RW4wiTX2U5DbVYTzIBSOxEv5n1uUI8zfzU6g9AFG5bFbaQWPuQprKJBl02\n",
       "rP/nvXEh1E5P8LLaFMXImfiQAYXqTqlHYMuOKCULT+uc4v5EdPjSZHQOgxFUz5r/Uq+w8Uy9+QXJ\n",
       "DNq115A2x4tP2JpRi2Zmr9Q3853jFr021l07K32BAKdPsDif8P1PQ1Nj7wIUhD5xeOIDDhkBDIOM\n",
       "qpnOM4wMBID2R2Qb9TCQX2IRm9PskOKXCVVe+h+OIn2ubU7REFM16ZWQqi+249bTljKGfjMCQxPi\n",
       "qvWlTkznviL0KaqPp30i21h/aKZ5zsUEb3wO3bVY+yTOasakYDrYtNAJcLW732mim1efygzzp+K1\n",
       "4mnH7RUsB1j1LvvYOXxTtohIjdQ13vC0+Rgs4egJfs03eevz/VPVcOaKNryXia9HtBQLXKOtpKpq\n",
       "FV7VfqExGO0zh9V6B4Ll1BLNj0fdys4sYGmPifk6xVnfTmSy7XwG9Ju/RxywrROgrujdrRZsU/pT\n",
       "gTpLyETZpwyjOwgC3+OIjzArahDL/2qwa1gGYH1eSbFDOaW9zB5kdGYbmYB9drWvyBXqh8vm9LTH\n",
       "Rvtl4Q16PdmeBbG9VEhmm56JaqbzEAV+nzMb1fXRGkAuek0Y2mQcKAD+Sd+H4EWXvNMzqEvwG8Fr\n",
       "QVGan8kYcOt4sbIqJ1F53VTdaMn+c0Lg2xtdkqC7FUIdVxxznNzlC+MuXzfNG6EMyYk8ZK6esZje\n",
       "/JL6WDkgZ1V/pOx0eSpurlceMUwGQj+ZxUZToRbo113aDIjY5Pf7+Cq0HnQhFDanyF8x9+/tn+V9\n",
       "a0oItKQtuoQqs75qEIVENjpK/rQ+nyo0Kk+46WKhb9Wk9n3gw//+Nl0Qbu3N/7epbUen2s/3/SQK\n",
       "SIk9v7i+l6bcR0Ss2GhYV6SsoPPK8bsNVpPGuZ+ycQUaa6JdciSKxrLvUZbzGCDI/BBmQ44YTf2D\n",
       "bfPs3NJZffg9YxOupjhK3VP5cKgyK6fXV6ulZLCvBO9Xl7/h31QwYm760Nk+wiYyD1JDgWHgPB7+\n",
       "uoJWc7RqCcaNeZt51ji/FPjl+WXtn0HnOeVi2CQpHgVFPFI/uEpPBvk6nBfdm3KfW40tS3M9Lh3i\n",
       "1Ks5JikIvn14jdtpC1XX3UOHW5perRoamzwr6/Kj7D4MCQ1e2xDzbu18PY30QJsQ5aUvOOYMf7k0\n",
       "H4VzFN9WXmXc9qGQyax0luVbg6LstGMlM7gH19iE+OO16ttk/p198hoI7Wc01JxGcOy6M1mw8CEZ\n",
       "XqxSxNnQ9XHRuSJtoiKDs7qhB/b4YeKaACioYCAVXIyQ85VQh2zO7kfcdl+SS1OQxx1rCZQjKJAy\n",
       "wGhF8E9Sf009B34pEdVMYPFq+Vrkol00yAbwttGX70qA4yK6SPTbozOhZqljlTOlwt81jiL/rUYF\n",
       "8G86JpsE8vPBuUvMGKdeu0OktJY1Wl3OswNN6BjV+FpESSAGk+G7YIO8zAkkIkg5wuhQU73/eeDA\n",
       "OAYHIPTO149dlcvBBDgBfT/4dA4lT700iylhs6MTnY2QdV9S6lcW96ukqL0EsvVxbEMH1Mly324n\n",
       "n68yB/5+jcYTaFMdCGxyI+HRWBuYsOyKWYwRJm+2jpe266izkj6zuxptIAxc82xGL1+ksvDks4EI\n",
       "RPyjT5dpIcx/WhEy/fz51IaLu9CqwiTD6yD0tyRyFfQoY21iy178chVkial63OzY1Y7pa0sOwt5S\n",
       "/N6oufxbgSNooWsdUpNcnLmEFwpiIuPngfgtRMWJRnq5zrJ+d+lU92WfQ/CWKYrA1qAkWY9OFyQy\n",
       "997tkMIEESd6IhqjmC0/cSN8FTCUqFzWq79PE9QfbUjfBD6oos2O1IJHXITh8YiIqQn+tMPIuS86\n",
       "UCf6WMVD8tSvYIz9c7pgqtbIAm90P6arlp/o9tuWuxgAjnmr8in79zFak0TaskO/y+JTz5pA7bwj\n",
       "3Uj/27+b4Y6fAgruaGXFderWyM/Bd7xQaIkqW4xnoO+rpUHLC8lZaUuNQcq/vlvf7M//zCQ49f1E\n",
       "2/FoVfF1DO/IWxfobrmWwJlxxprX8Q5mp8G6ePyl6juyqZ020XUYcuICf8ZspKwVDeHwBGPBWctV\n",
       "uWYTL7bPeZ1C88HUriHvJZlSX3KBSNVJ1/hoqJRQvQjX9P5w5N7EysLmQs5bk38JAa6tzNEgj9Li\n",
       "HO/Ow63laodUlJL/m4K/BDRAzToF4DSFbYrWElzB4FC5tLBn7KSm4EIIptfRuruTLcALnjwY6sSy\n",
       "YNjY0Lq7Vtebie0re1Zvv+9mZ2Bzhonv3O4xtClL+JHmO7YrxM0ua24B14C7IQo8VuSzfr09lHbm\n",
       "CH/ZdEGMvEK68WVNbNz9VjwNn2QzgXiZ9lHr4+BpLJmfaTrE+n7W85+Ty5BzLq8bCS7F/u5j95fu\n",
       "iJ77KWs80BptZt1wi8idDNfEE1Z2B5q5uysLMydgQVgLoAXrk9vKwoXSZKo/aQQNxEEWJMT2av08\n",
       "Cc0odmlJROmRhOuzdM6tV33eXsu0XtF3tkUojXJpbpjz+c22h0q0pdoY87cgQWXSSnqc7O0w5Jvy\n",
       "8U+XILBGQiI1ZneFfjFFsggUw7EMRZvf4MLKhHBUIUu07c4duyPPdOjqgeCu90Wg7af4E2Hjewx9\n",
       "B4/pEh+F7wgcZTf13an2z+DLAQzZLRhrv6V/1UPTZWfdP1US4b3CUJIZ6x9gF83zO1Ew9ldVdZgL\n",
       "OHhadKDDhMxHJeiM9CHvAK7dcVvan9ehjQQ9FbknSSW6PTq5ONQ/yylFB/nY6A+P5S/CCKgYyzWA\n",
       "uULdTdqPKcIzXfJlLT57lmy94OYpoRUgF6aqUQSqpRNqN6lZft1cTFG0ezY8moarN5HuYOitmL3c\n",
       "vjnQf4HCMIIndcKGRmvoPRnVHcApxuavs3YNcqNaiV1h59qql3qOJ7bkwg5XMxNfYdys0zoHcA3d\n",
       "kEgnH+xG089H7hYXdTkXlD4m3O/XTDLnDAFdGu3s0EpwrRwuJkzb5/o/SnZGYALxW2tHQguV8ale\n",
       "D7/OzIAI1aAPfcRpleRVKzDdkWogy3lDVeJtttHcX6ZA8M6ETBB8kzSRLJcF3XRE6/4a3IUE/cIn\n",
       "J48a5KyZ3qjazSO+K7lo2H77eofoIu/TPX5EXHD0+2HmWWNg+znXy7oFglV/I75osxtyPfl1yW/Q\n",
       "UEqOkl5O4Nb2Cr4jR0LQBEenulx44D3zd9tik87qYW0RfZM6hFjxJazr7W3bqf3bv9uXYZgPceBG\n",
       "abk4Ly6CgyA112+ytagAYEJy4sETAj0StI6Hpclc646+6Zum5FcK9KNqrcaD2OUzsp3Xe97y740U\n",
       "+cRnV8PpAc7RKpUyf95ZouYA0+ZFWJZStyFtZgvPlN6SgKY9VLpbECbMggC5a8Hnf/ScR53il+21\n",
       "H4T0L/LzWnG8jLTTMaqBEw+f9iBhNdRnFjqO6nhRgCne1q8klrUEjYbin30Df0r5VmWHLeEUzBiQ\n",
       "vBSL8QYUwy6UlrvnvnyYu3K17bs0kVapaIrAT7rFZgAq/Q/259vShzZzQVpoMILt2A3xbP6rewh7\n",
       "QcvWFMthpER30ABlM7EXAJ6aT1eyFVJItssdPkWm58MzVQ3OKjH9VaH0o4Y83Em9gigEdEpE8WN1\n",
       "iJ74581vE8AlIEHJRqEwd1z1ApTzY56zaHCbHShZQ01G0qAc5sDuGtUOXVi5PPvuuvD26h0LrrYe\n",
       "HbBl1/rqDissOuuqvsTgBoFX4h6M5NIwxkJSEMQ6IRGGq/+lasO3P7+LLoP0nv0G8Af1H7d7tKG8\n",
       "B2fz9dDyje0AeVBqjYW3q5MT+UKkdLk5a3ohvh9p6ki317Dyi8qL9bf9PLolZl4deNPNOmcmqPNl\n",
       "GAc+swCzFS9ddnXF9mKsJQP7TKPE9RPVe8oO3yGrVW17yLpI3Mr6m1w7zECZd2/sAGfZXvuwST/3\n",
       "T+oTGy6fidKnSKVyAVJjNlFR9zc5UHCfgQFJhGKgm1z2pO5Uv3BM4JIwptfjUWwgF1rTe6lA58MZ\n",
       "Z9E432HwefWazn7lFmKsrjhN3cZ3q9zhz4csHMLJKgRLni1IzLuhC0mhc6FsoNBd8iQGYRhRdyyE\n",
       "oKdCiFbpWcgBZajTlJ7KTMJJs2h8ZEsdJ52im4aMHBUYYdwRcgYKBwaBNMWkpJ3iMByqk/Zra2/h\n",
       "4maR1hdxOE7JtXIZhC9hFEC6z0zcMxRZt2E/KwrxGpOsy78r7KvsjDs0KDwDPvYhAcGYysAOnXgC\n",
       "59XenB0iAuc7nUCjY5QLqjbKUg8YDC1nPgK8gpe2X/73zuZkHBr47QzR5dul3sMoILo8Y+Rxllvh\n",
       "9p1Fe53Khj3JF1zQw5h1cEZtr/icP4nJXHPm7S/Fnl/XaDhQquIzYweLHPHXh9NosFLTboL6zsV7\n",
       "p0pDCvzB/PR6f3iDdzt1Yh2990nFgCqqkR+H5OUCRZul5wjaIoC5L5HlzuHmPNKVUmiDtSkdbtG8\n",
       "QSxEpcdOy38kcngAQL+6B5hOEp6RCbwSh7Fg/etXgbwuX/E7g+NS/Tdb6SkOX//l1bA/XfdpnsPv\n",
       "cC1ZTr+jIN+DDGoa6QDopgkSzyHm0qzigSTP7ZA6HmNMurI6ba8VpykRxDaOpBX+m3r562hmAESN\n",
       "niLbs/4tZZ3fHPHbziaDyUWG06zAQfa2GO8Nkm68eTMxx0bl7cOCBBTDhEpmXBcgQTiPT9aJBKzf\n",
       "u2SdugJcMHGbhpWQRt/vL2lWrwuiPd5O3w/iTrsEA58NQSd92dQlqXGOPFT8ZROcZeNLsfyHos3q\n",
       "eANmkYwchnK1NqfUyF256xOqV9jyc6XP+rRM9GnUaY2BmdMGxE5C41HPXRHGQOQ3dxfwx4/rJPOn\n",
       "NnRR8THFU/dPROI/jgOSJta5Vt0Km8q1dtj5Glz359fg2x3jVrPLsYz5qqwtVck7TIsGj8uuY/am\n",
       "NBwfb3mGoRh0k158YdreyQZ20XvdLUGryXK0eopUL2e3zzcupOWhYXFi9QGokVo39fNMSR6dInb+\n",
       "HSCbVbLPMF9h/msGEN1aUUlaarZMeCDAcT342HC6P/Rhx1SJMshz+0Mz5c3Wm7KXcMFob9NwRNZL\n",
       "pQqumXwjSnVEsMLXcEilK9jJXErmkWd7TMQluJftJ+nh20gmgXO/lw6w77RNSa1Vhqfjs86PnrZC\n",
       "PgZUyuGpKpZqHx3ZOlr86VzgNvnuVqoBlYO1aTX0QjJKSlbS4jRJl3UrmmCTOD8BfrjXjPLM1r/t\n",
       "FhQDe6HmjBl/xw2KH7RsbwDz+E/ca9JmJVzJleI7T9EoZ/2KgNQ7hSG2tGM8sRUlP2zDUMGzmYhs\n",
       "H0WdakIwgyB/NTaxG9hoGcQ067B1m+GD9B0wo1SDQQByY7fmuvPs1zX3lvnq+knXtZearo6pUv0M\n",
       "nP/5P/+75GAYOtcNcGI64M3PWygaEXWAM6niBiZfVubcnfr8FA9TpXrD+0jVgvfjCVCYjCDwgTtX\n",
       "nexm3avO/7W3Xrr5UcFxS7oRmfZ3oqBXJZy7AASXjNU4LzoPUOyynu+Hdyb1nQv80vGnEeipPH6t\n",
       "cYsq71BCjSIv59fTH3uP5hbvpOQXs7+PHozd3H+jshMfp7HzQOdUhDZYXgiw1zVAMMon8sIPpbHb\n",
       "PzmxlFX1IPCyz40F/MwxDifrP3fVZcP8TMyYgv5JfPvGORroCjX6EjR2RIPoVnqNWXtt9BzC7Sxb\n",
       "FnQ8QTFUPYeODg+mG+ZOBUFLvO9w/7JbjhGZh048dRiB1v1bYioLvGDoHBQopa6vmpQzbtGiBRQ9\n",
       "RxVXJ+vXLc/99mJlA+Murd0webOTEuh0hlBuC+UYkpEIGZrtg4BBc/8vSCz6hy3XmgBL1/hPsWDD\n",
       "Q7OikPutjSN7b/C6td56+OXWvINLqz5+vMn2B6/F6VaIhHoV1NnA1fby4Hepa86/jRU2GMA6w+zz\n",
       "y60Ifqa1nmwd0IYZkz66TZq2gOuksPhkLKPBMR9huig8/saaIdKNxmRlcwDlVTnGUdztjyX1lD63\n",
       "LfBPrk+J9XcX7yOnZtDEML+8+drNAgfR4t4Kd6FEtThMD19zv0N/rnzTQtdqg7wg27Y41LnsarEQ\n",
       "4kIATL/ze+uQ0TMUFXZszGp8oztMd4Qar1sOVuWD6unMk9odYotUr///sNbFIN8yk+mZzK9NuWi3\n",
       "OlN3U3jPfyJbKvD/7EY8YdWC5w5/L5XuFN+M84B6q4tCAasxgIPmISuYuCkEFnic4ec4FkjP5enw\n",
       "N0o7woACGO09PGMJvdSVAdVaxd6SyJS3ncNQca2laIaGic7Z5rBkBB5vUR9VDyXDLV2J5DE+i9mD\n",
       "WWBOf84bolNgIfcIYmwJPeGzSI/symZnpCQ9MhHBZH/PMOQLr82hlI8IWonTzOBu3JtFrqYorpo2\n",
       "ffUFGFjPkDHQ5sdKmt75RY5QsFh0jr9rQl8dMCilPDxpcmI9/+kvEeYjCSRZvewgz+0YkLCdUOdy\n",
       "uHtU8pThXVMjVgXwNqZGaZ9x9AlysZrcy+t5VmdBBjFbOPS9ZRRfD/WkvhO9MB+trKVig5YxXjP2\n",
       "9K3i2AnH0JZQNSbRI+26ce+5p+VhDh9cENcHyedYWQ3/GiN0yuZWXyezTMXO87oM4jGubgJAR3NS\n",
       "yxabyaBcOUYAGGaaX5F6+QEeF73bvG8Mqxfme8+vtpUfKZlCFODhNAAIE5k31IYVCaA9lfO8WQh6\n",
       "jafplom4SV5AIQxg/xJyYHY6kgUUB+vUTJtwhcCUb2rUEz6kTnHdkCfvbQoSF4ho/9N7V6YDIiWY\n",
       "W2YHQ4cA0ca6Ntpd2iz4RMeyZt3O2PaZViw88DIBqDxZ6hMHcdubf4mcMAZGXofda2Rs/3Tz2ryd\n",
       "r9nwaucTRS8GTpRQJbbHpVgSiBwC93qNKDQX9aSBPvo6PsgcDrp9tsNkMfut/hRQNbPGcVK9VO+N\n",
       "oTBp7Mnf/s3MkfPvcGTg/HUUuohAIJAXgHx6ds6mAqQ3+iyKv2KmBM7hxbL3GMr+CG6m4VFKcYi1\n",
       "5HIfTumhOP2WtHDMYUNQ4r42OGR6f1b6fTkeEcxivBn8ltuRzI1u62HYz1RB5WOB51UWcAAEXmob\n",
       "RsPfjh+CpDUJPCy8c1QYPZUnHVCXxQOgOmoP3q4zIxBn20Dxvj1/vIVasRgWEKq409UXWge0PwQj\n",
       "tfnqjrBNwz3wd4sSDbndW1842y798q0BYNoi6IOdkYNkb8dwIJonR2C0a1U8MKch2UnEf+fB+4p/\n",
       "dYxnxTmqhyXpelmv3d61NqqU4f9CfwhA2EhdFopYPDiL/+E+FTu6KAftiZ/QiyqiTeTUqHeUu9wI\n",
       "c9Nn64xXmNQBBWXW+nqwLxGJpY8cnRINXrmjJbz9MmLrwHtDgrXt8mzw2iiXNjb2nDIuxMjaFAqq\n",
       "lQFn6KX8w81Jl4re6hS6Atlv4IIc2++B5L+R8vl3rSJI+gpTQ8sbpUq9smIDAI2v7/aW1fiEzaX7\n",
       "1UO9CTSRTDLSa+u+7733EAt0duA4KubuhdlaUEZN3Gj+XgTswqyVvfzCs69N9141NGgIulgknGNw\n",
       "7K+++ecbqXF1MRNqIA4pdh05MQcD6NofL0fB5gPqdsDvoPSs2LX8OIJjjvz8i+Yq5qwwOwAUpwk9\n",
       "XEuUxm99QupZCN2wAifEvMegGi9kdY5G72NMqzmV0AOz41+uM08Ia8ZNY+rMNWFfoN9jo56hhyaG\n",
       "cQYE0SlirtH8q+wqUQZg7RBl2ttesKuijE/6zBmvCNltSu/5gSXuuRgdn9djpg2tbR4AAEFW0pE8\n",
       "TC7FPtoXni38IBKCvhX8EP5amvyiff5DkY5eZ/BoWMVuYhfWNb+/SMZ/0/3YMarsqwj2XAkoMlXT\n",
       "Qs0UHHms5JRRns9aENaV7QUoOtTi95RcxyPYR+Sur/BpYWHnXcUKSP+7OoDAlxzwxW+nq1FOl2pf\n",
       "MST0OiWDLqPbBHZR4hMcmPI++dYa/VY9dfzVUcg5zdm8UF7pp25rIwL5/KSKimCxKBMvzNLp+QSJ\n",
       "jjeOmx2zwuCLtdL8gk4WIsiLIOvkJzeVlgmITXwrHN9LzHdNcFLQCUCvwaeh2ftPn/8S0MOBwKcy\n",
       "URJSkEUBRtfTzI8C/QBmeFXiPk1sVZ5kjPB8rsRcqK7VVrNVz4ay/ltH/vJ/lFFqQtHLJ2ry3vaJ\n",
       "FqMvQPNKeoTwk7zY5lQN1OJpz60bAecobsG7HH8Bc5mPQHQgq4wrBj7GBSGKclvOKKOMrHaQgDd2\n",
       "aaEdpdl4wAa3lCPaJv6YIPeTF9IztE8Re4IzrrjS/bpwDNE6UZQhAvyFl1AQmskB94U5rzJ0+eHG\n",
       "KVmNEJOR5AEKKvAhjP5iirhmt+q1o7vAdbwR5I5feQ6ssBKNdysw4DT8qkFXLNhbcXcEHSpctO3I\n",
       "HFvEhrdhTqqpKx2TV/nTGphX4iCzhUcjU7Fkqa+EzFpfxrZ/iNG8VJDpZj7mCvT10NYz8o9Dt8PI\n",
       "zlYBFOz05zgz6zaNYLT+qkengpE/6hzE4TbHtXig9m9hMTt5ilpDVHOFtbvDIx9NToTf/L7syEqw\n",
       "NaG0m2q6p+bu5CKAPjH2xd8ypAPwPH3z6iB0AKSKR4KeAA0Qa95fOoV/INEuFmAIFY3rdRnXdDih\n",
       "ajTj6ljiOr0kJk0pORUQbNJ6GMhLz9sXaLMNxxx9WRkAHECXHAvIcgQ72Dfpzf4xrtaFJ0scmqyt\n",
       "HrVxvaG9sGIqTQVztKCuCntHKN7IAovlHDajB3Lpi3vXnPSG1UTdG7yI6XC0TA7LzQ3NhZ9/QfeA\n",
       "r2pBzDWiSKzDfJZ81il96zwNPsLsiKwvZGbD5oqELlrvGBc8luCEOEOm9f9n3m9UFbkBmYl5Jowd\n",
       "FEiumnttT7OKjrh4ZciAIb2h72PjlpSObeKM615ieBDqt2od8v5imK7hxJHeCTeN2KC8cG3PBWCY\n",
       "8HQlYO9l+mRB6yAgZxmzF+vi6MFnvVXbOAi0qKHlobWTFEYd9a+zjqbwHjR+BG/5pbeSU6LtXOtm\n",
       "AiZMmHqPO06Uq9YU9V3f4ujtWdt14z6zi1xZ6AYOaaQAB/Vpe3PuE6ur6iEXL4VCiCyFPYYwpr0A\n",
       "IxLhTfxtLToHvIJz2oE56mEWGG2yjfzv0QT9ccdZ0Kh22eLEWnn1tuRy3XgApjtXOVAqUt53gs9A\n",
       "b4VRAYNQmOavM32k7Cr80cc9tjehUJR36B7l7mpMh4P8rTZIvWbFJ8XnkiRbQmzkJ116YJBNv/7l\n",
       "E0eWIp+21kUXtz0Kqlu7GlAUFshgQXjpF8FUdgiLr5n+XaiD+Uzn0Gwu34L4chG+Qssaq0/gRwsz\n",
       "OL4N0egh2OUy1E4x6+6z0HnyP4kZHLUollD6ot6B4cyC5RQschHASiaPsK1SFLrHPiQvHnWSSwzI\n",
       "pk/jCq5DebaOyNCPIMzGIrt6UPeznb6MWNd9qdDMzhh75J9cb0nF+tzLZyAPpQmMFRkSkOBekZcr\n",
       "mez0eftGF3+1y6sjb3UeqkKIkVORHRNnzXM0C0YLfHAQaiv6lPx/xLbewjaI1Rr5HXTeDVP1Uurt\n",
       "8RGBmkWVggWZpVldSIf5t4uqzS7wTH64K7MAagJmvqnYr5TwyTzoQhxcjkE0SbSM7yz2BlQX9fBp\n",
       "wBQUpU5y9owP+npqI35GczkVLwiPd/xsux17BiRrN0437ZuugwEVl6UGVWKT+qpVIbig8+BaBe4p\n",
       "kTu/voXR5QXabZaZmGKiU3bdRKn2RGs1vP6TyfWu3HFLO/GknnY9gdozRg3WhClHeYh25PUzBvE5\n",
       "YA+r3h4lwUy6ggTxOHzqTzg6N31tKAhlvHFyaVvH2kCEtPZMuOSaiJdhlmORbJsyiKY1D+VQSduq\n",
       "5IdASIaiCK6wN//jA28gc/Qj5PUOEjJ0pWJ74wTWziFBH4okjy+F4e+k2ap3whH3fa3aj7iVYRww\n",
       "0vhHmAgcFK3V6y3J09JrtV+AiFYPdHhhrq4KLVioNLl9UZ+qa1O3BU2ErFWswmDk//FeH/pJb1Pj\n",
       "16TaYlkzLldBafznxbIVgnEQor5jizxWbOquxkeCj/0kAAS7v4kJ8GXJfk49xso+OnkqsecvF71z\n",
       "pyPLeZAyigolB21PdQbxh3U3WRzyB5gQ66E/HM/+wjn4G0o6A9/klyKwF3zHCoDm/pEO08Kvg4FM\n",
       "qBff9zi7Y2Br5brO5A5Juhnab5kV4PpKNg3ZOG0G1T1hRfXk3VAajFsqqgu1s3IXNW9nQINpbc2F\n",
       "ycTcf7GZ0doUT+z+c2mcVrnUQStrxiOCLxA7l/cOCx7jmEZ3L+5ZGRz+qFqUlBKzY67d68ezwpyx\n",
       "EaGkyNj5D2+K0jUvgbPob/5kpFywHYkNdy38AUSbbzuvSg0Zp7Eiu5hu/TtNaixOcZ26BQ9Pe2xj\n",
       "Zc29bh/MXnWEDkEIK/cTDDA/w0KUKK1SY1WbUaxbyx4B8jwGrr1HiJgdvPGabSdTpP6d8iWMs829\n",
       "qtiTUacpOHv3Br9y7aeFk7bcUWIPsfcVTc4nTbtwPlthEzdMm8GjLuW2LLwUAdlO3hxo4i+AitQz\n",
       "ZcV24R9by6P4CEOnTZ1eGjQyBSM6k4SCDruE865PdG5ttWs03myQ1oWrAF7e5kUg26joWxTztfA0\n",
       "O3pAfVFAFxq36/+OuT0USmhITH4Wa+hJxdlEEs9xpAIMUMSYAAADAANrAAACF0GaJGxBD/6qVQAD\n",
       "FYfAANfRFC5eycccmsnBnQp/+3xijsCkBBfWMwwe5sFjA2u0u6JZr3SbDqR2A3bgXwg+P9no97L2\n",
       "csbGcqOAb0ACon7phXIcbfha7rQ79K+9YRhD5Zcg1w/wlE8kxEEuOZv0XNaN61JZxxrBg4W85ZTS\n",
       "VZK6+mR/I1ESXpjMo1s50tMME5uxXxSfNfi5ZK/2Us7HNzzK0hXfUsAeSgipUQbINydILDtLIZWS\n",
       "huY44HVPsJw4DbWwRujw55vNKN9tsNQm7V5fl2nR2l0bNzdxVfEB8j4jE4a1pTtiDIYnxi7Fmdgv\n",
       "nRQCiZYJG1NgmPZ33gcHYkQ5uxUVVwUCwtMs1Og0HarSrhsjibG7po+LHavRFYpbX9NuDrHAVZzB\n",
       "/Iyb/fzuv20Ld4EMxRK0ErPq2AfGPVhb0h8R5WgKZkz9s6t2j8KUuZo0kjA59BJF9V+bYTCjfTqA\n",
       "sa0FJ3cc86Ls1Vjw7MdRxBDQJ4qffV2oJMn4AW9Uc0qqpyZq4Ol+iwa8PqQUD4H59qaSN0mXYU1H\n",
       "hA6vURKXNQ3RHOm/e5DUtTs88BjSV14uwlfwUDOvMwUFUe7dSyaEj6oZJF1BORg91CgwCn051kP9\n",
       "bYw2HxhH5/5ubEcbab5vefS/UbS+MiNhZb3rrW+ose/NOjI1Wlg3Esqlagav9cZ9Fnd9BRC1Hb8R\n",
       "qj99FnS40Gc0fcAAAADEQZ5CeId/AABlNrJTG8/nyEmz7fQjf6JiBJXP6KrfkAy/BtyfiAEuVq2H\n",
       "v/CvfOs6bi3kPbbJc6xWnIBtGbtAyXhNCmkI2SypcwopC1i2S/51qIiOonlplr3yAqqdH+iz2DgZ\n",
       "Gojd0V/jTDq374K3ZAQ4kKPAIXa20Uf7yN8aeBroCYFFrbcFnHaxXBXMybRhYmgUUtpqpknj1Anc\n",
       "tLD/sxNSD9lv64dQJrGjascCq8w4XkEt5JrP8vYzPnwxlCc7NogTcQAAAKEBnmF0Q38AAI6+yG9Z\n",
       "V2jaTigxkgf5fhdlomn7ADdkFGXlHAL8pGM+d1ldwcWOObX9l4s1JYR8jGdE4SELNXhbT+4t766K\n",
       "FWI/cqx6cUuMriiyjg+3WU6XSlmiPVh1MpwuFtsa3E7ceKsUzowUK51G4SP+NOr6++bBud/lUsv4\n",
       "8HFz7zXNIMDbmJ7usV5g4bY3qa7VCquwrFtaTGaHedgA/wAAAHkBnmNqQ38AAAhUf/JQrtKFi9Yo\n",
       "Uh9Uw/4nRxvJVqAIxLYInXt6QJy9Fq1t4/yVuA/R4Bws9HideBf+WBKGA/VSPQmL3n1eLOyiZVUm\n",
       "tXMVW9ozM03M83t6NBmpHZCzWoxBYt/Kv7fWOamqyGCazN68Mb7hZYNc2CkhAAABmkGaZ0moQWiZ\n",
       "TAgh//6qVQADLbNZ8ByfuyAg5+t/1ySXLBffxcbra9AezQPJMED+V0iv9nnI5BsE3eU7aa4ogRA2\n",
       "Wf7R+2/2l0FrIzq3479musZLeosUmBzyGmoYXpqeLj6/IshcjRHrblkm2kM268ORYd+8Abyh9OLN\n",
       "OTCDEOTxxEtGumBKOpzSNFd7UaGPA78eIa3ApHSV+hiuFuUZ8pohxSsdKh+h0bfEIBoQC/cEw1M7\n",
       "i3QS3rXaf2V7+e3DQE2HEx5bDKz71UK18ETpLiJ/r6JuJ6g7/VqOvT0vAecZhXdaOC2hYWjylMya\n",
       "wXXO2nzmQ2AsUIJ83+Sw2OwhXs9t1JqqkB4H79a8WJgZJ/wHNbLVWXuxIKmtKNzsEcUgtWZyhPZV\n",
       "mXDSAXWIo3uWJQw+O148QnjJC0ke5GSs7IHb2j3fH/WnPZN2eE6iYOlyp7gy15h0Q7Xe4xk8FHlt\n",
       "8Z4AFEV68B6xfnZM6XelYPFtza2+8TUnfoq+qQ9CfTeIQWcv44pUok/ZfLDyQpp3AoOWAVIcof5l\n",
       "/+/xAAAAgUGehUURLDf/AAAIVH/yUK7VKfr11abEKxwTzppt0cY/Lnm+IsAJyQ760wLbe5jPSpRx\n",
       "3bBbKU4VzgwaF8cMcfxfPG7auLP2bW6UXW4XibX0PoYJdiRp8ZEyoEkk3rlZZ4coZdDPc4X6Kw9/\n",
       "GIM3MU6WGr2gn9QAQNxgJ3z5f6ksjQAAAEIBnqZqQ38AAAhteukcMYAI1OdFU7qSABCEIzkdA9nq\n",
       "u/O1W/dT0iO9ceFe/B5vJtoR8HX+WIszlH3ePRKC52bz5ScAAACrQZqoSahBbJlMCCH//qpVAARh\n",
       "Aj1AO6XpnvOROrhB0KjatgG6lzWTq8wktqja50HwTdc3mTfOpXDlGnliFrhdAqI4/5DhNHna1qz0\n",
       "08Zl6DTCvFSf8rk1JO92vVyOnySfAn8OR+WLWoPFQ5Re5OCJOgNQGtUFXTFVqbZKq+82sGED4DJe\n",
       "QI/i9XNnkEnaZwRQImCvZVc739vYEN7vlRUp6V3hDQdype/iknEXAAAAukGayknhClJlMFFSwR/+\n",
       "tSqAAARA96/UBATf/yC9f9kdsZ6van82mGF0li4XYGFzxwLnvyKkV+9hbyfG6ioOhzn6iNXqAq2c\n",
       "xy9fw+swmRqeHASKc+GKb7oa+qJgWK9G7rih+8Ql7yJ3xaLWQlJ5H2kUxI3ytkd61h7DWdwsLA9e\n",
       "vgFbXaLTf0tJ/6YqcMtTv5YbuMTJrKL9obOdqxZcceOEBOx7m4evUzLu2R/0m/lrwQwvgQckAABF\n",
       "wAAAADoBnulqQ38AAAMAltegINJjuw0mk8AItBZr+Hlk8MuvEdmVIIYmstYbnWtNbQehZvsDiLpD\n",
       "TIwAAJOBAAAAiEGa7knhDomUwIIf/qpVAAADAIzy5/BPwIAObR1B4qGt0T8/8qqthaHYqQXz9vnD\n",
       "ATzi/HgepCdZcCLT9g0GiE4HnhOwooeAdCI++uV1llC6ue6kCXWewnFeoaWL5DoN/N/Yk2amwD3r\n",
       "YEli5LteugrRcjHrJ/+BY+kClUpCHQ1iIS+qGgAAFNAAAACEQZ8MRRU8O/8AAAMBuNrxo7kp8jVL\n",
       "oAAO0uf/CrPukrLvUvWPTF785EBNg1s0JinhZmXPDCLJFiUtz8hbPkvmXVlr5lyJMDXdIIpHrT+k\n",
       "TrzugGaC73g9r/UhJYXh5ryKpm8Hcj6SivCvZchNl8x0et5CBGFaA6gDg1PfZgBEq/8pmOqAAAAA\n",
       "cAGfK3RDfwAAAwJ8d+MHfoG6VthgBCCHtouDxwh9TS/3IDtMO/HmlS1OkTAqiOBKUNP86CS+3Wkt\n",
       "7b2a2BXkF3dcCAKY/PdC1cRjutH25HLiDikXUmqRc6fscHSyAdxYCU+hYGhcRRx7bIBUjPZaHhEA\n",
       "AABjAZ8takN/AAADAnz0N9ZhK9TYjgAuUFpO/jOYg5vaJuc5FwtkYEonuyXqHwjALfubT+vgDg3Z\n",
       "f2hzf0hJ61XsgbKZaKeslC5cKDX0w2W/kOdcDbDEex4LeMCtnn66Ba1JUEkPAAAAqEGbMkmoQWiZ\n",
       "TAh3//6plgAABZuFvmx8YhCADZQoIU/6v1+FY65/5fkzhnNEEKRsGFfAqQ/YEEqM6AxjMAvyEC7n\n",
       "5iWbm4PFeyiP4fYaR/Zroufhycx0tZ1qCiHFwN+S4j71ENvSIS5ULIO2d3JPaFjGndGjBWtdRaLO\n",
       "wyR4eANtg5lj/FTLoe/V/lFKzB/zo74LJ0rYZfxaliWq2xmeVbtww5KoAABFwQAAAIVBn1BFESw7\n",
       "/wAAAwLKrA6W0mNO9RnZwAC5QvVO1/iInmBaa5HPn5bWnwBGd6x1JOLsngrFv00N6FSsHll/0paV\n",
       "DWHAUoWuL84hW1I1/QPC4aU0TWsEGmZ5IRwt3Xg42eLGaDHG0bKs4D7grDQgOBmFeo1WdY9/Ouog\n",
       "n8+qp6lwBiETjDfgAAAAgQGfb3RDfwAAAwPifMrPeudr/+b3RkACaDS4dnicKd6JVHO1uMtGEZKH\n",
       "k/r36+s84zdSDGI3DpLeuWnZXjJPQTTIZx3ABt770h+eQ/+tIkShbkWY6hM6sxmmbuJEolea+IU3\n",
       "pO415B/NhA58BwtG2m/6GOfCP/2RZ/mu6RARSImCygAAAIUBn3FqQ38AAAMD2YP8FHSgAHFrWBv9\n",
       "2B/Z3543CtFQT4gvbcTTXAi3HNUGUikzjv2OayEqWTQw4XHRwShsPgLhyTgEgVx4vFFcDzifMsLa\n",
       "q4EYoPCfFImWA0XRL1QX/xcHPlvZslRzEEusa4gkh87i15F8d8hx8owUqqDdCvH6ADD8IGTdAAAB\n",
       "q0GbdEmoQWyZTBRMO//+qZYAAGC0pL0W/USKgC8Zj7RQOjyh7i4nQOoW1O8meAW27tdwlQdapsNk\n",
       "nmQzREQLhJ5ynrO9DBzDZdAejUobNBS+X4iJ2fo849kMMJfmFFryEdN8MBMP+38f1VfrLqUX1uKY\n",
       "7/fFb8ExkTyh7or8JSW/g5XSXESbllV0MX3QCKeBVzcYnOT+lBECxeX7ZyhwoFwf//DTvqTpn/5q\n",
       "/ICD+GHwFw5JwCQK48XiiuB5xPmWFtVcCRG53XzbW5guyJBF9a5Ijmgjx/10HXOFEKkQda8iwBKw\n",
       "Qpm0lYN5kR43Z8R2kE2K7KRanIPsc5JIsRNlTAR0L5dmey3NJhAD89YrjmRWRisIluVqi2HB+QFY\n",
       "F/X56W2grwHsWUCVtcyAJ1tplQgoNKTLCpH00vRb1m7YXmuDybHmzg5mqcyv26e1xt4GlW+1u0H2\n",
       "IzCrS63DkELDIhDNN7+feBC6hMMSDHDC+JBKuAOh4Ncywk7t6iD/oIsafOU8ovyq0CqfzBq8KZBV\n",
       "SZ/r5bHnyY28494Trv150DjZDmJDvlbr1AAAHHAAAAAsAZ+TakN/AABDa9dIy6Pbf8gsR3m2xCjz\n",
       "luQEeWz9vKJDgky4LtbAWFNAD/AAAADHQZuYSeEKUmUwII///rUqgAAFlNjxqxZ+UgASoOm0wOmr\n",
       "lqrv6IQ0ln2DYhGmminRNoPk7CDtES7T0LWcFxWIjanQOgo2MPq0d47zIpO1XVCnQMdA8et7aEl2\n",
       "38UPXEjeje25Pyy7lv3B+sD6Id2UaV7KmygrOwTfn0yUjIyJd40cgGN740HmVvUpfOzkIs7OMM52\n",
       "89WtMpe+6lQQX50AtQbGI89r/1fdIRFGoDzDvMrjQ1FoRbsRL9Y/IKg+S6nDWEKvgAABQQAAALJB\n",
       "n7ZFNEw7/wAAEwj+vU05OPKOzgAE5JYvqnOmhDgXkW4mnheeKREgrg/dHLs8CINw7mLACyucVhvp\n",
       "/FsDge1QkOqhu2yfSIPZeSlf3uDGk2M7ialZ9u8R1jleyNi2LfbVavDnhA4bMk+mqi6AwI7iQFhH\n",
       "MYv4aVap6F8w5UAklWO/bzANiwY45A+FaAQT6F4gvSWIa4eXMGS9B0OnVtbz6AgnnfSCxTeJ/4Hw\n",
       "AB0NQAO6AAAAbwGf1XRDfwAAGmQqCC+H/ze4vQATQaXDs8ThTvRKo52txlowjJQ8n9e/X1nnGbqQ\n",
       "YxG4dJb1y07K8ZJ6CaZDOO4ANvfekNss3x2Ux7L+RIo/Y1s0s/f19Gm97VOwWjUCcRWBF4nXS6/3\n",
       "GYBTmgAm4QAAAHABn9dqQ38AABsC36v8nIf4tgBKeZVEldB9iyTz49RsW37JrXNC706hYuWm5Iv0\n",
       "ZYdw842NgQHjtuT5QSqNBYyQa22ZOMOQS+q/Rg3lfPFzS1hUaelEcFFgyQWYd4wmeLNl1PuEeEBi\n",
       "fLdTUAKc0AEXAAAAtkGb3EmoQWiZTAgh//6qVQAACzIln3z9VO+AUiAkFSVRVad9y71Zs6Zj6Kas\n",
       "CucO71NoXnUFCbYeICzQsnTkbWoeOwh7RFAZIZ7MZ75MH7HyKs4+z2qEqOQ1x/J9Ig9l9feex4vT\n",
       "Vicet0GeHo730zcZz68L7jHV7KfXnd+yJiYFRbukJS6/gopY69jvWtNXTiDUoSBKA6aTdC/HxI6x\n",
       "b4zk3LrlUjjHS8n68k7WXvdMTHQAAAVUAAAAlUGf+kURLDv/AAAUFVov7BlG+g4AE0WJW3MyB6lb\n",
       "Bnz0fSdp3jkxM+H5C5EbuDy5ZOO3sqEanQh+v9tbKtoTkiRxVSjbTszjrxpWH3qK45RIdXly86W3\n",
       "CG22D8ocCi8F99GdWdApMGbBS+F6VPotEQY81RHaWvkSpgO4LTejc8gwuig4Rqn1nRm2OeijxLYA\n",
       "AZmIAMKBAAAAXAGeGXRDfwAAG6QllcmAAuTOabFqdP9q7V9CtgT9aIHTotGGHdGWvyPtFi9kCXMx\n",
       "Am2hY7jn4iGOq72jvRfQsVtE4ECRvSTKMy5+nB1ht4WMJ5oZFlwAAAWDEALuAAAAdgGeG2pDfwAA\n",
       "HFJ16/knwUgAFyghJEVPdb8Zw0Lcgpn+4LajMgK23pbhBObyMuQrToGXb1oRsdfCcUmNJkjZQt0b\n",
       "YMXIjvwe0szCKHljnY9UptXLT3bJSteUXIfzaRMK7ZuL3WFO3QHd4pUdutyHjIAAGvyACFkAAAGF\n",
       "QZoASahBbJlMCHf//qmWAABgtKS9G9EPzgKRLSuMmrTQHFgUplJ/vhwyQ+6d/JICJYtr8z4RzIdQ\n",
       "oU1zK8G8I1oWdA6r30K1HWFIqeaoeSGTlRcuP+myuaODv53KJZSzbeh58EGSfTM6lRg9Hnp31PxG\n",
       "xTy9on5U/EIXaV7XZgBqnQx+f9FUylLeJhJ5NfV03buL7Rv2IiIPhaKKJYDix9mM5xXSCRtkeKqP\n",
       "sAEmiZP8/oWzeQSCf7yfocykD2O0oDbgdQ0drLAffcmpTZ/K5iIrWWe0lruB23jWDf+IfTpSxkgk\n",
       "TBqqJ9zByD4fDyV7XFuUuyaPLOQMDUKQIy5nUyolieSYbUr0h5VOoR8azFRoyNWMUKUjiFOe7n/c\n",
       "uhri5Qk1wQTZfu2RcImlyraswHgKUQ60USoF1n9knTIRMxtsbhCa1W4nZx8AxUhok49AtWnpof+W\n",
       "3sSdPJoUIKPbZvHIkXXZiJiUAMcXGo2Vetepx/mDMULuaxXefV9DMVgqoAAA8IEAAAChQZ4+RRUs\n",
       "O/8AADAgk/05eXre1kXoALpQgvqqqHdbYzki/5N+xKhixVIf8yAKnH8K6udb3X4A5OcEZbTyHV7r\n",
       "f+aYSQ7gFR+6PqMRzY/yJ0UuGwxosS8YixRBbpvO3t/5m9J5nTZKMVOw9cTJsZuz/kgWn532wCwR\n",
       "zweLIwk0CP6Ypj3bS50e4bQaGd0NBMOH09Fj4xHaE3Hy5cAArvmAXEAAAABxAZ5ddEN/AAAcTTru\n",
       "j4/ZTZ8AH5xxRedf/ifAQDeihmngjUBhCmNGiDKQEe5IuweHZICgr+xb3k03m5O56iKLSeu1JrnO\n",
       "+xc9lMJNCHLBQlq6zFQcNrIjtokXrZ8YW9SbABRv1fOZCnt1iFAADR9gCbgAAABtAZ5fakN/AABD\n",
       "Yzo4iCnshEPogjvv34f4XAAnWsui99a/ifAQDeO4Laa+zBPguUmTw2740wStuc/vdrr9Pp1V426a\n",
       "0VkgQCp8ZkGYee4BBZzCmKaaLNe9tu1p/7sqrIJOzA6YxXIdqAABjh4BswAAAJRBmkNJqEFsmUwI\n",
       "I//+tSqAAADffHz3uITblX39GsyY1QAGhLFu+WJ2ls7kJzdH9fiHgIk4KXsdm9HOrKE6sxwekZZP\n",
       "vsC+72egbG5FCZRRMV+wLj033Y3/B1Qnb8PNlqasI+EneSUn/pipwy1O/lhu4xMmetFPFKUcEODE\n",
       "j30Ce0p3rSZE12wUkVmhYXBxjc6AAAGXAAAAoUGeYUUVLDf/AAAcVSvHpfgnKemAkAUG5LuaO2G7\n",
       "SSvYV7LnviN1SLQ9nQIm2XWngCL4CArLabcbQftfZx4GFSAwFVQw7/AKsGU2cN23oXGbsvQWL9tk\n",
       "enM9SRsa79P8VJXTijBrQKQXcejH2/1Kewwtrtl1R4fxMbNBmbBvlCI6cCX+ULZsSRRdyuVL17k5\n",
       "9i6g1427Ee17s9IAAAx8wAZ9AAAASgGegmpDfwAAHFKILwrgNi2C1V5JzXLP1aTEtrbfCrdJgBx7\n",
       "kmYR//0FcC9tXM74euK5+oEiXPwh2g4g2f79HZJEa3UF4AIU1AFtAAAAxEGah0moQWyZTAgj//61\n",
       "KoAAAFd+gxRQVl6AB0LMl9pioZo5JKJ2JYA+yEeKXWzcL8qVo1/3YfPzO5a/foNQN+RNBXeNdrWy\n",
       "j3our8rdiNvgwsaxtPR9CqqffRYIDoKl8tuA01pCjmbvZ/hK7d04LhVGyys2GrF6h+nAwu/gjtL0\n",
       "zhOxccEck+lRlkpDBDRxu9wPmxN4ZrHFSTLSFyWOMB4XKN7c+0MImSyoSj0KV//OGHwTDP496x45\n",
       "NAfG83/vGaAAAkcAAABwQZ6lRRUsO/8AABQXDL2obPz0deX5SwJzWhwMM/Exy8SAAQ4hQL3UQko3\n",
       "/Wz02tVs1+insGCGxEQpZ8P0iYmOAx3c9BrpV3IT0qA7uc2imyyUHdWdrIpu0/J4ZAyc2bf2uOgd\n",
       "6J6Y4FY7ZAAgIAAdMQAAAFoBnsR0Q38AABxNPC7tlCsFyeS5c+rFheAjqkSaAEk/+4TbVdBTSa5w\n",
       "3pdW3xqlV2uUtGbe01LZIv/rsLFJ/nokLCTgDnbrQ0v79X+fX6BeUhJwnITABhcQBD0AAACSAZ7G\n",
       "akN/AAAcUogvCtw25/BP0oQIlZoANqqb3xBAodJXYNXcAL+pqdipTp6J0g3i/RTwNv9/ScSr0FIL\n",
       "d1tv9hujTH51icsta3QBUcRqzJaGjkkCaXrC2YnwvlfFE3H0x2yyV1UlJ8cjE6cXC+6KJ/wOVAWY\n",
       "Vwk1g2EwgeElLLIVEClXPLyqozZ59nOAHfAAFbEAAADCQZrLSahBbJlMCCH//qpVAAADALN8Xve2\n",
       "6lQ9vP7OAH0PAgRtqUDK0YzPuy9n8E2T/d38zokwCbG3jmTygVWQPtY2YuI49syTWoQnxx74xxnw\n",
       "NHv7jfj6iTEeOy9gifOBu3PEmgZMQT5h765wB8O4c1M/7HWHclqUDdWFw9vwcCgL4F6IrC8wEp7/\n",
       "wbmS4nk/QTDSL4UgLivS/M7lHUAqKBuxok6rWTK1GxvHAst0SVI+S3wraTUP7RCds5z+b5AAAR8A\n",
       "AACmQZ7pRRUsO/8AABQXDL2obPz0deX5SwHofuIxUtLIWLlMa2z6UEABMn0Z66ZH5kzg5WpqVgBZ\n",
       "4dvwc3j1a5n3Wv9mkA+Xr9MzGMs7NSB50yxWRF1fFj5IfkpydXpD9mwBG94XvXrxEHt1b02G5Hc2\n",
       "NWwZQJUgRsabT7q0IhzaZH39g+t4Kxh5hdkT5mIFX/oEGwoQdRz8Y8yWGJU2mwdvpdAD6gADVgAA\n",
       "AEQBnwh0Q38AABxNPC7tlCsFpTWlhFiSgCJrku6ztudIXGKuSlQ0Otpw7hdwVAWybAGf8rfD/4lp\n",
       "7tOQNMOOxcAD8mAETQAAACsBnwpqQ38AABxSiC8K3DbneaaHkJs45lKixtJX9FX/JiVH+6u/gAMz\n",
       "EAJeAAAAk0GbDEmoQWyZTAgj//61KoAAACQ8wZ/iE5yLb5VrllrRv6CnwB/iiZ4MDmyKAMsgfFtf\n",
       "v9ltGZBGfA6GIwC/+q5ItDpEYHKWgDzwlfBWwEiLLatSYMLlMgo3xh6yd/e+2Nn2WUqHJp4ZOYuN\n",
       "U0on7fhjVshRVkPypaJOly7kyaAfPU1MpGju1WkhZ6guY0hcEAAFBAAAAZtBmzBJ4QpSZTAgj//+\n",
       "tSqAAAAjPMEfHeEfWfgEwXmPO9MhWA+htjpvY68hVnavbmFj9jT1F8MonEaHI351I/xarRnV/anU\n",
       "PwxaNOKo1q4hVM79ongxoFoUFkbnf1/unKIg60v/LkuoMNd7fm2/C8Pu0fqoT4uG2FlneZG8Z54M\n",
       "KQQOhi21+xhb8xO8IbxmXdTu7EkrUfQ6EVMbePnavdCsfysqvO0utug7RZhH0fLX/Vs7buaYd6OQ\n",
       "5hDnEiss5nsYMX6y9fGZr+VrrgSffRYhC9nLTgawT27tqcV5eEe1AXz/eeqwTUw7y41MtxQEdouC\n",
       "Zubcd6R/XbmMinhnEbldqXbuHfGKGIxAELxKEX+tAk3TXu3y6YjyrL0a3YU9NBulgLUse0CkvGn/\n",
       "t5i2C2ZK83orucj9sjwA1yu3s8HZxsNVhnXMN1cc27P+jYl0fPPZ8uOAxWHvCnimFj4CNnA9Xwl+\n",
       "WW2rrMJ04OaBfSD1P5DI9Zd8haGkkmcYhmksgLW2STnlMz93vJUV8MY6Go3A0+N4mkTtKqaABJ0A\n",
       "AAC4QZ9ORTRMO/8AABQWLr1s3eHnzWeApX4K6YpLdzKRlls124QAtpC0SIgkO0i8TjhcBi+aIlG8\n",
       "Mod7ZG5rT99rERI/CAlf1SZIMdDBCX/sreP5aNJFT5nP3q7kBVkbmMnzeS6uY7rhP1TIku5auidy\n",
       "r6YsfVVsHzkjm4YiY1gEKPMIekBN6+PM45aN2bp/K6bQpR69Atedc/Er2umh7uA1QblusYJAqX0Y\n",
       "krRcBqkhcor8Qp7GQAA6YQAAAHIBn210Q38AABxNPC7tlCsE4u1wpzlk9BTWYO/4QyHYAD84+Jc8\n",
       "BtF66AIk5zXjB/JW6ZrqbJKSUTr7zQjPEGS89gZRbFCHNdrxkPUsufA8SvpVCC4wGBpUSsGtDw5R\n",
       "nJl0srWPh3TsUnOMxONATEAAYEEAAACCAZ9vakN/AAAcUogvCtw253mmgsgHCEf6Rpe/4GntHAAn\n",
       "b0FbNmvcK5XRKo52txlowjJQ/V0WMc1KnMDRL8zlki345GGV5iazYtOYzLh9UiS5HyGb0gV08KY4\n",
       "/sOzdwT525ZH7Z/2vdurlZpLfAB5ZfCGkRs/1//QsvHc2YAGbrAD/AAAAK1Bm3RJqEFomUwIIf/+\n",
       "qlUAAAMABMfmgIddCqjGuWDH+GRhNWPTvf/yir/sweIji+BwF7on5/5VVbC0OxUgvn7fOF785UbC\n",
       "y87yFT3zzkrMbGN7ANj3tSA8+qMcMK/yZCR44zmRIOuZzDftvUp79XKr1vPQlcyInx6KwEaVNweo\n",
       "SUKjLI3VhU/NVsA0McBU6Lnqh/Wj0GoFmKmX8aykwcr+92R/J4nyTsHYKmABiwAAAIBBn5JFESw7\n",
       "/wAAFBcMvahs/PR15flLAFXQuRjWV8LWpKYlM07QAXSZCvXYilYdCCvUro6Dfe0QrMXpsFxiAXQg\n",
       "/843gM8YWtnxJRIx97wp4cOSTMFT3cdUV4+I+XsYkdQhqQUAypue+cyu+Fp79ZfN41bX5BHHV6Ev\n",
       "GOPhjwABBwAAAKABn7F0Q38AABxNPC7tlCsE4u0FkGaqd6L5dMCAD4sopEkQoGPAECTg0GC8dteV\n",
       "mx32ntfI6XX21kfzr5wGoZRs3XLbG8xL8cwnNq9zJNWVOGDAc+obEW7Kimtq82BInMzvmeJZvXq6\n",
       "AEAdFmKLqdIVUz+gmi9Jpi+Q9LeXzPLqxTvVUjgsSmEe5bdNJlelDvdOJ22kPFltMyBACgvAAA1I\n",
       "AAAAfAGfs2pDfwAAHFKILwrcNud5poLIBvDe24dKrMeAE01n1L+hyi9dAESbUSDitVEVXoaIvQkL\n",
       "3GZnajsqx5XrnW24hE1YCS40xJ7sSDO/+N4kRs92UAb0D9IDqRnVMeihEdUdceYnAuYLX10P6kJ/\n",
       "UDS53bvQPqOwAp9QAdMAAAF/QZu4SahBbJlMCCH//qpVAAADAAHzNOn8BjfOU5jYEoetDyocMPhu\n",
       "Bauf8W+b/eBoeQ5g9kRtRVCvqKjYJKsOixa5/Xly8f2x8WVZcu6BBGveyqcpGfr8hE54Zs6p53ez\n",
       "4L9K9zUjNP9d5xxu1X2HUZ3/jYsdLfsBImeO4VxVtsFdfU5T4tpynUQnaPPBrat7LOUSIEjZJkGC\n",
       "OgD5fNafUQQi72dUzricYpbGLTmN7/ASxYapWja82GBUuM66ROEo9+oOmyWQP9FeMfggDKP1jvRc\n",
       "yQxeKmD/GV4ETfzHoE2UfjES1s+Lm+Kareuv1W3pdUcFjrY0Z09vFWIPTC8cKpzcYPFJIUJtPYyv\n",
       "xQrpwKuSpCQgMMTRwn7+ijDh59Qd/v5ATc+Rv9VtCeKxalkiujSWzMpgIbI96Nt/XrGZAX+St3xj\n",
       "niSQS3fxxnzA99GPnr67li+bIzr2eplDa5TMe9q+3g6VHE86+X/av5ZuBuRq2/0eIxLD6OGVTZQA\n",
       "l4EAAAC3QZ/WRRUsO/8AABQXDL2obPz0deX5SwBV0LkY1lfBLOJreDhoRiAG7IMyUUYyL+lYnnOG\n",
       "swST0OkXrW/y8+WDYlhUpaZWJ0Bsdg1S7kf4b9DxXNTqGxEMpEHMTbEDOQXzW+gUGFHaU/tTkxy2\n",
       "4WvFY2US0RqKEQJsgpfC0j64yYPQ+QDIcOpTfzO376GrB+lM0VsegYSYZrWcvEV/p81zHrVo3glg\n",
       "MgOrDmiENSUOCtqeIKq0AMuAAAAAcQGf9XRDfwAAHE08Lu2UKwTi7QWQZpvIjIj2jvFAAJuINkBq\n",
       "1be72qEV5uxk3TiHR75J9WT9YH3gtTS1W2USOnFPQ6+AlCHnnocoJceRZlwWkBVCpmwlRTGiMpor\n",
       "/sxwXDLGF+ISXata/yF5+AMMaAH/AAAAiwGf92pDfwAAHFKILwrcNud5poLIBvERfYWPn8u2w+tU\n",
       "AWQpOYXfn86ZvxIeYWwz7siJixPGohCQDzkiC8zZk8Bgg1aZjlJSr38OFvbygh77MG/zz0LPIFbj\n",
       "qMH2aMqHHsQnN2+qc9i95R8CChDgThE8t4mN/NxJpv37Os/V4XEoj15urNdKASEAAZcAAABaQZv5\n",
       "SahBbJlMCCH//qpVAAADAABGGO+BCVXONa5P/BT+AAcJXgX9EWJGb85YcFxEXF56IXWcp1w8KHSc\n",
       "7IyEySLCPflVgonwLZPQSYRSlFXVTl5uHY6VQAgYAAAAL0GaGknhClJlMCCH//6qVQAAAwAARA3d\n",
       "ghSovelD/5mcJRUovrVFQM6DiDUHQAR9AAAAKUGaO0nhDomUwII//rUqgAAAAwAiP2gz67O7qMT1\n",
       "k3l2dOmb1EhZgAMqAAAAoEGaX0nhDyZTAgj//rUqgAAAAwANp8fN1Hd8WbO+KADe4jghIp30AlIm\n",
       "C2u/chBoR1RvvWYwqYoWM3ChuWWDRiyz9L3tu/E9Hmkb9WgwNgXqa+mAJg1l/vCdw9ZfTcji7vwY\n",
       "5uBVGZ+kA7CUMEbIs4i+EdgcsqnbcGJtkSdkV8IkpOLJYUy0rRfb7TnoCbesoh8Uqgo+xul+JjrZ\n",
       "hR2YAVsAAACDQZ59RRE8O/8AABKFUz0mqR61meB8WLboVFRynRRExaTXvdfb/QA3FaJCdn/PGGTQ\n",
       "g4QyzlpZ3VqWT0d4xvZ2/whXD/Dsd/uPaCIa0RPpWHFsiRml1QQnOmmKDzdRgFvf4z3o6AOqfXYW\n",
       "/vEh6x90pLnukcc6Its/k+kcrSC9DAiAqYEAAAArAZ6cdEN/AAAJ8d8eqirdB54JCwq0QyNDh0YG\n",
       "oGgq8Bj79dktDkPORIAdMAAAAIYBnp5qQ38AAAnz0JSa2C/O3IeCpG4f7mgCPkH5RN9ddI0kB8/J\n",
       "nNkx4cSfbiWGc1MPqhdPTYBwRsQw5ycz5Ov7sPHbxYLlNDa0wTwmqVn0PT9OQEwPYvqo0LzYY6hU\n",
       "x5hi7A5t+HOs8Vg6PzfgHqzL+OplSkG9G5Z2UVPJGqpIPujmnsQBbQAAAK9BmoNJqEFomUwII//+\n",
       "tSqAAAADAAVLqR2H5zXAB/R2P8azEtM9duFSTaSSWxTOchu8WycztWLojWI25lkaGNDPeyMgTXPB\n",
       "/tTzmvcTMRjioYFcaEyu5w7mqeVho0zpccVIZsfz8hSIwlM+dW3cHEUPqKd5vPMHOXTqG+b3QXty\n",
       "zZFJc86c1nB6ow+2WRh0G9yXKngEAXBeF41Crm8M45AI3q0EkxlsjvR3VkZ3ADuhAAAAo0GeoUUR\n",
       "LDv/AAAShVM9c4zxX1Ze/m4vaO+HAA2fxdoAM3wU9VkO/MKYDCQzyO6/r1XeVFeUheJ8jD8xTEQC\n",
       "4pQqt4+29ddIWDUNe4rFPW5zXFgvOeT19V3HC70LmV/fjxDu3f6pfR3ouD2rAdICABfqleEshSfa\n",
       "WQPjpT1+VYTNGFnurAimefR4S3XOLrii5MoomKQH6mXaSUD2QltxuG4AakAAAAB2AZ7AdEN/AAAJ\n",
       "8d8eqirdB54JCwqef5twjichxgAA/oq570EY75uv9IpXlp6QMEzG3/JihMlpeX2mLhqfOV8En9lK\n",
       "OfGWfD+V85awLxpP0a/G1Emay7+Zkz2neL1UDuihoDbCp3we+mJEJ3ncoivpXLeySHMCgwAAAEQB\n",
       "nsJqQ38AAAnz0JSa2C/O3IeCpGpqjZOXFVIAPzkXkGofMUY/1h/8CZt2SF5TyTsM/YJNHUwhFkwb\n",
       "QyjFD7wfZYgBUwAAAUxBmsZJqEFsmUwII//+tSqAAAADAAUn0nofbpEE+rciwEgG2KSe+xHEWqx4\n",
       "8A4zTnahYWgS7sIYTDzcDSTzlW2gI4PsQK7LSjNOyD4LLKTchKMkmQAxMl/nryJyTv/oAe7PivSm\n",
       "hBN8l4TaAaUrXqYaOMSRA83zzpCr0TjqQ0njFpSbHJyyqU/G0iAzeAvafMmivkedxULdH6G9y8fC\n",
       "6Py9s9QPPr45/UXELHhr1yogX4FYC1HdNEC0+VjqBJIwZbu810zhsv6PziqHekp9qsCzTCD4C2Ig\n",
       "XQLVkPJt0p7e+UwYAihfeSBFlCPpYPuPOjOIMsU9PmFqvvZEHkhtR/0sKpt0HO210d2fkwI7yhp7\n",
       "xL4N2TCHKDUPlqpvW8Qmcl5bBI451aW5L+gHAl5+X/B21+tGkdZQxBJ9MfBhbagO7ij9k7OK83D6\n",
       "mBJIwQAAAIFBnuRFFSw3/wAAGlzpXOmf3uRV4IoJ36PTbABWRP3we/XSdVMErAA4p2PFnILcRGnE\n",
       "h/eZtYhNXmWnMvAuzjaYYrEJ/RmTEleMDGXeld2tJu5ZSi10b/+WxsfUYABYV6/7LVBgqtnyMptE\n",
       "0nxlY3FieEr38l4ZLix2fghWH3wApIEAAAA9AZ8FakN/AAAJ89CUmtgvztyHgqRqS8Gvq3t6d1Rx\n",
       "eKeABc3wf+zGanPnOM5647e+cUhnTFtydBxFK0AUkQAAALNBmwpJqEFsmUwII//+tSqAAAADAAID\n",
       "9+2VrOO54AjxJMog+xkoSEh/Vfn4nxmhISCNEhPKFM978dU9fj2Ykp9UU4HEXL59Lb/2TCJv+evC\n",
       "OmacPtji8jzCqpzRrx3mmQTb1qurtRjJsWVcz5G/v7d858qyo+i44GuyYEzhdtftk+KOBxWfVfmQ\n",
       "TR3AzULI6hL+nOgN+z0jtTSsMMxpN28IZF7ItijIT/R7cP0pwqRDc0wMqQAAAK1BnyhFFSw7/wAA\n",
       "EoVTPXOM8V9WXv5uL2jvhwAFUJSvaAYTmw9VQAtOSZXGpNOdzKxpadz8qsm/UtIYVBI/A8ScI7nd\n",
       "XM3nc3Ai0E6f3k8AP1XfuzfO9Fe8EvPgUHrZW8lbt46M/m4c/iOq4zxXhWLSN9Cz8UP3SuABXXH8\n",
       "mhI8h80mS7/VULtiq1d8QoWPp7y3IB9pzWlTp+wx0D5Bu2l7nTLUkk7Ud4DB4gAYEAAAAIYBn0d0\n",
       "Q38AAAnx3x6qKt0HngkLCp2A2Ceb8fQ9WAC5xr9Y0EnZ6mbipOk9XVcyfTmmXyIXpEfBeQ5P2bbJ\n",
       "pv2fEtYFDHMSkLjjw7BNNnd1o1hw8RUGMvAJNtRecAn6fQCli1NdKNuWO45nyqggI/i8dya44rfp\n",
       "EcLVkfU5hH+y78CjDADPgAAAAGkBn0lqQ38AAAnz0JSa2C/O3IeCpGo6nmXSKlKpACXJRmR88loy\n",
       "rzKfXzYOOhEyq3vFzoUdJEmfT4He8VPg/plHkNkxcPW1fTBRmxHzC5IsPKmdhi0QBZWtfUHaYHV9\n",
       "MQdFFLXi/UcAGzEAAACeQZtOSahBbJlMCCH//qpVAAADAAADA9DeCA3g7c8XsVAAHQozr+KJEjAl\n",
       "qwA0r0dm35wlvSWaUfB+SbtDMcLUV0n5OQDOF1rlQE72ir/azvt+RdTfZsp17YMKHAumBIo+Pyo/\n",
       "/A1Kiutt6HCnFJqrN+HMRlNlMHTQJ3XGq3AYygTy6QwDfOdmNGMxn0Y7jtCtFwHggRNqaVG520P0\n",
       "HrAAAACDQZ9sRRUsO/8AABKFUz1zjPFfVl7+bi9o74cADFjvQFXgAfwJpdlAHoI28ee0u63LMIWJ\n",
       "ocoKsnkBdALfTfOWppyqX4dFhxEXdqz0PUMaeNagsJLac/vMKyqb+DNVWGo5JpkR8xMVKiatO033\n",
       "e9DtQvpK92c6pxC7bdhucqqhUlgAAoIAAABUAZ+LdEN/AAAJ8d8eqirdB54JCwqVQOrPAB/PARMl\n",
       "a32sf8ooCUPs6kbrORMlnyunrLRaH1lv7N9cuwbaogHfKSc4+/5BxjeLE8LAO71NgXEv2gD/AAAA\n",
       "bAGfjWpDfwAACfPQlJrYL87ch4KkahkH4nl4AJyQRmcuQORMyJnfITQ9CuQGWm5+1xrxbdlSzmk+\n",
       "EP8ApTpSDQNoy7v/l8/rd9kQeSK6YBzE3tWuA046lDoSh21WJNs1pT7mF3+Lo4pveABhQQAAAJ5B\n",
       "m5BJqEFsmUwUTBD//qpVAAADAAADA7+zVqh7Dh8AGrg6qAPr8R3zcozwiz3xfhSSrZ6uU6X5iEiZ\n",
       "ZVzF5E7q7JJ71BQ6YVb1srBuaWJq3bpJBglVMVJ18Jnpq7fM2wi/w1i5XY53rc5LEQqI7jqsrwdv\n",
       "8THRoaQf/NJu//Jo5BLQAwUHGAltSkwFD4+tz+0uRXwg9Va06jbv8hoBUwAAAI0Bn69qQ38AABpl\n",
       "NZ2mC5F5SttM/R9R6a4AJ6LF/RY4FDTPEqQAli6HizkFuInFXw/EpD7km7Lp/Gcz8BAPzy+NJ5R4\n",
       "eiYA9tQBUnq6EDZgbG26qByle+jXdyGGYhI3SmgyyPe0psfdfADc7dqQ27uNij5Zf7/D8ihDad8v\n",
       "BI8usrVxBFHR9/ppmd+ABOwAAAD/QZuxSeEKUmUwII///rUqgAAAAwAEo9V78qlnyjaCIVjpG/hw\n",
       "AF76Nv9mucM/mHoh6hZFPpGZw9tMcOCvY5pb2ejpJTyhxPav+KBkI8hpIR160jtwx3Zv9UTDe+59\n",
       "8WYaBcL23oZSZmIo0YErvpbfDT7QHHDNT+ceTN99xzHIUUnGP0we3J3tlKoVRu+f801BLZvqR7S0\n",
       "wwrIH8o4ebue8bIzJBnxey/+h4qnaYwl9FUyX8uGrIjlaHipJydLNGIHlYz3s2vg1xqsYxYQTZwU\n",
       "y6Vn8DDZosuKRd3BzHzf892e9HHBANwOwumFYFpXzE2RHh9W0gx03PGQG9F8HMCAAAAAl0Gb1Unh\n",
       "DomUwII//rUqgAAAAwAEp+zUqIVsAFmcZpxxSm9yqZJyXISryBcY4Q1ZmXp4pNbun3+9fiyaS8Bp\n",
       "ksfyQsMHvGBum+tsXoUxMJAoyxW6f5Ygszk2n/wa+UydNN/cRoxPJ+S3opQTXBeQ0OnSP6zz2hLY\n",
       "TxG4dJb19BLxeNd8fOfQKcQ35JRokUSUR4QvfWaAsoEAAACkQZ/zRRE8O/8AABKFUz1xlv17D2o7\n",
       "rhUkd8KABNCd2vwbcxpQAsLk1j6/ty8FyS6fikSpkT3pOxVEew6v+PYB6Deif94hrH7ZxpZecyoj\n",
       "bdxw56CvY9Dj6/glZo8JTlwaPQQjOlzsL7qZnhpNwxlqKP9lS6DwSAIVwsZKmWeBHfgx8/S+ffFe\n",
       "PbUiFn95fd7UBK/Zzwdf+mWlirFZ7Fu5qgAA3oAAAABAAZ4SdEN/AAAJ8d8eqirdB54JCwqclIF5\n",
       "Cope2s2xuAFqxR9DyAz5RX+DSHMdG6ba3divP3qmSW7HoacmOuAGzAAAADABnhRqQ38AAAnz0JSa\n",
       "2C/O3IeCpGoIyYXjZrjlBeMg32QuFN4GKtkjfLtgtYoAUEEAAAC/QZoZSahBaJlMCCH//qpVAAAD\n",
       "AAAW4Q08AI3ry/4Vo8TDk1LY26HFw1X6YerTkHm+fmCbFhZbKxV3Wt1D+6YsftOSNK3r9daj01Ll\n",
       "HNHcE5xUxf4K5avSNcryU483XVEXuAUkgSfmiLC8YrZdyVsppRQc3WTqjDxneGu/M3Pr/WCo0UN1\n",
       "HO6cx1X/LfMC9zpao+gCBeYznMFCc5cI6TkiCckzwbUw9R2pDeoaxpMglnqoQUC2LMDCSriDlO+A\n",
       "G9AAAACBQZ43RREsO/8AABKFUz1zjPFfVl7+bi9o74cAHT9QKMd07eYuAEIF7XmZFkPe/AHERkZE\n",
       "ID8i5Bi+CSmKXw0uvvgVbJE+CcmHq0sngXXHo465rvLQ5qCMP9M4Nz03kwnQ9ICVd4w+fJWWP84E\n",
       "GF1fCKAR5fnhtQLkMQXkJBHAABNxAAAAigGeVnRDfwAACfHfHqoq3QeeCQsKnBvjD4AJyMahr9Pr\n",
       "mqFew5umIeZSXZ9jgIFbsoe7CUyoe9IZkl2RZB0tlZ6m/e/RkEUwm48lI3I/1HBbnnHgCBJwaY1l\n",
       "vqmeG+F45+9Ll2L3BwrdGLij+7bsZ7VvEaq6ezM03wLUwD/6kRwG9QO2W3gXv8AVsQAAAHsBnlhq\n",
       "Q38AAAnz0JSa2C/O3IeCpG0ZDdasKAG6A1Cm3trBuTvqItjx+HioDqcGH5Lt1WUARX9DL4KWmUhy\n",
       "XEevBMER9mesRS3vNbfUjOxmYPzLwcXdRjsXmhXSxPSPa8tMHYsGfMoUojhW4NxRezFvfcaLOIl6\n",
       "tHMAIWAAAACBQZpaSahBbJlMCCH//qpVAAADAAAW6BopEyuzfAA2lHyVTmDaX5IrHfJQiDfhTQ8w\n",
       "gH+P/rbPLgs+uUULp70TEPkkkj45a7/5gy9Lpqq9J5WbKEGI1AVJyq8zYTUhQcckC5M1R8JI4oY6\n",
       "NRFr4CtXNcSxaY7x8hD0FvxQuGExsAGDAAAArkGafUnhClJlMCCH//6qVQAAAwAAN9xfwZQAVquK\n",
       "hdQPTz5y5/sNwYE8HTPMJQys1XmEAaHFzCc98OQBKJHfJJB/XkxZnV2C7ZM5diTa+XBnsWiEV1/U\n",
       "IoqZnndVw7tUQrwUMHv7uQz9XCR4G5XqVUH/kmXBBj+92qTMG498jsBaNgvGuaO1aoCunjAtVl1D\n",
       "HXn9Tn8eQR0WQJiCZgrrcfBWIqGdhRP/5GxqZABcQAAAAFVBnptFNEw3/wAAGlzpXOSY+5Oq69pt\n",
       "10EjcQBkTVATT1zTeuVByRQAG4ozi+1AADM4ACDi6ZkAFZGN+IbKCFOEBxVLtoi+uBVtwUQrQiA5\n",
       "JGhIAAflAAAAMQGevGpDfwAACfPQlJrYL87ch4KkdIrUzarxGTfLJyICc3nWTC1u8kO8kYLDJA6w\n",
       "BcUAAAEHQZqhSahBaJlMCH///qmWAAADAATHld9flWnBwAmmkV8t1GBfsd8H9aeVUzhqG45U1oby\n",
       "sH4o43ecjSsUoauecWh0EtZ6HoaqlqeuRrG+EvcmTmef9/vBiSRHRQMTKHM3F9WH77XmTjBo5+6I\n",
       "KkBEAPziCAkHYrGlpeLD51703sA2tez6GtxMwHJSglCkolDsKJ8r5ArXOjM42RN+JBvEq+f0IXiq\n",
       "EbnAFLNCFCzJHHx6oZGQGRVfJWd6Bj02wEivQ1ilexxBTavgcnc9mecuUSxIumaoXEAArfTpPDp3\n",
       "F3JDybRqym1LpigwSV6ewBE5GdlSBg98DkoWhEAjfCyQ9KL4cAwAkYAAAACVQZ7fRREsO/8AABKF\n",
       "Uz1zjPFfVl7+bi9o74cBlEDYdOCPhF7doHlKPocADcVokJ2f88YZNCDiVZ0fZWVRmBwG5SvxZd6D\n",
       "P1vxbwQJVrpQvcTQT3Pt9HkLyKLDlJDkwNTvKbrbbtxsoezo8k7iHYU01zrmayjLW6jL/WRSiQD5\n",
       "nQea+m/Uqpgmdf0upyNeBOQU1MMAJOAAAAAzAZ7+dEN/AAAJ8d8eqirdB54JCww2GqWOorGDxjKJ\n",
       "i9diepgGppgXNxAfxY0pC+eoAAtpAAAAiQGe4GpDfwAACfPQlJrYL87ch4KkrSELhWfRfx0VwAll\n",
       "AXtgYa1C8NC5ictDRTHBxIHrMToHwikMdNBOAtE6TbyXXxB3nLZr+Lm0kmMu5QsGa/9WaHaD5sqi\n",
       "iBRAFKhXGrwVHtTpW0W9UWqxaG5y/BtPmUsDsBSDpjxySdU9Hc01zAxrPgsLcAUkAAAAekGa40mo\n",
       "QWyZTBRMN//+p4QAAAMABDU0fQIARTm59aWMX0IXI/4JC6Kh/wPFiFYh7Ra/oi0W96abZEUhP68B\n",
       "JeF0oIV/kHN85Q62jkUu2O+3LJeOXfDuREtAIcmnXPO8G4sSViMIuz8qsUKysG06DpPHIrzLsY1w\n",
       "AFfBAAAAiAGfAmpDfwAAGmU1naYLkXlK20z9H1HprgUYXC2K5OQ8AEWgskaBxpFBFmVoDL7jW/g6\n",
       "mfgZGXWqJUKiXuUeujmuPzsbm+/lR4HHsr7f/CDVAEGjXVxeQVi7CpxTTunfMfMLkd3xHl4+YVjJ\n",
       "7phEW/1mvUTOf2B3rmwFEV7sM1JxVf+gGjAAIeAAAAeubW9vdgAAAGxtdmhkAAAAAAAAAAAAAAAA\n",
       "AAAD6AAAJxAAAQAAAQAAAAAAAAAAAAAAAAEAAAAAAAAAAAAAAAAAAAABAAAAAAAAAAAAAAAAAABA\n",
       "AAAAAAAAAAAAAAAAAAAAAAAAAAAAAAAAAAAAAAAAAgAABth0cmFrAAAAXHRraGQAAAADAAAAAAAA\n",
       "AAAAAAABAAAAAAAAJxAAAAAAAAAAAAAAAAAAAAAAAAEAAAAAAAAAAAAAAAAAAAABAAAAAAAAAAAA\n",
       "AAAAAABAAAAAAkAAAAJAAAAAAAAkZWR0cwAAABxlbHN0AAAAAAAAAAEAACcQAAAIAAABAAAAAAZQ\n",
       "bWRpYQAAACBtZGhkAAAAAAAAAAAAAAAAAAAoAAABkABVxAAAAAAALWhkbHIAAAAAAAAAAHZpZGUA\n",
       "AAAAAAAAAAAAAABWaWRlb0hhbmRsZXIAAAAF+21pbmYAAAAUdm1oZAAAAAEAAAAAAAAAAAAAACRk\n",
       "aW5mAAAAHGRyZWYAAAAAAAAAAQAAAAx1cmwgAAAAAQAABbtzdGJsAAAAs3N0c2QAAAAAAAAAAQAA\n",
       "AKNhdmMxAAAAAAAAAAEAAAAAAAAAAAAAAAAAAAAAAkACQABIAAAASAAAAAAAAAABAAAAAAAAAAAA\n",
       "AAAAAAAAAAAAAAAAAAAAAAAAAAAAAAAAGP//AAAAMWF2Y0MBZAAW/+EAGGdkABas2UCQEmhAAAAD\n",
       "AEAAAAUDxYtlgAEABmjr48siwAAAABx1dWlka2hA8l8kT8W6OaUbzwMj8wAAAAAAAAAYc3R0cwAA\n",
       "AAAAAAABAAAAZAAABAAAAAAUc3RzcwAAAAAAAAABAAAAAQAAAwBjdHRzAAAAAAAAAF4AAAABAAAI\n",
       "AAAAAAEAABQAAAAAAQAACAAAAAABAAAAAAAAAAEAAAQAAAAAAQAAEAAAAAACAAAEAAAAAAEAAAgA\n",
       "AAAAAQAADAAAAAABAAAEAAAAAAEAABQAAAAAAQAACAAAAAABAAAAAAAAAAEAAAQAAAAAAQAAFAAA\n",
       "AAABAAAIAAAAAAEAAAAAAAAAAQAABAAAAAABAAAMAAAAAAEAAAQAAAAAAQAAFAAAAAABAAAIAAAA\n",
       "AAEAAAAAAAAAAQAABAAAAAABAAAUAAAAAAEAAAgAAAAAAQAAAAAAAAABAAAEAAAAAAEAABQAAAAA\n",
       "AQAACAAAAAABAAAAAAAAAAEAAAQAAAAAAQAAEAAAAAACAAAEAAAAAAEAABQAAAAAAQAACAAAAAAB\n",
       "AAAAAAAAAAEAAAQAAAAAAQAAFAAAAAABAAAIAAAAAAEAAAAAAAAAAQAABAAAAAABAAAIAAAAAAEA\n",
       "ABQAAAAAAQAACAAAAAABAAAAAAAAAAEAAAQAAAAAAQAAFAAAAAABAAAIAAAAAAEAAAAAAAAAAQAA\n",
       "BAAAAAABAAAUAAAAAAEAAAgAAAAAAQAAAAAAAAABAAAEAAAAAAMAAAgAAAAAAQAAFAAAAAABAAAI\n",
       "AAAAAAEAAAAAAAAAAQAABAAAAAABAAAUAAAAAAEAAAgAAAAAAQAAAAAAAAABAAAEAAAAAAEAABAA\n",
       "AAAAAgAABAAAAAABAAAUAAAAAAEAAAgAAAAAAQAAAAAAAAABAAAEAAAAAAEAABQAAAAAAQAACAAA\n",
       "AAABAAAAAAAAAAEAAAQAAAAAAQAADAAAAAABAAAEAAAAAAEAAAgAAAAAAQAAFAAAAAABAAAIAAAA\n",
       "AAEAAAAAAAAAAQAABAAAAAABAAAUAAAAAAEAAAgAAAAAAQAAAAAAAAABAAAEAAAAAAEAAAgAAAAA\n",
       "AQAAEAAAAAACAAAEAAAAAAEAABQAAAAAAQAACAAAAAABAAAAAAAAAAEAAAQAAAAAAQAADAAAAAAB\n",
       "AAAEAAAAABxzdHNjAAAAAAAAAAEAAAABAAAAZAAAAAEAAAGkc3RzegAAAAAAAAAAAAAAZAAAJZ8A\n",
       "AAIbAAAAyAAAAKUAAAB9AAABngAAAIUAAABGAAAArwAAAL4AAAA+AAAAjAAAAIgAAAB0AAAAZwAA\n",
       "AKwAAACJAAAAhQAAAIkAAAGvAAAAMAAAAMsAAAC2AAAAcwAAAHQAAAC6AAAAmQAAAGAAAAB6AAAB\n",
       "iQAAAKUAAAB1AAAAcQAAAJgAAAClAAAATgAAAMgAAAB0AAAAXgAAAJYAAADGAAAAqgAAAEgAAAAv\n",
       "AAAAlwAAAZ8AAAC8AAAAdgAAAIYAAACxAAAAhAAAAKQAAACAAAABgwAAALsAAAB1AAAAjwAAAF4A\n",
       "AAAzAAAALQAAAKQAAACHAAAALwAAAIoAAACzAAAApwAAAHoAAABIAAABUAAAAIUAAABBAAAAtwAA\n",
       "ALEAAACKAAAAbQAAAKIAAACHAAAAWAAAAHAAAACiAAAAkQAAAQMAAACbAAAAqAAAAEQAAAA0AAAA\n",
       "wwAAAIUAAACOAAAAfwAAAIUAAACyAAAAWQAAADUAAAELAAAAmQAAADcAAACNAAAAfgAAAIwAAAAU\n",
       "c3RjbwAAAAAAAAABAAAALAAAAGJ1ZHRhAAAAWm1ldGEAAAAAAAAAIWhkbHIAAAAAAAAAAG1kaXJh\n",
       "cHBsAAAAAAAAAAAAAAAALWlsc3QAAAAlqXRvbwAAAB1kYXRhAAAAAQAAAABMYXZmNTcuNTYuMTAw\n",
       "\">\n",
       "  Your browser does not support the video tag.\n",
       "</video>"
      ],
      "text/plain": [
       "<IPython.core.display.HTML object>"
      ]
     },
     "execution_count": 5,
     "metadata": {},
     "output_type": "execute_result"
    },
    {
     "data": {
      "image/png": "[encoded data removed]",
      "text/plain": [
       "<Figure size 576x576 with 1 Axes>"
      ]
     },
     "metadata": {
      "needs_background": "light"
     },
     "output_type": "display_data"
    }
   ],
   "source": [
    "# First set up the figure, the axis, and the plot element we want to animate\n",
    "fig, ax = plt.subplots(figsize=(8,8))\n",
    "ax.set_title('Pyramid vector quantization S(2,2)')\n",
    "ax.set_xlabel('x')\n",
    "ax.set_ylabel('y')\n",
    "ax.set_xlim(( -3, 3))\n",
    "ax.set_ylim((-3, 3))\n",
    "\n",
    "line_input, = ax.plot([], [], 'gx', lw=20, label='input')\n",
    "line_output, = ax.plot([], [], 'kv', lw=20, label='output codebook vector')\n",
    "line_preproj, = ax.plot([], [], 'kx', lw=20, label='pre-projection vector')\n",
    "ax.scatter(normalized[:,0], normalized[:,1], label='normalized_codebook')\n",
    "ax.scatter(codebook[:,0], codebook[:,1], label='codebook')\n",
    "ax.legend()\n",
    "ax.grid()\n",
    "\n",
    "# initialization function: plot the background of each frame\n",
    "def init():\n",
    "    line_input.set_data([], [])\n",
    "    return (line_input,)\n",
    "\n",
    "# animation function. This is called sequentially\n",
    "def animate(t):\n",
    "    pt = np.exp(2*np.pi* 0.01 * 1j * t)\n",
    "    x = pt.real\n",
    "    y = pt.imag\n",
    "    line_input.set_data(x, y)\n",
    "    act, rounded = pvq_search(np.array([x,y]), 2)\n",
    "    \n",
    "    line_output.set_data(rounded[0], rounded[1])\n",
    "    line_preproj.set_data(act[0], act[1])\n",
    "\n",
    "    return (line_input,)\n",
    "\n",
    "# call the animator. blit=True means only re-draw the parts that have changed.\n",
    "anim = animation.FuncAnimation(fig, animate, init_func=init,\n",
    "                               frames=100, interval=100, blit=True)\n",
    "\n",
    "HTML(anim.to_html5_video())"
   ]
  },
  {
   "cell_type": "code",
   "execution_count": 7,
   "metadata": {},
   "outputs": [
    {
     "name": "stdout",
     "output_type": "stream",
     "text": [
      "For N=2, bits for gain= 7, bits for shape=3\n",
      "For N=3, bits for gain= 6, bits for shape=4\n",
      "For N=4, bits for gain= 5, bits for shape=5\n",
      "For N=5, bits for gain= 5, bits for shape=5\n",
      "For N=6, bits for gain= 4, bits for shape=6\n",
      "For N=7, bits for gain= 4, bits for shape=6\n",
      "For N=8, bits for gain= 4, bits for shape=6\n",
      "For N=9, bits for gain= 4, bits for shape=6\n",
      "For N=10, bits for gain= 4, bits for shape=6\n",
      "For N=11, bits for gain= 4, bits for shape=6\n",
      "For N=12, bits for gain= 4, bits for shape=6\n",
      "For N=13, bits for gain= 4, bits for shape=6\n",
      "For N=14, bits for gain= 4, bits for shape=6\n",
      "For N=15, bits for gain= 4, bits for shape=6\n",
      "For N=16, bits for gain= 4, bits for shape=6\n",
      "For N=17, bits for gain= 4, bits for shape=6\n",
      "For N=18, bits for gain= 4, bits for shape=6\n",
      "For N=19, bits for gain= 4, bits for shape=6\n"
     ]
    }
   ],
   "source": [
    "for i in range(2, 20):\n",
    "    a_g, a_f = gain_shape_alloc(10, i, -2)\n",
    "    print(f\"For N={i}, bits for gain= {a_g}, bits for shape={a_f}\")\n"
   ]
  },
  {
   "cell_type": "code",
   "execution_count": 7,
   "metadata": {},
   "outputs": [
    {
     "name": "stdout",
     "output_type": "stream",
     "text": [
      "[-1, 1]\n",
      "in: [-1, 1] idx: 4 decoded: [-1  1]\n"
     ]
    }
   ],
   "source": [
    "c = [-1,1]\n",
    "b = encode_pvq_vector(np.array(c), 2)\n",
    "print(c)\n",
    "decoded = decode_pvq_vector(b, len(c), 2)\n",
    "print(f'in: {c} idx: {b} decoded: {decoded}')"
   ]
  },
  {
   "cell_type": "code",
   "execution_count": 8,
   "metadata": {},
   "outputs": [
    {
     "name": "stdout",
     "output_type": "stream",
     "text": [
      "in: [2 0] idx: 6 decoded: [2 0] success: True\n",
      "in: [-2  0] idx: 7 decoded: [-2  0] success: True\n",
      "in: [1 1] idx: 2 decoded: [1 1] success: True\n",
      "in: [ 1 -1] idx: 3 decoded: [ 1 -1] success: True\n",
      "in: [-1  1] idx: 4 decoded: [-1  1] success: True\n",
      "in: [-1 -1] idx: 5 decoded: [-1 -1] success: True\n",
      "in: [0 2] idx: 0 decoded: [0 2] success: True\n",
      "in: [ 0 -2] idx: 1 decoded: [ 0 -2] success: True\n"
     ]
    }
   ],
   "source": [
    "for c in codebook:\n",
    "    b = encode_pvq_vector(np.array(c), 2)\n",
    "    decoded = decode_pvq_vector(b, len(c), 2)\n",
    "    print(f'in: {c} idx: {b} decoded: {decoded} success: {np.allclose(c, decoded)}')"
   ]
  },
  {
   "cell_type": "code",
   "execution_count": 8,
   "metadata": {},
   "outputs": [
    {
     "data": {
      "image/png": "[encoded data removed]",
      "text/plain": [
       "<Figure size 432x288 with 1 Axes>"
      ]
     },
     "metadata": {
      "needs_background": "light"
     },
     "output_type": "display_data"
    }
   ],
   "source": [
    "x = np.arange(-1, 1, 0.01)\n",
    "y = mu_law_fn(x)\n",
    "x_hat = inv_mu_law_fn(y)\n",
    "plt.plot(x, y)\n",
    "plt.plot(x, x_hat)\n",
    "plt.grid()"
   ]
  },
  {
   "cell_type": "code",
   "execution_count": 13,
   "metadata": {},
   "outputs": [
    {
     "name": "stdout",
     "output_type": "stream",
     "text": [
      "in: [2 0] idx: 6 decoded: [2 0] success: True\n",
      "in: [-2  0] idx: 7 decoded: [-2  0] success: True\n",
      "in: [1 1] idx: 2 decoded: [1 1] success: True\n",
      "in: [ 1 -1] idx: 3 decoded: [ 1 -1] success: True\n",
      "in: [-1  1] idx: 4 decoded: [-1  1] success: True\n",
      "in: [-1 -1] idx: 5 decoded: [-1 -1] success: True\n",
      "in: [0 2] idx: 0 decoded: [0 2] success: True\n",
      "in: [ 0 -2] idx: 1 decoded: [ 0 -2] success: True\n"
     ]
    }
   ],
   "source": [
    "for c in codebook:\n",
    "    b = encode_pvq_vector(np.array(c), 2, N)\n",
    "    decoded = decode_pvq_vector(b, len(c), 2, N)\n",
    "    print(f'in: {c} idx: {b} decoded: {decoded} success: {np.allclose(c, decoded)}')"
   ]
  },
  {
   "cell_type": "code",
   "execution_count": 31,
   "metadata": {},
   "outputs": [
    {
     "name": "stdout",
     "output_type": "stream",
     "text": [
      "bits_gain: 7 bits_shape 34\n",
      "original gain: 2.096183593794986\n",
      "k 26 used bits 33.96013838797717\n",
      "Encoded codebook vector: [ 4 -3  2 -1  4  3  0 -4 -1 -4]\n",
      "Quantized shape index: 12651263935\n",
      "46 12651263935\n",
      "7 34\n",
      "decoded gain:2.1385522808407327\n",
      "k 26\n",
      "Decoded codebook vector: [ 4 -3  2 -1  4  3  0 -4 -1 -4]\n",
      "input: [ 0.50109109 -0.79484578 -0.50507654 -0.87120909  0.2676444   0.03753963\n",
      "  0.36513157  0.92884837 -0.78289436 -0.5285729 ]\n",
      "vq_decoded:[ 0.91188176 -0.68391132  0.45594088 -0.22797044  0.91188176  0.68391132\n",
      "  0.         -0.91188176 -0.22797044 -0.91188176] scalar_decoded: [ 0.93333333 -0.66666667  0.4        -0.26666667  0.8         0.66666667\n",
      "  0.         -0.93333333 -0.26666667 -0.93333333] fp_decoded: [ 0.62561095 -0.87585533 -0.62561095 -0.87585533  0.37536657  0.\n",
      "  0.37536657  0.87585533 -0.87585533 -0.62561095]\n",
      "vq_err:-26.32956462920552dB scalar_err: -28.07217127920019dB fp_err:-21.511811395114947dB\n"
     ]
    }
   ],
   "source": [
    "L = 10\n",
    "x = np.random.rand(L) * 2 - 1\n",
    "b = 41\n",
    "k_fine=-2\n",
    "gain, shape = quantize_gain_shape(x, len(x), b, k_fine=k_fine)\n",
    "print(gain, shape)\n",
    "dequantized = dequantize_gain_shape(gain, shape, b, len(x), k_fine=k_fine)\n",
    "\n",
    "vq_error = 10*np.log10(np.mean((x-dequantized)**2))\n",
    "\n",
    "# calculate scalar quantization error\n",
    "scalar_quant = vDequantizeUniform(vQuantizeUniform(x, int(b//len(x))), int(b//len(x)))\n",
    "sq_error = 10*np.log10(np.mean((x-scalar_quant)**2))\n",
    "\n",
    "# Calcualte FP quantization error\n",
    "x = np.random.rand(10) * 2 - 1\n",
    "scale_bits = 3\n",
    "mantissa_bits = int((b - scale_bits)/L)\n",
    "scale = ScaleFactor(np.max(x), scale_bits, mantissa_bits)\n",
    "mantissa = vMantissa(x, scale, scale_bits, mantissa_bits)\n",
    "fp_quant = vDequantize(scale, mantissa, scale_bits, mantissa_bits)\n",
    "fp_error = 10*np.log10(np.mean((x-fp_quant)**2))\n",
    "\n",
    "print(f\"input: {x}\\nvq_decoded:{dequantized} scalar_decoded: {scalar_quant} fp_decoded: {fp_quant}\\nvq_err:{vq_error}dB scalar_err: {sq_error}dB fp_err:{fp_error}dB\")"
   ]
  },
  {
   "cell_type": "code",
   "execution_count": 192,
   "metadata": {},
   "outputs": [
    {
     "name": "stdout",
     "output_type": "stream",
     "text": [
      "theta  0.7334548770156908\n",
      "bitalloc theta, mid, side 3 18 11\n",
      "encode theta: 0.7334548770156908\n",
      "48446 77 2\n",
      "decoded theta: 0.8975979010256552\n",
      "bitalloc theta, mid, side 3 7 22\n",
      "[(-0.14620531852029747, 0.0), (0.017398135984630504, 0.0), (0.06683795527800009, 0.0), (-0.12409827913871756, 0.0), (-0.03420453769318395, 0.0), (-0.0359722098692504, 0.0), (0.04545838864356778, 0.0), (-0.07783692353750894, 0.0), (0.14520670791137497, 0.0), (-0.13576840881287966, 0.0), (0.033823120351757927, 0.0), (-0.1475560813700094, 0.0), (0.01080174151777811, 0.0), (0.17871506625560218, 0.0), (-0.14229804086164172, 0.0), (-0.10004941598370329, 0.0), (0.1578032410990381, 0.0), (0.08140492740251724, 0.0), (-0.17463815578468117, 0.0), (0.04971536779331541, 0.0), (0.02883034541920324, 0.0), (0.0519876478771715, 0.0), (-0.06256131520894305, 0.0), (-0.008765833851467026, 0.0), (-0.06601545289985976, 0.0), (-0.15756236502524018, 0.0), (0.004759169694642481, 0.4408738668949674), (-0.08710145878567173, 0.0), (0.084314833632838, 0.0), (-0.02127688256248668, 0.0), (-0.12560616404143404, 0.0), (0.07438287828588015, 0.0), (-0.0025833283298061184, 0.0), (0.08125664003609048, 0.0), (-0.17028683026342603, 0.0), (0.1785917798113712, 0.0), (-0.15849035524982324, 0.0), (0.11527943071474075, 0.0), (0.04509462473023966, 0.0), (-0.08156779259247038, 0.0), (-0.1021187283352875, 0.0), (0.12070722623602755, 0.0), (0.0942130711926144, 0.0), (0.04736294944413523, 0.0), (-0.0395062353777742, 0.0), (0.11251964174896789, 0.0), (0.0918079389833263, 0.17482283417479494), (0.030867550539122907, 0.0), (0.039154468933201514, -0.5244685025243848), (-0.036936262068028726, 0.0), (0.015295305714945976, 0.0), (0.047050886564223335, 0.0), (0.07621659611811653, 0.0), (0.06892940701075077, 0.0), (0.09356969508879279, 0.0), (0.06382816918707665, 0.0), (0.1312512724048044, 0.0), (-0.048204348391344125, 0.0), (0.013710379575357264, 0.0), (0.06317717331706581, 0.0), (0.03328528535228508, 0.0), (0.1356296997700206, 0.0), (0.14985730342151737, 0.0), (-0.050565709512853885, 0.0), (-0.03420645447069793, 0.0), (-0.10405369088431103, 0.0), (0.08353459096214125, 0.0), (-0.15990700911280534, 0.0), (0.06322189890739205, 0.0), (0.004046228042494263, 0.0), (0.04499735013117674, 0.0), (-0.01584174063606451, 0.0), (-0.0285143073745367, 0.0), (-0.16467706684390476, 0.0), (-0.09959322144674068, 0.0), (0.019825496538078337, 0.0), (-0.14519018769136086, 0.4408738668949674), (-0.0824689283775747, 0.0), (-0.1701737466055168, 0.0), (-0.008642961217022193, 0.0), (-0.08813786008392137, 0.0), (0.022850148723526167, 0.0), (0.10606845353280922, 0.0), (-0.17498094347063925, 0.0), (-0.15977031305345343, 0.0), (0.10525869756847528, 0.0), (0.022953286334180003, 0.0), (0.11586226522569865, 0.0), (0.16626423972851057, 0.0), (0.12929396735646279, 0.0), (-0.06904440236946904, 0.0), (0.11403859079037842, 0.0), (0.13205406766598096, 0.0), (0.15959151281765008, 0.0), (-0.0839946707460838, 0.0), (-0.06499770431224042, 0.0), (0.03324368795520252, -0.17482283417479494), (-0.17859349871914118, 0.0), (-0.13099812142857786, 0.5244685025243848), (-0.03060230215653654, 0.0)]\n",
      "error: -16.41717219912689dB expected: -1.92\n"
     ]
    }
   ],
   "source": [
    "L = 100\n",
    "bit_alloc = 32\n",
    "k_fine = 0\n",
    "x = np.random.rand(L) * 2 - 1\n",
    "x = x /np.linalg.norm(x)\n",
    "mid_idx, side_idx, theta_idx = split_band_encode(x, bit_alloc, k_fine=k_fine)\n",
    "print(mid_idx, side_idx, theta_idx)\n",
    "x_hat = split_band_decode(mid_idx, side_idx, theta_idx, bit_alloc, L, k_fine)\n",
    "error = 10*np.log10(np.mean((x-x_hat)**2))\n",
    "print(list(zip(x, x_hat)))\n",
    "\n",
    "expected_snr = 6*bit_alloc/L\n",
    "print(f'error: {error}dB expected: -{expected_snr}')"
   ]
  },
  {
   "cell_type": "code",
   "execution_count": 212,
   "metadata": {},
   "outputs": [
    {
     "name": "stdout",
     "output_type": "stream",
     "text": [
      "in bitallocation ms 28 0.8453496720461388 50\n"
     ]
    },
    {
     "data": {
      "text/plain": [
       "(3, 8, 17)"
      ]
     },
     "execution_count": 212,
     "metadata": {},
     "output_type": "execute_result"
    }
   ],
   "source": [
    "bit_allocation_ms(28, 0.8453496720461388, 50, k_fine=0)"
   ]
  },
  {
   "cell_type": "code",
   "execution_count": 121,
   "metadata": {},
   "outputs": [
    {
     "name": "stdout",
     "output_type": "stream",
     "text": [
      "Original bits_gain: 5 bits_shape 27\n",
      "theta  1.0466253590060675\n",
      "encode theta: 1.0466253590060675\n",
      "bitalloc theta, mid, side 6 6 15\n",
      "actual bits used for mid and side 4.321928094887363 14.773345291291271\n",
      "original gain: 2.2379313077034984\n",
      "Actual bits_gain: 6 bits_shape 26\n",
      "19 3 20186 21\n",
      "bits_gain: 5 bits_shape 27\n",
      "bitalloc theta, 6\n",
      "decoded theta: 1.0471975511965976\n",
      "bitalloc theta, mid, side 6 6 15\n",
      "left [ 0.38729833  0.38729833 -0.38729833 -0.38729833  0.          0.\n",
      "  0.          0.38729833 -0.5         0.        ]\n",
      "right [-0.38729833 -0.38729833  0.38729833  0.38729833  0.          0.\n",
      "  0.         -0.38729833 -0.5         0.        ]\n",
      "decoded gain:2.1452829877050634\n",
      "[(0.31177783409157867, 0.5875099422990704), (0.9117437168770037, 0.5875099422990704), (-0.8437997943310527, -0.5875099422990704), (-0.7571194211149441, -0.5875099422990704), (-0.038144542399249914, 0.0), (0.5838298907423323, 0.0), (0.12163542486055423, 0.0), (0.5284479760004548, 0.5875099422990704), (-0.4356963663121607, -0.7584720740851938), (-0.009785004322358404, 0.0), (-0.19810535584433464, -0.5875099422990704), (-0.842548338880351, -0.5875099422990704), (0.2559978710962081, 0.5875099422990704), (0.5787391912755959, 0.5875099422990704), (0.17166905241668795, 0.0), (0.28985376128665363, 0.0), (0.24153280277815337, 0.0), (-0.4567534234390309, -0.5875099422990704), (-0.6484990294502289, -0.7584720740851938), (-0.1331506952970689, 0.0)]\n",
      "error: -11.918278501450828dB expected: -9.632 fp_error: -6.013364918183407dB\n"
     ]
    }
   ],
   "source": [
    "# test quantize_gain_shape\n",
    "L = 20\n",
    "bit_alloc = 32\n",
    "k_fine = -2\n",
    "x = np.random.rand(L) * 2 - 1\n",
    "# x = x /np.linalg.norm(x)\n",
    "gain_idx, mid_idx, side_idx, theta_idx = quantize_gain_shape(x, L, bit_alloc, k_fine)\n",
    "print(gain_idx, mid_idx, side_idx, theta_idx)\n",
    "x_hat = dequantize_gain_shape(gain_idx,\n",
    "                          mid_idx,\n",
    "                          side_idx,\n",
    "                          theta_idx,\n",
    "                          bit_alloc,\n",
    "                          L,\n",
    "                          k_fine)\n",
    "error = 10*np.log10(np.mean((x-x_hat)**2))\n",
    "expected_snr = 6.02*bit_alloc/L\n",
    "print(list(zip(x, x_hat)))\n",
    "scale_bits = 3\n",
    "mantissa_bits = int((bit_alloc-scale_bits)//L)\n",
    "scale = ScaleFactor(np.max(x), scale_bits, mantissa_bits)\n",
    "mantissa = vMantissa(x, scale, scale_bits, mantissa_bits)\n",
    "fp_quant = vDequantize(scale, mantissa, scale_bits, mantissa_bits)\n",
    "fp_error = 10*np.log10(np.mean((x-fp_quant)**2))\n",
    "\n",
    "print(f'error: {error}dB expected: -{expected_snr} fp_error: {fp_error}dB')"
   ]
  },
  {
   "cell_type": "code",
   "execution_count": 71,
   "metadata": {},
   "outputs": [
    {
     "data": {
      "text/plain": [
       "array([[    1,     0,     0,     0],\n",
       "       [    1,     2,     2,     2],\n",
       "       [    1,     4,     8,    12],\n",
       "       [    1,     6,    18,    38],\n",
       "       [    1,     8,    32,    88],\n",
       "       [    1,    10,    50,   170],\n",
       "       [    1,    12,    72,   292],\n",
       "       [    1,    14,    98,   462],\n",
       "       [    1,    16,   128,   688],\n",
       "       [    1,    18,   162,   978],\n",
       "       [    1,    20,   200,  1340],\n",
       "       [    1,    22,   242,  1782],\n",
       "       [    1,    24,   288,  2312],\n",
       "       [    1,    26,   338,  2938],\n",
       "       [    1,    28,   392,  3668],\n",
       "       [    1,    30,   450,  4510],\n",
       "       [    1,    32,   512,  5472],\n",
       "       [    1,    34,   578,  6562],\n",
       "       [    1,    36,   648,  7788],\n",
       "       [    1,    38,   722,  9158],\n",
       "       [    1,    40,   800, 10680],\n",
       "       [    1,    42,   882, 12362],\n",
       "       [    1,    44,   968, 14212],\n",
       "       [    1,    46,  1058, 16238],\n",
       "       [    1,    48,  1152, 18448],\n",
       "       [    1,    50,  1250, 20850],\n",
       "       [    1,    52,  1352, 23452],\n",
       "       [    1,    54,  1458, 26262],\n",
       "       [    1,    56,  1568, 29288],\n",
       "       [    1,    58,  1682, 32538],\n",
       "       [    1,    60,  1800, 36020],\n",
       "       [    1,    62,  1922, 39742],\n",
       "       [    1,    64,  2048, 43712]])"
      ]
     },
     "execution_count": 71,
     "metadata": {},
     "output_type": "execute_result"
    }
   ],
   "source": [
    "pvq_codebook_size(L, 3)"
   ]
  },
  {
   "cell_type": "code",
   "execution_count": 201,
   "metadata": {},
   "outputs": [
    {
     "data": {
      "text/plain": [
       "0.8377580409572781"
      ]
     },
     "execution_count": 201,
     "metadata": {},
     "output_type": "execute_result"
    }
   ],
   "source": [
    "DequantizeUniform(4, 4) * np.pi/2"
   ]
  },
  {
   "cell_type": "code",
   "execution_count": 140,
   "metadata": {},
   "outputs": [
    {
     "data": {
      "text/plain": [
       "(array([-0.84062648, -0.14275668]), array([-0.84062648, -0.14275668]))"
      ]
     },
     "execution_count": 140,
     "metadata": {},
     "output_type": "execute_result"
    }
   ],
   "source": [
    "left, left2"
   ]
  },
  {
   "cell_type": "code",
   "execution_count": 687,
   "metadata": {},
   "outputs": [
    {
     "name": "stdout",
     "output_type": "stream",
     "text": [
      "[[ 0  0  0  5]\n",
      " [ 0  0  0 -5]\n",
      " [ 0  0  1  4]\n",
      " ...\n",
      " [-4 -1  0  0]\n",
      " [ 5  0  0  0]\n",
      " [-5  0  0  0]]\n"
     ]
    }
   ],
   "source": [
    "L = 4\n",
    "K = 5\n",
    "N = pvq_codebook_size(L,K)\n",
    "codebook = []\n",
    "oops = False\n",
    "for b in range(N[L][K]):\n",
    "#     cb = decode_pvq_vector(b, L, K, N)\n",
    "    cb = decoder(b, L, K, N).step_1()   \n",
    "    if np.sum(abs(cb)) != K:\n",
    "        print(b, \"l1 norm is not K\")\n",
    "    # Test to see if it's already in there\n",
    "    for i,cb2 in enumerate(codebook):\n",
    "        if np.allclose(cb2, cb):\n",
    "            print(\"Found duplicate vector\", i, b, cb2, cb)\n",
    "            oops = True\n",
    "    codebook.append(cb)\n",
    "    if oops:\n",
    "        break\n",
    "\n",
    "print(np.array(codebook))"
   ]
  },
  {
   "cell_type": "code",
   "execution_count": 678,
   "metadata": {},
   "outputs": [
    {
     "name": "stdout",
     "output_type": "stream",
     "text": [
      "12\n",
      "14\n",
      "1 2 2\n",
      "18\n",
      "2 2 2\n",
      "22\n",
      "k 1\n"
     ]
    },
    {
     "data": {
      "text/plain": [
       "array([-1,  1,  1])"
      ]
     },
     "execution_count": 678,
     "metadata": {},
     "output_type": "execute_result"
    }
   ],
   "source": [
    "decoder(22, L, K, N).step_1()"
   ]
  },
  {
   "cell_type": "code",
   "execution_count": 542,
   "metadata": {},
   "outputs": [
    {
     "data": {
      "text/plain": [
       "array([[  1,   0,   0,   0,   0,   0],\n",
       "       [  1,   2,   2,   2,   2,   2],\n",
       "       [  1,   4,   8,  12,  16,  20],\n",
       "       [  1,   6,  18,  38,  66, 102]])"
      ]
     },
     "execution_count": 542,
     "metadata": {},
     "output_type": "execute_result"
    }
   ],
   "source": [
    "N"
   ]
  },
  {
   "cell_type": "code",
   "execution_count": 266,
   "metadata": {},
   "outputs": [
    {
     "name": "stdout",
     "output_type": "stream",
     "text": [
      "[-0.69584506 -0.69319058 -0.09184924 -0.16386027]\n",
      "[2. 2. 0. 0.]\n",
      "Remaining pulses: 1.0\n"
     ]
    },
    {
     "data": {
      "text/plain": [
       "(array([2.11535831, 2.10728872, 0.27922028, 0.4981327 ]),\n",
       " array([-2, -2,  0, -1]))"
      ]
     },
     "execution_count": 266,
     "metadata": {},
     "output_type": "execute_result"
    }
   ],
   "source": [
    "# x = np.array([0.53963551,  0.94695102,  0.19858073, -0.54743883])\n",
    "x = np.array([-0.68288664, -0.68028159, -0.09013877, -0.16080877])\n",
    "x /= np.linalg.norm(x)\n",
    "print(x)\n",
    "y, pre_search = pvq_search(x, 5)\n",
    "y, pre_search #, np.round(y), y - np.round(y)"
   ]
  },
  {
   "cell_type": "code",
   "execution_count": 730,
   "metadata": {},
   "outputs": [
    {
     "name": "stdout",
     "output_type": "stream",
     "text": [
      "[  4.   5.   4.   4.   5.   5.   6.   6.   7.   8.   9.  10.  12.  14.\n",
      "  16.  19.  24.  30.  38.  47.  56.  76. 107. 149. 363.]\n"
     ]
    }
   ],
   "source": [
    "nlines = AssignMDCTLinesFromFreqLimits(1024, 48000)\n",
    "print(nlines)\n",
    "# sf_bands = ScaleFactorBands(1024)"
   ]
  },
  {
   "cell_type": "code",
   "execution_count": 167,
   "metadata": {},
   "outputs": [
    {
     "data": {
      "text/plain": [
       "10"
      ]
     },
     "execution_count": 167,
     "metadata": {},
     "output_type": "execute_result"
    }
   ],
   "source": [
    "def get_pulses(i):\n",
    "    return  i if i<8 else (8 + (i&7)) << ((i>>3)-1)\n",
    "get_pulses(10)"
   ]
  },
  {
   "cell_type": "code",
   "execution_count": null,
   "metadata": {},
   "outputs": [],
   "source": []
  }
 ],
 "metadata": {
  "kernelspec": {
   "display_name": "Python 3",
   "language": "python",
   "name": "python3"
  },
  "language_info": {
   "codemirror_mode": {
    "name": "ipython",
    "version": 3
   },
   "file_extension": ".py",
   "mimetype": "text/x-python",
   "name": "python",
   "nbconvert_exporter": "python",
   "pygments_lexer": "ipython3",
   "version": "3.7.1"
  }
 },
 "nbformat": 4,
 "nbformat_minor": 4
}
