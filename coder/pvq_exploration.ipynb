{
 "cells": [
  {
   "cell_type": "code",
   "execution_count": 147,
   "metadata": {},
   "outputs": [
    {
     "name": "stdout",
     "output_type": "stream",
     "text": [
      "The autoreload extension is already loaded. To reload it, use:\n",
      "  %reload_ext autoreload\n"
     ]
    }
   ],
   "source": [
    "import numpy as np\n",
    "import matplotlib.pyplot as plt\n",
    "from IPython.display import HTML\n",
    "from matplotlib import animation, rc\n",
    "from quantize import * \n",
    "from gain_shape_quantize import *\n",
    "from bitpack import *\n",
    "%load_ext autoreload\n",
    "%autoreload 2"
   ]
  },
  {
   "cell_type": "code",
   "execution_count": 4,
   "metadata": {},
   "outputs": [
    {
     "data": {
      "text/plain": [
       "(array([[ 2,  0],\n",
       "        [-2,  0],\n",
       "        [ 1,  1],\n",
       "        [ 1, -1],\n",
       "        [-1,  1],\n",
       "        [-1, -1],\n",
       "        [ 0,  2],\n",
       "        [ 0, -2]]),\n",
       " array([[ 1.        ,  0.        ],\n",
       "        [-1.        ,  0.        ],\n",
       "        [ 0.70710678,  0.70710678],\n",
       "        [ 0.70710678, -0.70710678],\n",
       "        [-0.70710678,  0.70710678],\n",
       "        [-0.70710678, -0.70710678],\n",
       "        [ 0.        ,  1.        ],\n",
       "        [ 0.        , -1.        ]]))"
      ]
     },
     "execution_count": 4,
     "metadata": {},
     "output_type": "execute_result"
    }
   ],
   "source": [
    "codebook = np.array([(2, 0), (-2, 0), (1, 1), (1, -1), (-1, 1), (-1, -1), (0, 2), (0, -2)])\n",
    "normalized = codebook/np.linalg.norm(codebook, axis=1, keepdims=True)\n",
    "codebook, normalized"
   ]
  },
  {
   "cell_type": "code",
   "execution_count": 614,
   "metadata": {},
   "outputs": [
    {
     "name": "stderr",
     "output_type": "stream",
     "text": [
      "INFO:matplotlib.animation:Animation.save using <class 'matplotlib.animation.FFMpegWriter'>\n",
      "DEBUG:matplotlib.animation:frame size in pixels is 576 x 576\n",
      "INFO:matplotlib.animation:MovieWriter.run: running command: ['ffmpeg', '-f', 'rawvideo', '-vcodec', 'rawvideo', '-s', '576x576', '-pix_fmt', 'rgba', '-r', '10.0', '-i', 'pipe:', '-vcodec', 'h264', '-pix_fmt', 'yuv420p', '-y', '/var/folders/mq/x3x5zmh11dq0mb5bd0d3_82r0000gp/T/tmpimilmb7e/temp.m4v']\n",
      "DEBUG:matplotlib.animation:MovieWriter.grab_frame: Grabbing frame.\n",
      "DEBUG:matplotlib.animation:MovieWriter.grab_frame: Grabbing frame.\n",
      "DEBUG:matplotlib.animation:MovieWriter.grab_frame: Grabbing frame.\n",
      "DEBUG:matplotlib.animation:MovieWriter.grab_frame: Grabbing frame.\n",
      "DEBUG:matplotlib.animation:MovieWriter.grab_frame: Grabbing frame.\n",
      "DEBUG:matplotlib.animation:MovieWriter.grab_frame: Grabbing frame.\n",
      "DEBUG:matplotlib.animation:MovieWriter.grab_frame: Grabbing frame.\n",
      "DEBUG:matplotlib.animation:MovieWriter.grab_frame: Grabbing frame.\n",
      "DEBUG:matplotlib.animation:MovieWriter.grab_frame: Grabbing frame.\n",
      "DEBUG:matplotlib.animation:MovieWriter.grab_frame: Grabbing frame.\n",
      "DEBUG:matplotlib.animation:MovieWriter.grab_frame: Grabbing frame.\n",
      "DEBUG:matplotlib.animation:MovieWriter.grab_frame: Grabbing frame.\n",
      "DEBUG:matplotlib.animation:MovieWriter.grab_frame: Grabbing frame.\n",
      "DEBUG:matplotlib.animation:MovieWriter.grab_frame: Grabbing frame.\n",
      "DEBUG:matplotlib.animation:MovieWriter.grab_frame: Grabbing frame.\n",
      "DEBUG:matplotlib.animation:MovieWriter.grab_frame: Grabbing frame.\n",
      "DEBUG:matplotlib.animation:MovieWriter.grab_frame: Grabbing frame.\n",
      "DEBUG:matplotlib.animation:MovieWriter.grab_frame: Grabbing frame.\n",
      "DEBUG:matplotlib.animation:MovieWriter.grab_frame: Grabbing frame.\n",
      "DEBUG:matplotlib.animation:MovieWriter.grab_frame: Grabbing frame.\n",
      "DEBUG:matplotlib.animation:MovieWriter.grab_frame: Grabbing frame.\n",
      "DEBUG:matplotlib.animation:MovieWriter.grab_frame: Grabbing frame.\n",
      "DEBUG:matplotlib.animation:MovieWriter.grab_frame: Grabbing frame.\n",
      "DEBUG:matplotlib.animation:MovieWriter.grab_frame: Grabbing frame.\n",
      "DEBUG:matplotlib.animation:MovieWriter.grab_frame: Grabbing frame.\n",
      "DEBUG:matplotlib.animation:MovieWriter.grab_frame: Grabbing frame.\n",
      "DEBUG:matplotlib.animation:MovieWriter.grab_frame: Grabbing frame.\n",
      "DEBUG:matplotlib.animation:MovieWriter.grab_frame: Grabbing frame.\n",
      "DEBUG:matplotlib.animation:MovieWriter.grab_frame: Grabbing frame.\n",
      "DEBUG:matplotlib.animation:MovieWriter.grab_frame: Grabbing frame.\n",
      "DEBUG:matplotlib.animation:MovieWriter.grab_frame: Grabbing frame.\n",
      "DEBUG:matplotlib.animation:MovieWriter.grab_frame: Grabbing frame.\n",
      "DEBUG:matplotlib.animation:MovieWriter.grab_frame: Grabbing frame.\n",
      "DEBUG:matplotlib.animation:MovieWriter.grab_frame: Grabbing frame.\n",
      "DEBUG:matplotlib.animation:MovieWriter.grab_frame: Grabbing frame.\n",
      "DEBUG:matplotlib.animation:MovieWriter.grab_frame: Grabbing frame.\n",
      "DEBUG:matplotlib.animation:MovieWriter.grab_frame: Grabbing frame.\n",
      "DEBUG:matplotlib.animation:MovieWriter.grab_frame: Grabbing frame.\n",
      "DEBUG:matplotlib.animation:MovieWriter.grab_frame: Grabbing frame.\n",
      "DEBUG:matplotlib.animation:MovieWriter.grab_frame: Grabbing frame.\n",
      "DEBUG:matplotlib.animation:MovieWriter.grab_frame: Grabbing frame.\n",
      "DEBUG:matplotlib.animation:MovieWriter.grab_frame: Grabbing frame.\n",
      "DEBUG:matplotlib.animation:MovieWriter.grab_frame: Grabbing frame.\n",
      "DEBUG:matplotlib.animation:MovieWriter.grab_frame: Grabbing frame.\n",
      "DEBUG:matplotlib.animation:MovieWriter.grab_frame: Grabbing frame.\n",
      "DEBUG:matplotlib.animation:MovieWriter.grab_frame: Grabbing frame.\n",
      "DEBUG:matplotlib.animation:MovieWriter.grab_frame: Grabbing frame.\n",
      "DEBUG:matplotlib.animation:MovieWriter.grab_frame: Grabbing frame.\n",
      "DEBUG:matplotlib.animation:MovieWriter.grab_frame: Grabbing frame.\n",
      "DEBUG:matplotlib.animation:MovieWriter.grab_frame: Grabbing frame.\n",
      "DEBUG:matplotlib.animation:MovieWriter.grab_frame: Grabbing frame.\n",
      "DEBUG:matplotlib.animation:MovieWriter.grab_frame: Grabbing frame.\n",
      "DEBUG:matplotlib.animation:MovieWriter.grab_frame: Grabbing frame.\n",
      "DEBUG:matplotlib.animation:MovieWriter.grab_frame: Grabbing frame.\n",
      "DEBUG:matplotlib.animation:MovieWriter.grab_frame: Grabbing frame.\n",
      "DEBUG:matplotlib.animation:MovieWriter.grab_frame: Grabbing frame.\n",
      "DEBUG:matplotlib.animation:MovieWriter.grab_frame: Grabbing frame.\n",
      "DEBUG:matplotlib.animation:MovieWriter.grab_frame: Grabbing frame.\n",
      "DEBUG:matplotlib.animation:MovieWriter.grab_frame: Grabbing frame.\n",
      "DEBUG:matplotlib.animation:MovieWriter.grab_frame: Grabbing frame.\n",
      "DEBUG:matplotlib.animation:MovieWriter.grab_frame: Grabbing frame.\n",
      "DEBUG:matplotlib.animation:MovieWriter.grab_frame: Grabbing frame.\n",
      "DEBUG:matplotlib.animation:MovieWriter.grab_frame: Grabbing frame.\n",
      "DEBUG:matplotlib.animation:MovieWriter.grab_frame: Grabbing frame.\n",
      "DEBUG:matplotlib.animation:MovieWriter.grab_frame: Grabbing frame.\n",
      "DEBUG:matplotlib.animation:MovieWriter.grab_frame: Grabbing frame.\n",
      "DEBUG:matplotlib.animation:MovieWriter.grab_frame: Grabbing frame.\n",
      "DEBUG:matplotlib.animation:MovieWriter.grab_frame: Grabbing frame.\n",
      "DEBUG:matplotlib.animation:MovieWriter.grab_frame: Grabbing frame.\n",
      "DEBUG:matplotlib.animation:MovieWriter.grab_frame: Grabbing frame.\n",
      "DEBUG:matplotlib.animation:MovieWriter.grab_frame: Grabbing frame.\n",
      "DEBUG:matplotlib.animation:MovieWriter.grab_frame: Grabbing frame.\n",
      "DEBUG:matplotlib.animation:MovieWriter.grab_frame: Grabbing frame.\n",
      "DEBUG:matplotlib.animation:MovieWriter.grab_frame: Grabbing frame.\n",
      "DEBUG:matplotlib.animation:MovieWriter.grab_frame: Grabbing frame.\n",
      "DEBUG:matplotlib.animation:MovieWriter.grab_frame: Grabbing frame.\n",
      "DEBUG:matplotlib.animation:MovieWriter.grab_frame: Grabbing frame.\n",
      "DEBUG:matplotlib.animation:MovieWriter.grab_frame: Grabbing frame.\n",
      "DEBUG:matplotlib.animation:MovieWriter.grab_frame: Grabbing frame.\n",
      "DEBUG:matplotlib.animation:MovieWriter.grab_frame: Grabbing frame.\n",
      "DEBUG:matplotlib.animation:MovieWriter.grab_frame: Grabbing frame.\n",
      "DEBUG:matplotlib.animation:MovieWriter.grab_frame: Grabbing frame.\n",
      "DEBUG:matplotlib.animation:MovieWriter.grab_frame: Grabbing frame.\n",
      "DEBUG:matplotlib.animation:MovieWriter.grab_frame: Grabbing frame.\n",
      "DEBUG:matplotlib.animation:MovieWriter.grab_frame: Grabbing frame.\n",
      "DEBUG:matplotlib.animation:MovieWriter.grab_frame: Grabbing frame.\n",
      "DEBUG:matplotlib.animation:MovieWriter.grab_frame: Grabbing frame.\n",
      "DEBUG:matplotlib.animation:MovieWriter.grab_frame: Grabbing frame.\n",
      "DEBUG:matplotlib.animation:MovieWriter.grab_frame: Grabbing frame.\n",
      "DEBUG:matplotlib.animation:MovieWriter.grab_frame: Grabbing frame.\n",
      "DEBUG:matplotlib.animation:MovieWriter.grab_frame: Grabbing frame.\n",
      "DEBUG:matplotlib.animation:MovieWriter.grab_frame: Grabbing frame.\n",
      "DEBUG:matplotlib.animation:MovieWriter.grab_frame: Grabbing frame.\n",
      "DEBUG:matplotlib.animation:MovieWriter.grab_frame: Grabbing frame.\n",
      "DEBUG:matplotlib.animation:MovieWriter.grab_frame: Grabbing frame.\n",
      "DEBUG:matplotlib.animation:MovieWriter.grab_frame: Grabbing frame.\n",
      "DEBUG:matplotlib.animation:MovieWriter.grab_frame: Grabbing frame.\n",
      "DEBUG:matplotlib.animation:MovieWriter.grab_frame: Grabbing frame.\n",
      "DEBUG:matplotlib.animation:MovieWriter.grab_frame: Grabbing frame.\n",
      "DEBUG:matplotlib.animation:MovieWriter.grab_frame: Grabbing frame.\n",
      "DEBUG:matplotlib.animation:MovieWriter stderr:\n",
      "ffmpeg version 3.2.2 Copyright (c) 2000-2016 the FFmpeg developers\n",
      "  built with Apple LLVM version 7.0.2 (clang-700.1.81)\n",
      "  configuration: --prefix=/usr/local/Cellar/ffmpeg/3.2.2 --enable-shared --enable-pthreads --enable-gpl --enable-version3 --enable-hardcoded-tables --enable-avresample --cc=clang --host-cflags= --host-ldflags= --enable-libmp3lame --enable-libx264 --enable-libxvid --enable-opencl --disable-lzma --enable-vda\n",
      "  libavutil      55. 34.100 / 55. 34.100\n",
      "  libavcodec     57. 64.101 / 57. 64.101\n",
      "  libavformat    57. 56.100 / 57. 56.100\n",
      "  libavdevice    57.  1.100 / 57.  1.100\n",
      "  libavfilter     6. 65.100 /  6. 65.100\n",
      "  libavresample   3.  1.  0 /  3.  1.  0\n",
      "  libswscale      4.  2.100 /  4.  2.100\n",
      "  libswresample   2.  3.100 /  2.  3.100\n",
      "  libpostproc    54.  1.100 / 54.  1.100\n",
      "Input #0, rawvideo, from 'pipe:':\n",
      "  Duration: N/A, start: 0.000000, bitrate: 106168 kb/s\n",
      "    Stream #0:0: Video: rawvideo (RGBA / 0x41424752), rgba, 576x576, 106168 kb/s, 10 tbr, 10 tbn, 10 tbc\n",
      "[libx264 @ 0x7f971780a400] using cpu capabilities: MMX2 SSE2Fast SSSE3 SSE4.2 AVX FMA3 AVX2 LZCNT BMI2\n",
      "[libx264 @ 0x7f971780a400] profile High, level 2.2\n",
      "[libx264 @ 0x7f971780a400] 264 - core 148 r2748 97eaef2 - H.264/MPEG-4 AVC codec - Copyleft 2003-2016 - http://www.videolan.org/x264.html - options: cabac=1 ref=3 deblock=1:0:0 analyse=0x3:0x113 me=hex subme=7 psy=1 psy_rd=1.00:0.00 mixed_ref=1 me_range=16 chroma_me=1 trellis=1 8x8dct=1 cqm=0 deadzone=21,11 fast_pskip=1 chroma_qp_offset=-2 threads=18 lookahead_threads=3 sliced_threads=0 nr=0 decimate=1 interlaced=0 bluray_compat=0 constrained_intra=0 bframes=3 b_pyramid=2 b_adapt=1 b_bias=0 direct=1 weightb=1 open_gop=0 weightp=2 keyint=250 keyint_min=10 scenecut=40 intra_refresh=0 rc_lookahead=40 rc=crf mbtree=1 crf=23.0 qcomp=0.60 qpmin=0 qpmax=69 qpstep=4 ip_ratio=1.40 aq=1:1.00\n",
      "Output #0, ipod, to '/var/folders/mq/x3x5zmh11dq0mb5bd0d3_82r0000gp/T/tmpimilmb7e/temp.m4v':\n",
      "  Metadata:\n",
      "    encoder         : Lavf57.56.100\n",
      "    Stream #0:0: Video: h264 (libx264) (avc1 / 0x31637661), yuv420p, 576x576, q=-1--1, 10 fps, 10240 tbn, 10 tbc\n",
      "    Metadata:\n",
      "      encoder         : Lavc57.64.101 libx264\n",
      "    Side data:\n",
      "      cpb: bitrate max/min/avg: 0/0/0 buffer size: 0 vbv_delay: -1\n",
      "Stream mapping:\n",
      "  Stream #0:0 -> #0:0 (rawvideo (native) -> h264 (libx264))\n",
      "frame=   12 fps=0.0 q=0.0 size=       0kB time=00:00:00.00 bitrate=N/A speed=   0x    \n",
      "frame=   22 fps= 21 q=0.0 size=       0kB time=00:00:00.00 bitrate=N/A speed=   0x    \n",
      "frame=   33 fps= 21 q=0.0 size=       0kB time=00:00:00.00 bitrate=N/A speed=   0x    \n",
      "frame=   44 fps= 21 q=0.0 size=       0kB time=00:00:00.00 bitrate=N/A speed=   0x    \n",
      "frame=   55 fps= 21 q=0.0 size=       0kB time=00:00:00.00 bitrate=N/A speed=   0x    \n",
      "frame=   65 fps= 21 q=25.0 size=      10kB time=00:00:00.00 bitrate=850122.4kbits/s speed=3.13e-05x    \n",
      "frame=   75 fps= 21 q=25.0 size=      12kB time=00:00:01.00 bitrate=  96.2kbits/s speed=0.274x    \n",
      "frame=   86 fps= 21 q=25.0 size=      13kB time=00:00:02.10 bitrate=  52.6kbits/s speed=0.502x    \n",
      "frame=   97 fps= 21 q=25.0 size=      15kB time=00:00:03.20 bitrate=  38.9kbits/s speed=0.679x    \n",
      "frame=  100 fps= 20 q=-1.0 Lsize=      26kB time=00:00:09.70 bitrate=  22.2kbits/s speed=1.97x    \n",
      "video:24kB audio:0kB subtitle:0kB other streams:0kB global headers:0kB muxing overhead: 8.078576%\n",
      "[libx264 @ 0x7f971780a400] frame I:1     Avg QP:16.93  size:  8940\n",
      "[libx264 @ 0x7f971780a400] frame P:33    Avg QP:14.88  size:   219\n",
      "[libx264 @ 0x7f971780a400] frame B:66    Avg QP:18.46  size:   122\n",
      "[libx264 @ 0x7f971780a400] consecutive B-frames:  8.0%  8.0% 12.0% 72.0%\n",
      "[libx264 @ 0x7f971780a400] mb I  I16..4: 34.8% 52.3% 12.9%\n",
      "[libx264 @ 0x7f971780a400] mb P  I16..4:  0.1%  0.1%  0.2%  P16..4:  0.4%  0.0%  0.0%  0.0%  0.0%    skip:99.2%\n",
      "[libx264 @ 0x7f971780a400] mb B  I16..4:  0.1%  0.0%  0.1%  B16..8:  1.1%  0.1%  0.0%  direct: 0.0%  skip:98.7%  L0:60.4% L1:39.3% BI: 0.3%\n",
      "[libx264 @ 0x7f971780a400] 8x8 transform intra:45.9% inter:12.9%\n",
      "[libx264 @ 0x7f971780a400] coded y,uvDC,uvAC intra: 9.6% 5.2% 5.2% inter: 0.1% 0.1% 0.1%\n",
      "[libx264 @ 0x7f971780a400] i16 v,h,dc,p: 61% 32%  7%  0%\n",
      "[libx264 @ 0x7f971780a400] i8 v,h,dc,ddl,ddr,vr,hd,vl,hu: 34% 11% 55%  0%  0%  0%  0%  0%  0%\n",
      "[libx264 @ 0x7f971780a400] i4 v,h,dc,ddl,ddr,vr,hd,vl,hu: 28% 27% 33%  1%  2%  2%  2%  2%  2%\n",
      "[libx264 @ 0x7f971780a400] i8c dc,h,v,p: 97%  1%  2%  0%\n",
      "[libx264 @ 0x7f971780a400] Weighted P-Frames: Y:0.0% UV:0.0%\n",
      "[libx264 @ 0x7f971780a400] ref P L0: 66.5%  0.1% 17.3% 16.1%\n",
      "[libx264 @ 0x7f971780a400] ref B L0: 65.6% 27.3%  7.1%\n",
      "[libx264 @ 0x7f971780a400] ref B L1: 95.8%  4.2%\n",
      "[libx264 @ 0x7f971780a400] kb/s:19.36\n",
      "\n"
     ]
    },
    {
     "data": {
      "image/png": "[encoded data removed]",
      "text/plain": [
       "<Figure size 576x576 with 1 Axes>"
      ]
     },
     "metadata": {
      "needs_background": "light"
     },
     "output_type": "display_data"
    }
   ],
   "source": [
    "# First set up the figure, the axis, and the plot element we want to animate\n",
    "fig, ax = plt.subplots(figsize=(8,8))\n",
    "ax.set_title('Pyramid vector quantization S(2,2)')\n",
    "ax.set_xlabel('x')\n",
    "ax.set_ylabel('y')\n",
    "ax.set_xlim(( -3, 3))\n",
    "ax.set_ylim((-3, 3))\n",
    "\n",
    "line_input, = ax.plot([], [], 'gx', lw=20, label='input')\n",
    "line_output, = ax.plot([], [], 'kv', lw=20, label='output codebook vector')\n",
    "line_preproj, = ax.plot([], [], 'kx', lw=20, label='pre-projection vector')\n",
    "ax.scatter(normalized[:,0], normalized[:,1], label='normalized_codebook')\n",
    "ax.scatter(codebook[:,0], codebook[:,1], label='codebook')\n",
    "ax.legend()\n",
    "ax.grid()\n",
    "\n",
    "# initialization function: plot the background of each frame\n",
    "def init():\n",
    "    line_input.set_data([], [])\n",
    "    return (line_input,)\n",
    "\n",
    "# animation function. This is called sequentially\n",
    "def animate(t):\n",
    "    pt = np.exp(2*np.pi* 0.01 * 1j * t)\n",
    "    x = pt.real\n",
    "    y = pt.imag\n",
    "    line_input.set_data(x, y)\n",
    "    act, rounded = pvq_search(np.array([x,y]), 2)\n",
    "    \n",
    "    line_output.set_data(rounded[0], rounded[1])\n",
    "    line_preproj.set_data(act[0], act[1])\n",
    "\n",
    "    return (line_input,)\n",
    "\n",
    "# call the animator. blit=True means only re-draw the parts that have changed.\n",
    "anim = animation.FuncAnimation(fig, animate, init_func=init,\n",
    "                               frames=100, interval=100, blit=True)\n",
    "\n",
    "HTML(anim.to_html5_video())\n",
    "plt.savefig('pvq_example.png')"
   ]
  },
  {
   "cell_type": "code",
   "execution_count": 7,
   "metadata": {},
   "outputs": [
    {
     "name": "stdout",
     "output_type": "stream",
     "text": [
      "For N=2, bits for gain= 7, bits for shape=3\n",
      "For N=3, bits for gain= 6, bits for shape=4\n",
      "For N=4, bits for gain= 5, bits for shape=5\n",
      "For N=5, bits for gain= 5, bits for shape=5\n",
      "For N=6, bits for gain= 4, bits for shape=6\n",
      "For N=7, bits for gain= 4, bits for shape=6\n",
      "For N=8, bits for gain= 4, bits for shape=6\n",
      "For N=9, bits for gain= 4, bits for shape=6\n",
      "For N=10, bits for gain= 4, bits for shape=6\n",
      "For N=11, bits for gain= 4, bits for shape=6\n",
      "For N=12, bits for gain= 4, bits for shape=6\n",
      "For N=13, bits for gain= 4, bits for shape=6\n",
      "For N=14, bits for gain= 4, bits for shape=6\n",
      "For N=15, bits for gain= 4, bits for shape=6\n",
      "For N=16, bits for gain= 4, bits for shape=6\n",
      "For N=17, bits for gain= 4, bits for shape=6\n",
      "For N=18, bits for gain= 4, bits for shape=6\n",
      "For N=19, bits for gain= 4, bits for shape=6\n"
     ]
    }
   ],
   "source": [
    "for i in range(2, 20):\n",
    "    a_g, a_f = gain_shape_alloc(10, i, -2)\n",
    "    print(f\"For N={i}, bits for gain= {a_g}, bits for shape={a_f}\")\n"
   ]
  },
  {
   "cell_type": "code",
   "execution_count": 7,
   "metadata": {},
   "outputs": [
    {
     "name": "stdout",
     "output_type": "stream",
     "text": [
      "[-1, 1]\n",
      "in: [-1, 1] idx: 4 decoded: [-1  1]\n"
     ]
    }
   ],
   "source": [
    "c = [-1,1]\n",
    "b = encode_pvq_vector(np.array(c), 2)\n",
    "print(c)\n",
    "decoded = decode_pvq_vector(b, len(c), 2)\n",
    "print(f'in: {c} idx: {b} decoded: {decoded}')"
   ]
  },
  {
   "cell_type": "code",
   "execution_count": 8,
   "metadata": {},
   "outputs": [
    {
     "name": "stdout",
     "output_type": "stream",
     "text": [
      "in: [2 0] idx: 6 decoded: [2 0] success: True\n",
      "in: [-2  0] idx: 7 decoded: [-2  0] success: True\n",
      "in: [1 1] idx: 2 decoded: [1 1] success: True\n",
      "in: [ 1 -1] idx: 3 decoded: [ 1 -1] success: True\n",
      "in: [-1  1] idx: 4 decoded: [-1  1] success: True\n",
      "in: [-1 -1] idx: 5 decoded: [-1 -1] success: True\n",
      "in: [0 2] idx: 0 decoded: [0 2] success: True\n",
      "in: [ 0 -2] idx: 1 decoded: [ 0 -2] success: True\n"
     ]
    }
   ],
   "source": [
    "for c in codebook:\n",
    "    b = encode_pvq_vector(np.array(c), 2)\n",
    "    decoded = decode_pvq_vector(b, len(c), 2)\n",
    "    print(f'in: {c} idx: {b} decoded: {decoded} success: {np.allclose(c, decoded)}')"
   ]
  },
  {
   "cell_type": "code",
   "execution_count": 613,
   "metadata": {},
   "outputs": [
    {
     "data": {
      "image/png": "[encoded data removed]",
      "text/plain": [
       "<Figure size 432x288 with 1 Axes>"
      ]
     },
     "metadata": {
      "needs_background": "light"
     },
     "output_type": "display_data"
    }
   ],
   "source": [
    "x = np.arange(-1, 1, 0.01)\n",
    "y = mu_law_fn(x)\n",
    "x_hat = inv_mu_law_fn(y)\n",
    "plt.plot(x, y, label='Mu law')\n",
    "plt.plot(x, x_hat, label='uniform')\n",
    "plt.grid()\n",
    "plt.xlabel('Input (x)')\n",
    "plt.ylabel('Output (y)')\n",
    "plt.title('Mu-law (255) companding')\n",
    "plt.legend()\n",
    "plt.savefig('mulaw.png', dpi=200)"
   ]
  },
  {
   "cell_type": "code",
   "execution_count": 13,
   "metadata": {},
   "outputs": [
    {
     "name": "stdout",
     "output_type": "stream",
     "text": [
      "in: [2 0] idx: 6 decoded: [2 0] success: True\n",
      "in: [-2  0] idx: 7 decoded: [-2  0] success: True\n",
      "in: [1 1] idx: 2 decoded: [1 1] success: True\n",
      "in: [ 1 -1] idx: 3 decoded: [ 1 -1] success: True\n",
      "in: [-1  1] idx: 4 decoded: [-1  1] success: True\n",
      "in: [-1 -1] idx: 5 decoded: [-1 -1] success: True\n",
      "in: [0 2] idx: 0 decoded: [0 2] success: True\n",
      "in: [ 0 -2] idx: 1 decoded: [ 0 -2] success: True\n"
     ]
    }
   ],
   "source": [
    "for c in codebook:\n",
    "    b = encode_pvq_vector(np.array(c), 2, N)\n",
    "    decoded = decode_pvq_vector(b, len(c), 2, N)\n",
    "    print(f'in: {c} idx: {b} decoded: {decoded} success: {np.allclose(c, decoded)}')"
   ]
  },
  {
   "cell_type": "code",
   "execution_count": 31,
   "metadata": {},
   "outputs": [
    {
     "name": "stdout",
     "output_type": "stream",
     "text": [
      "bits_gain: 7 bits_shape 34\n",
      "original gain: 2.096183593794986\n",
      "k 26 used bits 33.96013838797717\n",
      "Encoded codebook vector: [ 4 -3  2 -1  4  3  0 -4 -1 -4]\n",
      "Quantized shape index: 12651263935\n",
      "46 12651263935\n",
      "7 34\n",
      "decoded gain:2.1385522808407327\n",
      "k 26\n",
      "Decoded codebook vector: [ 4 -3  2 -1  4  3  0 -4 -1 -4]\n",
      "input: [ 0.50109109 -0.79484578 -0.50507654 -0.87120909  0.2676444   0.03753963\n",
      "  0.36513157  0.92884837 -0.78289436 -0.5285729 ]\n",
      "vq_decoded:[ 0.91188176 -0.68391132  0.45594088 -0.22797044  0.91188176  0.68391132\n",
      "  0.         -0.91188176 -0.22797044 -0.91188176] scalar_decoded: [ 0.93333333 -0.66666667  0.4        -0.26666667  0.8         0.66666667\n",
      "  0.         -0.93333333 -0.26666667 -0.93333333] fp_decoded: [ 0.62561095 -0.87585533 -0.62561095 -0.87585533  0.37536657  0.\n",
      "  0.37536657  0.87585533 -0.87585533 -0.62561095]\n",
      "vq_err:-26.32956462920552dB scalar_err: -28.07217127920019dB fp_err:-21.511811395114947dB\n"
     ]
    }
   ],
   "source": [
    "L = 10\n",
    "x = np.random.rand(L) * 2 - 1\n",
    "b = 41\n",
    "k_fine=-2\n",
    "gain, shape = quantize_gain_shape(x, len(x), b, k_fine=k_fine)\n",
    "print(gain, shape)\n",
    "dequantized = dequantize_gain_shape(gain, shape, b, len(x), k_fine=k_fine)\n",
    "\n",
    "vq_error = 10*np.log10(np.mean((x-dequantized)**2))\n",
    "\n",
    "# calculate scalar quantization error\n",
    "scalar_quant = vDequantizeUniform(vQuantizeUniform(x, int(b//len(x))), int(b//len(x)))\n",
    "sq_error = 10*np.log10(np.mean((x-scalar_quant)**2))\n",
    "\n",
    "# Calcualte FP quantization error\n",
    "x = np.random.rand(10) * 2 - 1\n",
    "scale_bits = 3\n",
    "mantissa_bits = int((b - scale_bits)/L)\n",
    "scale = ScaleFactor(np.max(x), scale_bits, mantissa_bits)\n",
    "mantissa = vMantissa(x, scale, scale_bits, mantissa_bits)\n",
    "fp_quant = vDequantize(scale, mantissa, scale_bits, mantissa_bits)\n",
    "fp_error = 10*np.log10(np.mean((x-fp_quant)**2))\n",
    "\n",
    "print(f\"input: {x}\\nvq_decoded:{dequantized} scalar_decoded: {scalar_quant} fp_decoded: {fp_quant}\\nvq_err:{vq_error}dB scalar_err: {sq_error}dB fp_err:{fp_error}dB\")"
   ]
  },
  {
   "cell_type": "code",
   "execution_count": 192,
   "metadata": {},
   "outputs": [
    {
     "name": "stdout",
     "output_type": "stream",
     "text": [
      "theta  0.7334548770156908\n",
      "bitalloc theta, mid, side 3 18 11\n",
      "encode theta: 0.7334548770156908\n",
      "48446 77 2\n",
      "decoded theta: 0.8975979010256552\n",
      "bitalloc theta, mid, side 3 7 22\n",
      "[(-0.14620531852029747, 0.0), (0.017398135984630504, 0.0), (0.06683795527800009, 0.0), (-0.12409827913871756, 0.0), (-0.03420453769318395, 0.0), (-0.0359722098692504, 0.0), (0.04545838864356778, 0.0), (-0.07783692353750894, 0.0), (0.14520670791137497, 0.0), (-0.13576840881287966, 0.0), (0.033823120351757927, 0.0), (-0.1475560813700094, 0.0), (0.01080174151777811, 0.0), (0.17871506625560218, 0.0), (-0.14229804086164172, 0.0), (-0.10004941598370329, 0.0), (0.1578032410990381, 0.0), (0.08140492740251724, 0.0), (-0.17463815578468117, 0.0), (0.04971536779331541, 0.0), (0.02883034541920324, 0.0), (0.0519876478771715, 0.0), (-0.06256131520894305, 0.0), (-0.008765833851467026, 0.0), (-0.06601545289985976, 0.0), (-0.15756236502524018, 0.0), (0.004759169694642481, 0.4408738668949674), (-0.08710145878567173, 0.0), (0.084314833632838, 0.0), (-0.02127688256248668, 0.0), (-0.12560616404143404, 0.0), (0.07438287828588015, 0.0), (-0.0025833283298061184, 0.0), (0.08125664003609048, 0.0), (-0.17028683026342603, 0.0), (0.1785917798113712, 0.0), (-0.15849035524982324, 0.0), (0.11527943071474075, 0.0), (0.04509462473023966, 0.0), (-0.08156779259247038, 0.0), (-0.1021187283352875, 0.0), (0.12070722623602755, 0.0), (0.0942130711926144, 0.0), (0.04736294944413523, 0.0), (-0.0395062353777742, 0.0), (0.11251964174896789, 0.0), (0.0918079389833263, 0.17482283417479494), (0.030867550539122907, 0.0), (0.039154468933201514, -0.5244685025243848), (-0.036936262068028726, 0.0), (0.015295305714945976, 0.0), (0.047050886564223335, 0.0), (0.07621659611811653, 0.0), (0.06892940701075077, 0.0), (0.09356969508879279, 0.0), (0.06382816918707665, 0.0), (0.1312512724048044, 0.0), (-0.048204348391344125, 0.0), (0.013710379575357264, 0.0), (0.06317717331706581, 0.0), (0.03328528535228508, 0.0), (0.1356296997700206, 0.0), (0.14985730342151737, 0.0), (-0.050565709512853885, 0.0), (-0.03420645447069793, 0.0), (-0.10405369088431103, 0.0), (0.08353459096214125, 0.0), (-0.15990700911280534, 0.0), (0.06322189890739205, 0.0), (0.004046228042494263, 0.0), (0.04499735013117674, 0.0), (-0.01584174063606451, 0.0), (-0.0285143073745367, 0.0), (-0.16467706684390476, 0.0), (-0.09959322144674068, 0.0), (0.019825496538078337, 0.0), (-0.14519018769136086, 0.4408738668949674), (-0.0824689283775747, 0.0), (-0.1701737466055168, 0.0), (-0.008642961217022193, 0.0), (-0.08813786008392137, 0.0), (0.022850148723526167, 0.0), (0.10606845353280922, 0.0), (-0.17498094347063925, 0.0), (-0.15977031305345343, 0.0), (0.10525869756847528, 0.0), (0.022953286334180003, 0.0), (0.11586226522569865, 0.0), (0.16626423972851057, 0.0), (0.12929396735646279, 0.0), (-0.06904440236946904, 0.0), (0.11403859079037842, 0.0), (0.13205406766598096, 0.0), (0.15959151281765008, 0.0), (-0.0839946707460838, 0.0), (-0.06499770431224042, 0.0), (0.03324368795520252, -0.17482283417479494), (-0.17859349871914118, 0.0), (-0.13099812142857786, 0.5244685025243848), (-0.03060230215653654, 0.0)]\n",
      "error: -16.41717219912689dB expected: -1.92\n"
     ]
    }
   ],
   "source": [
    "L = 100\n",
    "bit_alloc = 32\n",
    "k_fine = 0\n",
    "x = np.random.rand(L) * 2 - 1\n",
    "x = x /np.linalg.norm(x)\n",
    "mid_idx, side_idx, theta_idx = split_band_encode(x, bit_alloc, k_fine=k_fine)\n",
    "print(mid_idx, side_idx, theta_idx)\n",
    "x_hat = split_band_decode(mid_idx, side_idx, theta_idx, bit_alloc, L, k_fine)\n",
    "error = 10*np.log10(np.mean((x-x_hat)**2))\n",
    "print(list(zip(x, x_hat)))\n",
    "\n",
    "expected_snr = 6*bit_alloc/L\n",
    "print(f'error: {error}dB expected: -{expected_snr}')"
   ]
  },
  {
   "cell_type": "code",
   "execution_count": 212,
   "metadata": {},
   "outputs": [
    {
     "name": "stdout",
     "output_type": "stream",
     "text": [
      "in bitallocation ms 28 0.8453496720461388 50\n"
     ]
    },
    {
     "data": {
      "text/plain": [
       "(3, 8, 17)"
      ]
     },
     "execution_count": 212,
     "metadata": {},
     "output_type": "execute_result"
    }
   ],
   "source": [
    "bit_allocation_ms(28, 0.8453496720461388, 50, k_fine=0)"
   ]
  },
  {
   "cell_type": "code",
   "execution_count": 573,
   "metadata": {},
   "outputs": [],
   "source": [
    "sys.setrecursionlimit(5000)"
   ]
  },
  {
   "cell_type": "code",
   "execution_count": 602,
   "metadata": {},
   "outputs": [],
   "source": [
    "# test quantize_gain_shape\n",
    "L = 50\n",
    "bit_alloc = 100\n",
    "k_fine = 0"
   ]
  },
  {
   "cell_type": "code",
   "execution_count": 603,
   "metadata": {},
   "outputs": [],
   "source": [
    "x = np.random.rand(L) * 2 - 1\n",
    "# x = np.array([-0.67187128 ,-0.51468582  ,0.11769897  ,0.51945591])"
   ]
  },
  {
   "cell_type": "code",
   "execution_count": 604,
   "metadata": {},
   "outputs": [
    {
     "name": "stderr",
     "output_type": "stream",
     "text": [
      "DEBUG:gain_shape_quantize:Original bits_gain: 4 bits_shape 96\n",
      "DEBUG:gain_shape_quantize:[-1.54439414e-01  2.04597080e-02  8.56109375e-02  1.13387573e-01\n",
      "  1.22931156e-01  1.99548903e-02  1.18397525e-01  7.92122810e-02\n",
      "  4.37155326e-02  2.24911200e-01  2.20820543e-04 -2.90008729e-03\n",
      " -1.52496932e-01 -3.59847355e-02 -8.33420596e-02 -1.84749325e-01\n",
      " -1.35162903e-01  2.34735467e-01 -6.53948421e-02 -1.98150277e-01\n",
      "  1.93258878e-01  2.19492277e-01 -7.81455244e-03 -1.72717791e-01\n",
      "  1.18935680e-01  1.36298824e-01  4.61332621e-02 -1.62905520e-01\n",
      "  1.11145764e-01 -5.52229070e-02  6.44537543e-02  1.46542437e-01\n",
      " -7.97003889e-02  8.20683790e-02 -1.67250507e-01  1.83738233e-01\n",
      "  1.31145702e-01 -2.21189101e-01 -1.52235724e-01  2.29349175e-01\n",
      "  7.77766936e-02  1.84191073e-01 -1.64521255e-01  3.87599899e-02\n",
      "  4.90409544e-02  2.05490949e-01  2.23896001e-01 -1.69371533e-02\n",
      " -2.35988204e-01 -1.75654955e-01]\n",
      "DEBUG:gain_shape_quantize:Splitting because bit alloc is 96\n",
      "DEBUG:gain_shape_quantize:Encoded theta: 0.796868488476282\n",
      "DEBUG:gain_shape_quantize:Encoded bitalloc theta: 6, mid: 44, side: 46 L:25\n",
      "DEBUG:gain_shape_quantize:Splitting because bit alloc is 44\n",
      "DEBUG:gain_shape_quantize:Encoded theta: 0.8059174515714371\n",
      "DEBUG:gain_shape_quantize:Encoded bitalloc theta: 5, mid: 19, side: 20 L:13\n",
      "DEBUG:gain_shape_quantize:Splitting because bit alloc is 19\n",
      "DEBUG:gain_shape_quantize:Encoded theta: 0.7907492101048818\n",
      "DEBUG:gain_shape_quantize:Encoded bitalloc theta: 4, mid: 7, side: 8 L:7\n",
      "DEBUG:gain_shape_quantize:Splitting because bit alloc is 20\n",
      "DEBUG:gain_shape_quantize:Encoded theta: 0.7002981050631473\n",
      "DEBUG:gain_shape_quantize:Encoded bitalloc theta: 4, mid: 9, side: 7 L:7\n",
      "DEBUG:gain_shape_quantize:Splitting because bit alloc is 46\n",
      "DEBUG:gain_shape_quantize:Encoded theta: 1.0117084437736519\n",
      "DEBUG:gain_shape_quantize:Encoded bitalloc theta: 5, mid: 16, side: 25 L:13\n",
      "DEBUG:gain_shape_quantize:Splitting because bit alloc is 25\n",
      "DEBUG:gain_shape_quantize:Encoded theta: 0.7873689230036393\n",
      "DEBUG:gain_shape_quantize:Encoded bitalloc theta: 4, mid: 10, side: 11 L:7\n",
      "DEBUG:gain_shape_quantize:original gain: 4.218940740045761\n",
      "DEBUG:gain_shape_quantize:Actual bits_gain: 7 bits_shape 93\n",
      "DEBUG:gain_shape_quantize:bits_gain: 4 bits_shape 96\n",
      "DEBUG:gain_shape_quantize:bitalloc theta: 6\n",
      "DEBUG:gain_shape_quantize:decoded theta: 0.7978648009116934\n",
      "DEBUG:gain_shape_quantize:bitalloc theta: 6, 44, 46\n",
      "DEBUG:gain_shape_quantize:bitalloc theta: 5\n",
      "DEBUG:gain_shape_quantize:decoded theta: 0.8107335880231724\n",
      "DEBUG:gain_shape_quantize:bitalloc theta: 5, 19, 20\n",
      "DEBUG:gain_shape_quantize:bitalloc theta: 4\n",
      "DEBUG:gain_shape_quantize:decoded theta: 0.8377580409572781\n",
      "DEBUG:gain_shape_quantize:bitalloc theta: 4, 7, 8\n",
      "DEBUG:gain_shape_quantize:mid_actual_bits: 7\n",
      "DEBUG:gain_shape_quantize:side_actual_bits: 7\n",
      "DEBUG:gain_shape_quantize:bitalloc theta: 4\n",
      "DEBUG:gain_shape_quantize:decoded theta: 0.6283185307179586\n",
      "DEBUG:gain_shape_quantize:bitalloc theta: 4, 9, 7\n",
      "DEBUG:gain_shape_quantize:mid_actual_bits: 9\n",
      "DEBUG:gain_shape_quantize:side_actual_bits: 7\n",
      "DEBUG:gain_shape_quantize:bitalloc theta: 5\n",
      "DEBUG:gain_shape_quantize:decoded theta: 1.0134169850289656\n",
      "DEBUG:gain_shape_quantize:bitalloc theta: 5, 16, 25\n",
      "DEBUG:gain_shape_quantize:mid_actual_bits: 15\n",
      "DEBUG:gain_shape_quantize:bitalloc theta: 4\n",
      "DEBUG:gain_shape_quantize:decoded theta: 0.8377580409572781\n",
      "DEBUG:gain_shape_quantize:bitalloc theta: 4, 10, 11\n",
      "DEBUG:gain_shape_quantize:mid_actual_bits: 9\n",
      "DEBUG:gain_shape_quantize:side_actual_bits: 11\n",
      "DEBUG:gain_shape_quantize:Gain bits: 7, 93\n",
      "DEBUG:gain_shape_quantize:decoded gain:4.350987187385591\n"
     ]
    },
    {
     "name": "stdout",
     "output_type": "stream",
     "text": [
      "[16, 8, 4, 38, 93, 3, 334, 21, 10, 5940, 4, 109, 1460, 36] [6, 5, 4, 7, 7, 4, 9, 7, 5, 15, 4, 9, 11, 7] 100\n",
      "[(-0.651570734914297, -0.3787291642810135), (0.08631829577372074, -0.35348826569094455), (0.3611874720042516, 0.3186520087323511), (0.4783754500537478, 0.6219329368469715), (0.5186392636063646, 0.35348826569094455), (0.08418849946401252, 0.09183279052147666), (0.499512143598704, 1.1059836892013315), (0.3341919195414722, 0.35348826569094455), (0.18443324146594975, 0.3894117994509177), (0.94888702356142, 0.8133853962566154), (0.0009316287839158388, -0.35348826569094455), (-0.012235296410113339, 0.31967272960488397), (-0.6433755177132447, -0.3990071578194425), (-0.1518174665695251, 0.35348826569094455), (-0.351615210800841, -0.3961114010162287), (-0.7794464554382139, -0.7602408040164955), (-0.5702442771558407, -0.35348826569094455), (0.990335023772156, 0.7467520064646258), (-0.27589696370829553, -0.32824736710087554), (-0.8359842752748086, -0.35348826569094455), (0.8153477549268875, 1.0886014524661163), (0.9260249076666616, 0.7254763305460653), (-0.032969133670061934, 0.35348826569094455), (-0.7286861234074393, -0.31967272960488397), (0.5017825874098352, 0.4192923984930512), (0.5750366619582572, 0.32824736710087554), (0.19463349879186254, 0.35348826569094455), (-0.6872887353518731, -1.1233659259365467), (0.46891739230874263, 0.7254763305460653), (-0.23298217197274718, -0.35348826569094455), (0.2719265697366895, -0.011710603177617247), (0.6182538572094574, 0.3990071578194425), (-0.33625121789440837, -0.35348826569094455), (0.3462416274765576, 0.3613469275457983), (-0.7056199772994955, -0.7602408040164955), (0.7751807183457633, 0.35348826569094455), (0.5532959468435772, 1.0547141328918923), (-0.9331837106358698, -1.1059836892013315), (-0.6422734983894502, -0.35348826569094455), (0.9676105802033217, 1.045906533652669), (0.3281352610505819, 0.8133853962566154), (0.7770912212748522, 0.35348826569094455), (-0.6941054263941879, -0.826874193808485), (0.1635261003639943, 0.3787291642810135), (0.20690088054728606, 0.35348826569094455), (0.8669541343966538, 1.1166663243712358), (0.9446039580975816, 0.6219329368469715), (-0.07145684617187853, -0.35348826569094455), (-0.9956202459572991, -1.0547141328918923), (-0.7410778441766694, -0.4192923984930512)]\n",
      "error: -11.001530355467866dB expected: -12.04 fp_error: -4.485631538338691dB 4.218940740045761 4.350987187385591\n"
     ]
    }
   ],
   "source": [
    "indices, bits  = quantize_gain_shape(x, bit_alloc, k_fine)\n",
    "print(indices, bits, sum(bits))\n",
    "\n",
    "# pack bits\n",
    "pb = PackedBits()\n",
    "pb.Size(np.ceil(sum(bits)/8).astype(np.int))\n",
    "for idx, nBits in zip(indices, bits):\n",
    "    pb.WriteBits(idx, nBits) # encode indices\n",
    "\n",
    "pb.ResetPointers()  \n",
    "x_hat = dequantize_gain_shape(pb,\n",
    "                          bit_alloc,\n",
    "                          L,\n",
    "                          k_fine)\n",
    "error = 10*np.log10(np.mean((x-x_hat)**2))\n",
    "\n",
    "expected_snr = 6.02*bit_alloc/L\n",
    "print(list(zip(x, x_hat)))\n",
    "scale_bits = 3\n",
    "mantissa_bits = int((bit_alloc-scale_bits)//L)\n",
    "scale = ScaleFactor(np.max(x), scale_bits, mantissa_bits)\n",
    "mantissa = vMantissa(x, scale, scale_bits, mantissa_bits)\n",
    "fp_quant = vDequantize(scale, mantissa, scale_bits, mantissa_bits)\n",
    "fp_error = 10*np.log10(np.mean((x-fp_quant)**2))\n",
    "\n",
    "print(f'error: {error}dB expected: -{expected_snr} fp_error: {fp_error}dB {np.linalg.norm(x)} {np.linalg.norm(x_hat)}')"
   ]
  },
  {
   "cell_type": "code",
   "execution_count": 601,
   "metadata": {},
   "outputs": [
    {
     "data": {
      "text/plain": [
       "(33165617,\n",
       " 27,\n",
       " array([-0.05490737, -0.19770113,  0.0056235 , -0.09639201, -0.05475662,\n",
       "         0.02830534,  0.1480228 , -0.07845049, -0.22182928, -0.13124754,\n",
       "        -0.17488   ,  0.11482395, -0.07838422,  0.0273605 , -0.21426808,\n",
       "        -0.19359856, -0.16794835, -0.05268356,  0.17757666,  0.20264885,\n",
       "         0.14029655,  0.01327133,  0.21799943,  0.14926123, -0.2184899 ,\n",
       "        -0.11439798, -0.11436448, -0.1305215 , -0.02986525,  0.09341637,\n",
       "        -0.22328037,  0.23345014, -0.12090529, -0.04722506,  0.01762893,\n",
       "        -0.16570756, -0.08888914, -0.06853803, -0.10848201, -0.0862528 ,\n",
       "         0.00592263, -0.01004608,  0.19586955, -0.04224446, -0.20662196,\n",
       "        -0.23172285,  0.17045014,  0.14924239, -0.21389527,  0.08885072]))"
      ]
     },
     "execution_count": 601,
     "metadata": {},
     "output_type": "execute_result"
    }
   ],
   "source": [
    "y = x/np.linalg.norm(x)\n",
    "idx, bits = quantize_pvq(y, bit_alloc)\n",
    "idx, bits, y"
   ]
  },
  {
   "cell_type": "code",
   "execution_count": 607,
   "metadata": {},
   "outputs": [
    {
     "data": {
      "text/plain": [
       "(2,\n",
       " 3,\n",
       " array([[1, 0, 0],\n",
       "        [1, 2, 2],\n",
       "        [1, 4, 8]]))"
      ]
     },
     "execution_count": 607,
     "metadata": {},
     "output_type": "execute_result"
    }
   ],
   "source": [
    "pvq_compute_k_for_R(2,3)"
   ]
  },
  {
   "cell_type": "code",
   "execution_count": 606,
   "metadata": {},
   "outputs": [
    {
     "data": {
      "text/plain": [
       "array([[1, 0, 0],\n",
       "       [1, 2, 2],\n",
       "       [1, 4, 8]])"
      ]
     },
     "execution_count": 606,
     "metadata": {},
     "output_type": "execute_result"
    }
   ],
   "source": [
    "pvq_codebook_size(2, 2)"
   ]
  },
  {
   "cell_type": "code",
   "execution_count": 483,
   "metadata": {},
   "outputs": [
    {
     "data": {
      "text/plain": [
       "(array([ 0.5220355 ,  0.30602081,  0.5220355 , -0.34202326,  0.09000612,\n",
       "         0.48603305]),\n",
       " 34)"
      ]
     },
     "execution_count": 483,
     "metadata": {},
     "output_type": "execute_result"
    }
   ],
   "source": [
    "y_hat,bits = dequantize_pvq(idx, len(y), bit_alloc)\n",
    "y_hat, bits"
   ]
  },
  {
   "cell_type": "code",
   "execution_count": 484,
   "metadata": {},
   "outputs": [
    {
     "name": "stdout",
     "output_type": "stream",
     "text": [
      "error: -45.84278146271065dB expected:-34\n"
     ]
    }
   ],
   "source": [
    "error = 10*np.log10(np.mean((y-y_hat)**2))\n",
    "print(f'error: {error}dB expected:-{bit_alloc*6//len(y)}')"
   ]
  },
  {
   "cell_type": "code",
   "execution_count": 554,
   "metadata": {},
   "outputs": [
    {
     "data": {
      "text/plain": [
       "0.23845060133666188"
      ]
     },
     "execution_count": 554,
     "metadata": {},
     "output_type": "execute_result"
    }
   ],
   "source": [
    "np.tan(0.23407945262041596)"
   ]
  },
  {
   "cell_type": "code",
   "execution_count": 550,
   "metadata": {},
   "outputs": [
    {
     "data": {
      "text/plain": [
       "-2.1844245711374275"
      ]
     },
     "execution_count": 550,
     "metadata": {},
     "output_type": "execute_result"
    }
   ],
   "source": [
    "np.log2(0.22)"
   ]
  },
  {
   "cell_type": "code",
   "execution_count": 236,
   "metadata": {},
   "outputs": [],
   "source": [
    "indices = [6,0]\n",
    "bits = [4,0]"
   ]
  },
  {
   "cell_type": "code",
   "execution_count": 237,
   "metadata": {},
   "outputs": [],
   "source": [
    "pb = PackedBits()\n",
    "nbytes = sum(bits)//8+1\n",
    "pb.Size(nbytes)\n",
    "for idx, nBits in zip(indices, bits):\n",
    "    pb.WriteBits(idx, nBits) # encode indices\n",
    "pb.ResetPointers()    "
   ]
  },
  {
   "cell_type": "code",
   "execution_count": 238,
   "metadata": {},
   "outputs": [
    {
     "name": "stdout",
     "output_type": "stream",
     "text": [
      "0 0\n",
      "1 1\n",
      "2 1\n",
      "3 0\n",
      "4 0\n",
      "5 0\n",
      "6 0\n",
      "7 0\n"
     ]
    }
   ],
   "source": [
    "for i in range(nbytes*8):\n",
    "    print(i,pb.ReadBits(1))"
   ]
  },
  {
   "cell_type": "code",
   "execution_count": 215,
   "metadata": {},
   "outputs": [
    {
     "data": {
      "text/plain": [
       "b'\\x80\\x00'"
      ]
     },
     "execution_count": 215,
     "metadata": {},
     "output_type": "execute_result"
    }
   ],
   "source": [
    "pb.GetPackedData()"
   ]
  },
  {
   "cell_type": "code",
   "execution_count": 138,
   "metadata": {},
   "outputs": [
    {
     "data": {
      "text/plain": [
       "1.5"
      ]
     },
     "execution_count": 138,
     "metadata": {},
     "output_type": "execute_result"
    }
   ],
   "source": [
    "R = 2; L = 4;\n",
    "R / L + 0.5 * np.log2(L) - k_fine"
   ]
  },
  {
   "cell_type": "code",
   "execution_count": 125,
   "metadata": {},
   "outputs": [
    {
     "data": {
      "text/plain": [
       "5"
      ]
     },
     "execution_count": 125,
     "metadata": {},
     "output_type": "execute_result"
    }
   ],
   "source": [
    "11//2"
   ]
  },
  {
   "cell_type": "code",
   "execution_count": 687,
   "metadata": {},
   "outputs": [
    {
     "name": "stdout",
     "output_type": "stream",
     "text": [
      "[[ 0  0  0  5]\n",
      " [ 0  0  0 -5]\n",
      " [ 0  0  1  4]\n",
      " ...\n",
      " [-4 -1  0  0]\n",
      " [ 5  0  0  0]\n",
      " [-5  0  0  0]]\n"
     ]
    }
   ],
   "source": [
    "L = 4\n",
    "K = 5\n",
    "N = pvq_codebook_size(L,K)\n",
    "codebook = []\n",
    "oops = False\n",
    "for b in range(N[L][K]):\n",
    "#     cb = decode_pvq_vector(b, L, K, N)\n",
    "    cb = decoder(b, L, K, N).step_1()   \n",
    "    if np.sum(abs(cb)) != K:\n",
    "        print(b, \"l1 norm is not K\")\n",
    "    # Test to see if it's already in there\n",
    "    for i,cb2 in enumerate(codebook):\n",
    "        if np.allclose(cb2, cb):\n",
    "            print(\"Found duplicate vector\", i, b, cb2, cb)\n",
    "            oops = True\n",
    "    codebook.append(cb)\n",
    "    if oops:\n",
    "        break\n",
    "\n",
    "print(np.array(codebook))"
   ]
  },
  {
   "cell_type": "code",
   "execution_count": 678,
   "metadata": {},
   "outputs": [
    {
     "name": "stdout",
     "output_type": "stream",
     "text": [
      "12\n",
      "14\n",
      "1 2 2\n",
      "18\n",
      "2 2 2\n",
      "22\n",
      "k 1\n"
     ]
    },
    {
     "data": {
      "text/plain": [
       "array([-1,  1,  1])"
      ]
     },
     "execution_count": 678,
     "metadata": {},
     "output_type": "execute_result"
    }
   ],
   "source": [
    "decoder(22, L, K, N).step_1()"
   ]
  },
  {
   "cell_type": "code",
   "execution_count": 542,
   "metadata": {},
   "outputs": [
    {
     "data": {
      "text/plain": [
       "array([[  1,   0,   0,   0,   0,   0],\n",
       "       [  1,   2,   2,   2,   2,   2],\n",
       "       [  1,   4,   8,  12,  16,  20],\n",
       "       [  1,   6,  18,  38,  66, 102]])"
      ]
     },
     "execution_count": 542,
     "metadata": {},
     "output_type": "execute_result"
    }
   ],
   "source": [
    "N"
   ]
  },
  {
   "cell_type": "code",
   "execution_count": 266,
   "metadata": {},
   "outputs": [
    {
     "name": "stdout",
     "output_type": "stream",
     "text": [
      "[-0.69584506 -0.69319058 -0.09184924 -0.16386027]\n",
      "[2. 2. 0. 0.]\n",
      "Remaining pulses: 1.0\n"
     ]
    },
    {
     "data": {
      "text/plain": [
       "(array([2.11535831, 2.10728872, 0.27922028, 0.4981327 ]),\n",
       " array([-2, -2,  0, -1]))"
      ]
     },
     "execution_count": 266,
     "metadata": {},
     "output_type": "execute_result"
    }
   ],
   "source": [
    "# x = np.array([0.53963551,  0.94695102,  0.19858073, -0.54743883])\n",
    "x = np.array([-0.68288664, -0.68028159, -0.09013877, -0.16080877])\n",
    "x /= np.linalg.norm(x)\n",
    "print(x)\n",
    "y, pre_search = pvq_search(x, 5)\n",
    "y, pre_search #, np.round(y), y - np.round(y)"
   ]
  },
  {
   "cell_type": "code",
   "execution_count": 730,
   "metadata": {},
   "outputs": [
    {
     "name": "stdout",
     "output_type": "stream",
     "text": [
      "[  4.   5.   4.   4.   5.   5.   6.   6.   7.   8.   9.  10.  12.  14.\n",
      "  16.  19.  24.  30.  38.  47.  56.  76. 107. 149. 363.]\n"
     ]
    }
   ],
   "source": [
    "nlines = AssignMDCTLinesFromFreqLimits(1024, 48000)\n",
    "print(nlines)\n",
    "# sf_bands = ScaleFactorBands(1024)"
   ]
  },
  {
   "cell_type": "code",
   "execution_count": null,
   "metadata": {},
   "outputs": [],
   "source": []
  }
 ],
 "metadata": {
  "kernelspec": {
   "display_name": "Python 3",
   "language": "python",
   "name": "python3"
  },
  "language_info": {
   "codemirror_mode": {
    "name": "ipython",
    "version": 3
   },
   "file_extension": ".py",
   "mimetype": "text/x-python",
   "name": "python",
   "nbconvert_exporter": "python",
   "pygments_lexer": "ipython3",
   "version": "3.7.1"
  }
 },
 "nbformat": 4,
 "nbformat_minor": 4
}
