{
 "cells": [
  {
   "cell_type": "code",
   "execution_count": 1,
   "metadata": {},
   "outputs": [],
   "source": [
    "import numpy as np\n",
    "import matplotlib.pyplot as plt\n",
    "from IPython.display import HTML\n",
    "from matplotlib import animation, rc\n",
    "from quantize import * \n",
    "%load_ext autoreload\n",
    "%autoreload 2"
   ]
  },
  {
   "cell_type": "code",
   "execution_count": 2,
   "metadata": {},
   "outputs": [
    {
     "data": {
      "text/plain": [
       "(array([[ 2,  0],\n",
       "        [-2,  0],\n",
       "        [ 1,  1],\n",
       "        [ 1, -1],\n",
       "        [-1,  1],\n",
       "        [-1, -1],\n",
       "        [ 0,  2],\n",
       "        [ 0, -2]]),\n",
       " array([[ 1.        ,  0.        ],\n",
       "        [-1.        ,  0.        ],\n",
       "        [ 0.70710678,  0.70710678],\n",
       "        [ 0.70710678, -0.70710678],\n",
       "        [-0.70710678,  0.70710678],\n",
       "        [-0.70710678, -0.70710678],\n",
       "        [ 0.        ,  1.        ],\n",
       "        [ 0.        , -1.        ]]))"
      ]
     },
     "execution_count": 2,
     "metadata": {},
     "output_type": "execute_result"
    }
   ],
   "source": [
    "codebook = np.array([(2, 0), (-2, 0), (1, 1), (1, -1), (-1, 1), (-1, -1), (0, 2), (0, -2)])\n",
    "normalized = codebook/np.linalg.norm(codebook, axis=1, keepdims=True)\n",
    "codebook, normalized"
   ]
  },
  {
   "cell_type": "code",
   "execution_count": 3,
   "metadata": {},
   "outputs": [],
   "source": [
    "def point_on_pyramid(x:np.array, k):\n",
    "    x_l1 = np.sum(np.abs(x))\n",
    "    x_hat = k*x/x_l1\n",
    "    return x_hat, np.round(x_hat)"
   ]
  },
  {
   "cell_type": "code",
   "execution_count": 4,
   "metadata": {},
   "outputs": [
    {
     "ename": "NameError",
     "evalue": "name 'pvq_search' is not defined",
     "output_type": "error",
     "traceback": [
      "\u001b[0;31m---------------------------------------------------------------------------\u001b[0m",
      "\u001b[0;31mNameError\u001b[0m                                 Traceback (most recent call last)",
      "\u001b[0;32m<ipython-input-4-b7bd1096001a>\u001b[0m in \u001b[0;36m<module>\u001b[0;34m\u001b[0m\n\u001b[1;32m     37\u001b[0m                                frames=100, interval=100, blit=True)\n\u001b[1;32m     38\u001b[0m \u001b[0;34m\u001b[0m\u001b[0m\n\u001b[0;32m---> 39\u001b[0;31m \u001b[0mHTML\u001b[0m\u001b[0;34m(\u001b[0m\u001b[0manim\u001b[0m\u001b[0;34m.\u001b[0m\u001b[0mto_html5_video\u001b[0m\u001b[0;34m(\u001b[0m\u001b[0;34m)\u001b[0m\u001b[0;34m)\u001b[0m\u001b[0;34m\u001b[0m\u001b[0;34m\u001b[0m\u001b[0m\n\u001b[0m",
      "\u001b[0;32m/anaconda3/lib/python3.7/site-packages/matplotlib/animation.py\u001b[0m in \u001b[0;36mto_html5_video\u001b[0;34m(self, embed_limit)\u001b[0m\n\u001b[1;32m   1328\u001b[0m                                 \u001b[0mbitrate\u001b[0m\u001b[0;34m=\u001b[0m\u001b[0mrcParams\u001b[0m\u001b[0;34m[\u001b[0m\u001b[0;34m'animation.bitrate'\u001b[0m\u001b[0;34m]\u001b[0m\u001b[0;34m,\u001b[0m\u001b[0;34m\u001b[0m\u001b[0;34m\u001b[0m\u001b[0m\n\u001b[1;32m   1329\u001b[0m                                 fps=1000. / self._interval)\n\u001b[0;32m-> 1330\u001b[0;31m                 \u001b[0mself\u001b[0m\u001b[0;34m.\u001b[0m\u001b[0msave\u001b[0m\u001b[0;34m(\u001b[0m\u001b[0mstr\u001b[0m\u001b[0;34m(\u001b[0m\u001b[0mpath\u001b[0m\u001b[0;34m)\u001b[0m\u001b[0;34m,\u001b[0m \u001b[0mwriter\u001b[0m\u001b[0;34m=\u001b[0m\u001b[0mwriter\u001b[0m\u001b[0;34m)\u001b[0m\u001b[0;34m\u001b[0m\u001b[0;34m\u001b[0m\u001b[0m\n\u001b[0m\u001b[1;32m   1331\u001b[0m                 \u001b[0;31m# Now open and base64 encode.\u001b[0m\u001b[0;34m\u001b[0m\u001b[0;34m\u001b[0m\u001b[0;34m\u001b[0m\u001b[0m\n\u001b[1;32m   1332\u001b[0m                 \u001b[0mvid64\u001b[0m \u001b[0;34m=\u001b[0m \u001b[0mbase64\u001b[0m\u001b[0;34m.\u001b[0m\u001b[0mencodebytes\u001b[0m\u001b[0;34m(\u001b[0m\u001b[0mpath\u001b[0m\u001b[0;34m.\u001b[0m\u001b[0mread_bytes\u001b[0m\u001b[0;34m(\u001b[0m\u001b[0;34m)\u001b[0m\u001b[0;34m)\u001b[0m\u001b[0;34m\u001b[0m\u001b[0;34m\u001b[0m\u001b[0m\n",
      "\u001b[0;32m/anaconda3/lib/python3.7/site-packages/matplotlib/animation.py\u001b[0m in \u001b[0;36msave\u001b[0;34m(self, filename, writer, fps, dpi, codec, bitrate, extra_args, metadata, extra_anim, savefig_kwargs, progress_callback)\u001b[0m\n\u001b[1;32m   1150\u001b[0m                     \u001b[0;32mfor\u001b[0m \u001b[0manim\u001b[0m\u001b[0;34m,\u001b[0m \u001b[0md\u001b[0m \u001b[0;32min\u001b[0m \u001b[0mzip\u001b[0m\u001b[0;34m(\u001b[0m\u001b[0mall_anim\u001b[0m\u001b[0;34m,\u001b[0m \u001b[0mdata\u001b[0m\u001b[0;34m)\u001b[0m\u001b[0;34m:\u001b[0m\u001b[0;34m\u001b[0m\u001b[0;34m\u001b[0m\u001b[0m\n\u001b[1;32m   1151\u001b[0m                         \u001b[0;31m# TODO: See if turning off blit is really necessary\u001b[0m\u001b[0;34m\u001b[0m\u001b[0;34m\u001b[0m\u001b[0;34m\u001b[0m\u001b[0m\n\u001b[0;32m-> 1152\u001b[0;31m                         \u001b[0manim\u001b[0m\u001b[0;34m.\u001b[0m\u001b[0m_draw_next_frame\u001b[0m\u001b[0;34m(\u001b[0m\u001b[0md\u001b[0m\u001b[0;34m,\u001b[0m \u001b[0mblit\u001b[0m\u001b[0;34m=\u001b[0m\u001b[0;32mFalse\u001b[0m\u001b[0;34m)\u001b[0m\u001b[0;34m\u001b[0m\u001b[0;34m\u001b[0m\u001b[0m\n\u001b[0m\u001b[1;32m   1153\u001b[0m                         \u001b[0;32mif\u001b[0m \u001b[0mprogress_callback\u001b[0m \u001b[0;32mis\u001b[0m \u001b[0;32mnot\u001b[0m \u001b[0;32mNone\u001b[0m\u001b[0;34m:\u001b[0m\u001b[0;34m\u001b[0m\u001b[0;34m\u001b[0m\u001b[0m\n\u001b[1;32m   1154\u001b[0m                             \u001b[0mprogress_callback\u001b[0m\u001b[0;34m(\u001b[0m\u001b[0mframe_number\u001b[0m\u001b[0;34m,\u001b[0m \u001b[0mtotal_frames\u001b[0m\u001b[0;34m)\u001b[0m\u001b[0;34m\u001b[0m\u001b[0;34m\u001b[0m\u001b[0m\n",
      "\u001b[0;32m/anaconda3/lib/python3.7/site-packages/matplotlib/animation.py\u001b[0m in \u001b[0;36m_draw_next_frame\u001b[0;34m(self, framedata, blit)\u001b[0m\n\u001b[1;32m   1190\u001b[0m         \u001b[0;31m# post- draw, as well as the drawing of the frame itself.\u001b[0m\u001b[0;34m\u001b[0m\u001b[0;34m\u001b[0m\u001b[0;34m\u001b[0m\u001b[0m\n\u001b[1;32m   1191\u001b[0m         \u001b[0mself\u001b[0m\u001b[0;34m.\u001b[0m\u001b[0m_pre_draw\u001b[0m\u001b[0;34m(\u001b[0m\u001b[0mframedata\u001b[0m\u001b[0;34m,\u001b[0m \u001b[0mblit\u001b[0m\u001b[0;34m)\u001b[0m\u001b[0;34m\u001b[0m\u001b[0;34m\u001b[0m\u001b[0m\n\u001b[0;32m-> 1192\u001b[0;31m         \u001b[0mself\u001b[0m\u001b[0;34m.\u001b[0m\u001b[0m_draw_frame\u001b[0m\u001b[0;34m(\u001b[0m\u001b[0mframedata\u001b[0m\u001b[0;34m)\u001b[0m\u001b[0;34m\u001b[0m\u001b[0;34m\u001b[0m\u001b[0m\n\u001b[0m\u001b[1;32m   1193\u001b[0m         \u001b[0mself\u001b[0m\u001b[0;34m.\u001b[0m\u001b[0m_post_draw\u001b[0m\u001b[0;34m(\u001b[0m\u001b[0mframedata\u001b[0m\u001b[0;34m,\u001b[0m \u001b[0mblit\u001b[0m\u001b[0;34m)\u001b[0m\u001b[0;34m\u001b[0m\u001b[0;34m\u001b[0m\u001b[0m\n\u001b[1;32m   1194\u001b[0m \u001b[0;34m\u001b[0m\u001b[0m\n",
      "\u001b[0;32m/anaconda3/lib/python3.7/site-packages/matplotlib/animation.py\u001b[0m in \u001b[0;36m_draw_frame\u001b[0;34m(self, framedata)\u001b[0m\n\u001b[1;32m   1753\u001b[0m         \u001b[0;31m# Call the func with framedata and args. If blitting is desired,\u001b[0m\u001b[0;34m\u001b[0m\u001b[0;34m\u001b[0m\u001b[0;34m\u001b[0m\u001b[0m\n\u001b[1;32m   1754\u001b[0m         \u001b[0;31m# func needs to return a sequence of any artists that were modified.\u001b[0m\u001b[0;34m\u001b[0m\u001b[0;34m\u001b[0m\u001b[0;34m\u001b[0m\u001b[0m\n\u001b[0;32m-> 1755\u001b[0;31m         \u001b[0mself\u001b[0m\u001b[0;34m.\u001b[0m\u001b[0m_drawn_artists\u001b[0m \u001b[0;34m=\u001b[0m \u001b[0mself\u001b[0m\u001b[0;34m.\u001b[0m\u001b[0m_func\u001b[0m\u001b[0;34m(\u001b[0m\u001b[0mframedata\u001b[0m\u001b[0;34m,\u001b[0m \u001b[0;34m*\u001b[0m\u001b[0mself\u001b[0m\u001b[0;34m.\u001b[0m\u001b[0m_args\u001b[0m\u001b[0;34m)\u001b[0m\u001b[0;34m\u001b[0m\u001b[0;34m\u001b[0m\u001b[0m\n\u001b[0m\u001b[1;32m   1756\u001b[0m         \u001b[0;32mif\u001b[0m \u001b[0mself\u001b[0m\u001b[0;34m.\u001b[0m\u001b[0m_blit\u001b[0m\u001b[0;34m:\u001b[0m\u001b[0;34m\u001b[0m\u001b[0;34m\u001b[0m\u001b[0m\n\u001b[1;32m   1757\u001b[0m             \u001b[0;32mif\u001b[0m \u001b[0mself\u001b[0m\u001b[0;34m.\u001b[0m\u001b[0m_drawn_artists\u001b[0m \u001b[0;32mis\u001b[0m \u001b[0;32mNone\u001b[0m\u001b[0;34m:\u001b[0m\u001b[0;34m\u001b[0m\u001b[0;34m\u001b[0m\u001b[0m\n",
      "\u001b[0;32m<ipython-input-4-b7bd1096001a>\u001b[0m in \u001b[0;36manimate\u001b[0;34m(t)\u001b[0m\n\u001b[1;32m     26\u001b[0m     \u001b[0my\u001b[0m \u001b[0;34m=\u001b[0m \u001b[0mpt\u001b[0m\u001b[0;34m.\u001b[0m\u001b[0mimag\u001b[0m\u001b[0;34m\u001b[0m\u001b[0;34m\u001b[0m\u001b[0m\n\u001b[1;32m     27\u001b[0m     \u001b[0mline_input\u001b[0m\u001b[0;34m.\u001b[0m\u001b[0mset_data\u001b[0m\u001b[0;34m(\u001b[0m\u001b[0mx\u001b[0m\u001b[0;34m,\u001b[0m \u001b[0my\u001b[0m\u001b[0;34m)\u001b[0m\u001b[0;34m\u001b[0m\u001b[0;34m\u001b[0m\u001b[0m\n\u001b[0;32m---> 28\u001b[0;31m     \u001b[0mact\u001b[0m\u001b[0;34m,\u001b[0m \u001b[0mrounded\u001b[0m \u001b[0;34m=\u001b[0m \u001b[0mpvq_search\u001b[0m\u001b[0;34m(\u001b[0m\u001b[0mnp\u001b[0m\u001b[0;34m.\u001b[0m\u001b[0marray\u001b[0m\u001b[0;34m(\u001b[0m\u001b[0;34m[\u001b[0m\u001b[0mx\u001b[0m\u001b[0;34m,\u001b[0m\u001b[0my\u001b[0m\u001b[0;34m]\u001b[0m\u001b[0;34m)\u001b[0m\u001b[0;34m,\u001b[0m \u001b[0;36m2\u001b[0m\u001b[0;34m)\u001b[0m\u001b[0;34m\u001b[0m\u001b[0;34m\u001b[0m\u001b[0m\n\u001b[0m\u001b[1;32m     29\u001b[0m \u001b[0;34m\u001b[0m\u001b[0m\n\u001b[1;32m     30\u001b[0m     \u001b[0mline_output\u001b[0m\u001b[0;34m.\u001b[0m\u001b[0mset_data\u001b[0m\u001b[0;34m(\u001b[0m\u001b[0mrounded\u001b[0m\u001b[0;34m[\u001b[0m\u001b[0;36m0\u001b[0m\u001b[0;34m]\u001b[0m\u001b[0;34m,\u001b[0m \u001b[0mrounded\u001b[0m\u001b[0;34m[\u001b[0m\u001b[0;36m1\u001b[0m\u001b[0;34m]\u001b[0m\u001b[0;34m)\u001b[0m\u001b[0;34m\u001b[0m\u001b[0;34m\u001b[0m\u001b[0m\n",
      "\u001b[0;31mNameError\u001b[0m: name 'pvq_search' is not defined"
     ]
    },
    {
     "data": {
      "image/png": "[encoded data removed]",
      "text/plain": [
       "<Figure size 576x576 with 1 Axes>"
      ]
     },
     "metadata": {
      "needs_background": "light"
     },
     "output_type": "display_data"
    }
   ],
   "source": [
    "# First set up the figure, the axis, and the plot element we want to animate\n",
    "fig, ax = plt.subplots(figsize=(8,8))\n",
    "ax.set_title('Pyramid vector quantization S(2,2)')\n",
    "ax.set_xlabel('x')\n",
    "ax.set_ylabel('y')\n",
    "ax.set_xlim(( -3, 3))\n",
    "ax.set_ylim((-3, 3))\n",
    "\n",
    "line_input, = ax.plot([], [], 'gx', lw=20, label='input')\n",
    "line_output, = ax.plot([], [], 'kv', lw=20, label='output codebook vector')\n",
    "line_preproj, = ax.plot([], [], 'kx', lw=20, label='pre-projection vector')\n",
    "ax.scatter(normalized[:,0], normalized[:,1], label='normalized_codebook')\n",
    "ax.scatter(codebook[:,0], codebook[:,1], label='codebook')\n",
    "ax.legend()\n",
    "ax.grid()\n",
    "\n",
    "# initialization function: plot the background of each frame\n",
    "def init():\n",
    "    line_input.set_data([], [])\n",
    "    return (line_input,)\n",
    "\n",
    "# animation function. This is called sequentially\n",
    "def animate(t):\n",
    "    pt = np.exp(2*np.pi* 0.01 * 1j * t)\n",
    "    x = pt.real\n",
    "    y = pt.imag\n",
    "    line_input.set_data(x, y)\n",
    "    act, rounded = pvq_search(np.array([x,y]), 2)\n",
    "    \n",
    "    line_output.set_data(rounded[0], rounded[1])\n",
    "    line_preproj.set_data(act[0], act[1])\n",
    "\n",
    "    return (line_input,)\n",
    "\n",
    "# call the animator. blit=True means only re-draw the parts that have changed.\n",
    "anim = animation.FuncAnimation(fig, animate, init_func=init,\n",
    "                               frames=100, interval=100, blit=True)\n",
    "\n",
    "HTML(anim.to_html5_video())"
   ]
  },
  {
   "cell_type": "code",
   "execution_count": null,
   "metadata": {},
   "outputs": [],
   "source": [
    "a = -0.77\n",
    "x = np.array([a, -np.sqrt(1-a**2)])\n",
    "x /= np.linalg.norm(x)\n",
    "act, rounded = point_on_pyramid2(x, 2)\n",
    "print(act, rounded)\n",
    "plt.figure(figsize=(8,8))\n",
    "plt.xlim([-3,3])\n",
    "plt.ylim([-3,3])\n",
    "plt.scatter(normalized[:,0], normalized[:,1], label='normalized_codebook')\n",
    "plt.scatter(codebook[:,0], codebook[:,1], label='codebook')\n",
    "plt.plot([act[0]], [act[1]], 'xk', label='unrounded_solution')\n",
    "plt.plot([rounded[0]], [rounded[1]], 'v', label='rounded_solution', linewidth=8)\n",
    "plt.plot([x[0]], [x[1]], 's')\n",
    "plt.grid()\n",
    "plt.legend()"
   ]
  },
  {
   "cell_type": "code",
   "execution_count": 5,
   "metadata": {},
   "outputs": [
    {
     "name": "stdout",
     "output_type": "stream",
     "text": [
      "For N=2, bits for gain= 4.0, bits for shape=6.0\n",
      "For N=3, bits for gain= 6.0, bits for shape=4.0\n",
      "For N=4, bits for gain= 6.0, bits for shape=4.0\n",
      "For N=5, bits for gain= 7.0, bits for shape=3.0\n",
      "For N=6, bits for gain= 7.0, bits for shape=3.0\n",
      "For N=7, bits for gain= 7.0, bits for shape=3.0\n",
      "For N=8, bits for gain= 7.0, bits for shape=3.0\n",
      "For N=9, bits for gain= 7.0, bits for shape=3.0\n",
      "For N=10, bits for gain= 7.0, bits for shape=3.0\n",
      "For N=11, bits for gain= 7.0, bits for shape=3.0\n",
      "For N=12, bits for gain= 7.0, bits for shape=3.0\n",
      "For N=13, bits for gain= 7.0, bits for shape=3.0\n",
      "For N=14, bits for gain= 7.0, bits for shape=3.0\n",
      "For N=15, bits for gain= 7.0, bits for shape=3.0\n",
      "For N=16, bits for gain= 7.0, bits for shape=3.0\n",
      "For N=17, bits for gain= 7.0, bits for shape=3.0\n",
      "For N=18, bits for gain= 7.0, bits for shape=3.0\n",
      "For N=19, bits for gain= 7.0, bits for shape=3.0\n"
     ]
    }
   ],
   "source": [
    "# Determine how to allocate bits between the gain and the shape of the vector\n",
    "def fine_alloc(a, N, k_fine):\n",
    "    \"\"\"Given a total number of bits, calculate the number of bits for the gain-shape quantization\"\"\"\n",
    "    a_shape = a/N + 0.5*np.log2(N) - k_fine\n",
    "    a_shape = np.round(a_shape)\n",
    "    a_gain = a - a_shape\n",
    "    return a_gain, a_shape\n",
    "\n",
    "for i in range(2, 20):\n",
    "    a_g, a_f = fine_alloc(10, i, 0)\n",
    "    print(f\"For N={i}, bits for gain= {a_g}, bits for shape={a_f}\")\n"
   ]
  },
  {
   "cell_type": "code",
   "execution_count": 6,
   "metadata": {},
   "outputs": [],
   "source": [
    "# Number of points in the codebook\n",
    "def num_points_in_pvq(L, K):\n",
    "    if L >= 0 and K == 0:\n",
    "        return 1\n",
    "    if K >= 1 and L == 0:\n",
    "        return 0\n",
    "    return num_points_in_pvq(L-1, K) + num_points_in_pvq(L-1, K-1) + num_points_in_pvq(L, K-1)\n",
    "    \n",
    "# Encode a pyramid vq codebook vector into an integer index\n",
    "def encode_pvq_vector(x, K):\n",
    "    b = 0\n",
    "    k = K\n",
    "    L = len(x)\n",
    "    l = L\n",
    " \n",
    "    for x_i in x:\n",
    "        if abs(x_i) == 0:\n",
    "            b += 0\n",
    "        if abs(x_i) == 1:\n",
    "            b += num_points_in_pvq(l-1, k) + (0.5 * (1-np.sign(x_i))) * num_points_in_pvq(l-1, k-1)\n",
    "        if abs(x_i) > 1:\n",
    "            b += num_points_in_pvq(l-1, k) + 2*np.sum([num_points_in_pvq(l-1, k-j) for j in range(1, abs(x_i))]) + 0.5 * (1-np.sign(x_i)) * num_points_in_pvq(l-1, k-abs(x_i))\n",
    "        k  -= abs(x_i)\n",
    "        l -= 1\n",
    "        if k == 0:\n",
    "            break\n",
    "    return int(b)\n",
    "\n",
    "# Decode a pyramid vq codebook vector index into the codebook vector\n",
    "def decode_pvq_vector(b, L, K):\n",
    "    x = np.zeros((L, ), dtype=np.int)\n",
    "    xb = 0\n",
    "    k = K\n",
    "    l = L\n",
    "    i = 0\n",
    "    while i < L:\n",
    "        step_2, step_3, step_4, step_5 = True, True, True, True\n",
    "        if b == xb:\n",
    "            # step 1\n",
    "            x[i] = 0\n",
    "            step_2, step_3, step_4 = False, False, False\n",
    "        # step 2            \n",
    "        if step_2:\n",
    "            if b < xb + num_points_in_pvq(l-1, k):            \n",
    "                x[i] = 0\n",
    "                step_3 = False\n",
    "            else:\n",
    "                xb += num_points_in_pvq(l-1, k)\n",
    "                j = 1\n",
    "        # step 3\n",
    "        if step_3:\n",
    "            while b >= xb + 2 *num_points_in_pvq(l-1,k-j):\n",
    "                xb += 2 * num_points_in_pvq(l-1,k-j)\n",
    "                if j < k:\n",
    "                    j += 1\n",
    "                else: \n",
    "                    break\n",
    "            if b < xb + 2 *num_points_in_pvq(l-1,k-j):\n",
    "                if xb <= b < xb+num_points_in_pvq(l-1,k-j):\n",
    "                    x[i] = j\n",
    "                else:\n",
    "                    x[i] = -j\n",
    "        # step 4\n",
    "        if step_4:\n",
    "            k -= abs(x[i])\n",
    "            l -= 1\n",
    "            i += 1\n",
    "            if k > 0:\n",
    "                step_5 = False\n",
    "        # step 5\n",
    "        if step_5:\n",
    "            if k > 0:\n",
    "                x[L-1] = k - abs(x[i])\n",
    "            break\n",
    "    return x\n",
    "    \n",
    "            "
   ]
  },
  {
   "cell_type": "code",
   "execution_count": 7,
   "metadata": {},
   "outputs": [
    {
     "name": "stdout",
     "output_type": "stream",
     "text": [
      "[-1, 1]\n",
      "in: [-1, 1] idx: 4 decoded: [-1  1]\n"
     ]
    }
   ],
   "source": [
    "c = [-1,1]\n",
    "b = encode_pvq_vector(np.array(c), 2)\n",
    "print(c)\n",
    "decoded = decode_pvq_vector(b, len(c), 2)\n",
    "print(f'in: {c} idx: {b} decoded: {decoded}')"
   ]
  },
  {
   "cell_type": "code",
   "execution_count": 8,
   "metadata": {},
   "outputs": [
    {
     "name": "stdout",
     "output_type": "stream",
     "text": [
      "in: [2 0] idx: 6 decoded: [2 0] success: True\n",
      "in: [-2  0] idx: 7 decoded: [-2  0] success: True\n",
      "in: [1 1] idx: 2 decoded: [1 1] success: True\n",
      "in: [ 1 -1] idx: 3 decoded: [ 1 -1] success: True\n",
      "in: [-1  1] idx: 4 decoded: [-1  1] success: True\n",
      "in: [-1 -1] idx: 5 decoded: [-1 -1] success: True\n",
      "in: [0 2] idx: 0 decoded: [0 2] success: True\n",
      "in: [ 0 -2] idx: 1 decoded: [ 0 -2] success: True\n"
     ]
    }
   ],
   "source": [
    "for c in codebook:\n",
    "    b = encode_pvq_vector(np.array(c), 2)\n",
    "    decoded = decode_pvq_vector(b, len(c), 2)\n",
    "    print(f'in: {c} idx: {b} decoded: {decoded} success: {np.allclose(c, decoded)}')"
   ]
  },
  {
   "cell_type": "code",
   "execution_count": 9,
   "metadata": {},
   "outputs": [
    {
     "data": {
      "image/png": "[encoded data removed]",
      "text/plain": [
       "<Figure size 432x288 with 1 Axes>"
      ]
     },
     "metadata": {
      "needs_background": "light"
     },
     "output_type": "display_data"
    }
   ],
   "source": [
    "def mu_law_fn(x, mu=255):\n",
    "    return np.sign(x) * np.log(1+mu*np.abs(x))/np.log(1+mu)\n",
    "\n",
    "def inv_mu_law_fn(y, mu=255):\n",
    "    return np.sign(y)/mu * ((1+mu)**np.abs(y) - 1)\n",
    "\n",
    "x = np.arange(-1, 1, 0.01)\n",
    "y = mu_law_fn(x)\n",
    "x_hat = inv_mu_law_fn(y)\n",
    "plt.plot(x, y)\n",
    "plt.plot(x, x_hat)\n",
    "plt.grid()"
   ]
  },
  {
   "cell_type": "code",
   "execution_count": 10,
   "metadata": {},
   "outputs": [
    {
     "ename": "SyntaxError",
     "evalue": "invalid syntax (<ipython-input-10-e8340a631d2f>, line 6)",
     "output_type": "error",
     "traceback": [
      "\u001b[0;36m  File \u001b[0;32m\"<ipython-input-10-e8340a631d2f>\"\u001b[0;36m, line \u001b[0;32m6\u001b[0m\n\u001b[0;31m    R_gain, R_shape = fine_alloc(R, len(x), k_fine):\u001b[0m\n\u001b[0m                                                   ^\u001b[0m\n\u001b[0;31mSyntaxError\u001b[0m\u001b[0;31m:\u001b[0m invalid syntax\n"
     ]
    }
   ],
   "source": [
    "# Full PVQ algorithm\n",
    "\n",
    "def encode_decode(x, R):\n",
    "    k_fine = 0\n",
    "    # Allocate bits for gain and shape\n",
    "    R_gain, R_shape = fine_alloc(R, len(x), k_fine):\n",
    "    \n",
    "    # Separate gain and shape\n",
    "    gain = np.linalg.norm(x)\n",
    "    shape = x / gain\n",
    "    \n",
    "    # Mu-law scalar quantize gain\n",
    "    # TODO\n",
    "    \n",
    "    # Find k that satisfies R_shape\n",
    "    # TODO k = \n",
    "    \n",
    "    # PVQ the shape\n",
    "    codebook_vector = point_on_pyramid(x, k)\n",
    "    # Find index of codebook vector\n",
    "    b = encode_pvq_vector(codebook_vector, k)\n",
    "    \n",
    "    # Transmit index\n",
    "    \n",
    "    # DECODER\n",
    "    codebook_vector_decoded = decode_pvq_vector(b, len(x), k)\n",
    "    \n",
    "    # normalize to reconstruct shape\n",
    "    decoded_shape = codebook_vector_decoded/np.linalg.norm(codebook_vector_decoded)\n",
    "    \n",
    "    # reconstruct gain\n",
    "    s\n",
    "        \n",
    "    \n"
   ]
  },
  {
   "cell_type": "code",
   "execution_count": 33,
   "metadata": {},
   "outputs": [],
   "source": [
    "from gain_shape_quantize import *\n",
    "from quantize import vQuantizeUniform, vDequantizeUniform"
   ]
  },
  {
   "cell_type": "code",
   "execution_count": 13,
   "metadata": {},
   "outputs": [
    {
     "name": "stdout",
     "output_type": "stream",
     "text": [
      "in: [2 0] idx: 6 decoded: [2 0] success: True\n",
      "in: [-2  0] idx: 7 decoded: [-2  0] success: True\n",
      "in: [1 1] idx: 2 decoded: [1 1] success: True\n",
      "in: [ 1 -1] idx: 3 decoded: [ 1 -1] success: True\n",
      "in: [-1  1] idx: 4 decoded: [-1  1] success: True\n",
      "in: [-1 -1] idx: 5 decoded: [-1 -1] success: True\n",
      "in: [0 2] idx: 0 decoded: [0 2] success: True\n",
      "in: [ 0 -2] idx: 1 decoded: [ 0 -2] success: True\n"
     ]
    }
   ],
   "source": [
    "for c in codebook:\n",
    "    b = encode_pvq_vector(np.array(c), 2, N)\n",
    "    decoded = decode_pvq_vector(b, len(c), 2, N)\n",
    "    print(f'in: {c} idx: {b} decoded: {decoded} success: {np.allclose(c, decoded)}')"
   ]
  },
  {
   "cell_type": "code",
   "execution_count": 31,
   "metadata": {},
   "outputs": [
    {
     "name": "stdout",
     "output_type": "stream",
     "text": [
      "bits_gain: 7 bits_shape 34\n",
      "original gain: 2.096183593794986\n",
      "k 26 used bits 33.96013838797717\n",
      "Encoded codebook vector: [ 4 -3  2 -1  4  3  0 -4 -1 -4]\n",
      "Quantized shape index: 12651263935\n",
      "46 12651263935\n",
      "7 34\n",
      "decoded gain:2.1385522808407327\n",
      "k 26\n",
      "Decoded codebook vector: [ 4 -3  2 -1  4  3  0 -4 -1 -4]\n",
      "input: [ 0.50109109 -0.79484578 -0.50507654 -0.87120909  0.2676444   0.03753963\n",
      "  0.36513157  0.92884837 -0.78289436 -0.5285729 ]\n",
      "vq_decoded:[ 0.91188176 -0.68391132  0.45594088 -0.22797044  0.91188176  0.68391132\n",
      "  0.         -0.91188176 -0.22797044 -0.91188176] scalar_decoded: [ 0.93333333 -0.66666667  0.4        -0.26666667  0.8         0.66666667\n",
      "  0.         -0.93333333 -0.26666667 -0.93333333] fp_decoded: [ 0.62561095 -0.87585533 -0.62561095 -0.87585533  0.37536657  0.\n",
      "  0.37536657  0.87585533 -0.87585533 -0.62561095]\n",
      "vq_err:-26.32956462920552dB scalar_err: -28.07217127920019dB fp_err:-21.511811395114947dB\n"
     ]
    }
   ],
   "source": [
    "L = 10\n",
    "x = np.random.rand(L) * 2 - 1\n",
    "b = 41\n",
    "k_fine=-2\n",
    "gain, shape = quantize_gain_shape(x, len(x), b, k_fine=k_fine)\n",
    "print(gain, shape)\n",
    "dequantized = dequantize_gain_shape(gain, shape, b, len(x), k_fine=k_fine)\n",
    "\n",
    "vq_error = 10*np.log10(np.mean((x-dequantized)**2))\n",
    "# calculate scalar quantization error\n",
    "scalar_quant = vDequantizeUniform(vQuantizeUniform(x, int(b//len(x))), int(b//len(x)))\n",
    "sq_error = 10*np.log10(np.mean((x-scalar_quant)**2))\n",
    "\n",
    "# Calcualte FP quantization error\n",
    "x = np.random.rand(10) * 2 - 1\n",
    "scale_bits = 3\n",
    "mantissa_bits = int((b - scale_bits)/L)\n",
    "scale = ScaleFactor(np.max(x), scale_bits, mantissa_bits)\n",
    "mantissa = vMantissa(x, scale, scale_bits, mantissa_bits)\n",
    "fp_quant = vDequantize(scale, mantissa, scale_bits, mantissa_bits)\n",
    "fp_error = 10*np.log10(np.mean((x-fp_quant)**2))\n",
    "\n",
    "print(f\"input: {x}\\nvq_decoded:{dequantized} scalar_decoded: {scalar_quant} fp_decoded: {fp_quant}\\nvq_err:{vq_error}dB scalar_err: {sq_error}dB fp_err:{fp_error}dB\")"
   ]
  },
  {
   "cell_type": "code",
   "execution_count": 182,
   "metadata": {},
   "outputs": [
    {
     "name": "stdout",
     "output_type": "stream",
     "text": [
      "theta  0.3918438067972992\n",
      "bitalloc theta, mid, side 11 12 9\n",
      "encode theta: 0.3918438067972992\n",
      "2424 142 255\n",
      "decoded theta: 0.391356192801855\n",
      "bitalloc theta, mid, side 11 12 9\n",
      "[(-0.3523701305775535, -0.33945018830640206), (-0.015443906399272445, -0.00889484831692469), (0.5913741206641795, 0.6156843329961951), (-0.513196039271239, -0.5002804341426784), (-0.4278187024320822, -0.4109704629076156), (0.2819120596324311, 0.29402384132364223)]\n",
      "-36.32590407366538\n"
     ]
    }
   ],
   "source": [
    "L = 6\n",
    "bit_alloc = 32\n",
    "k_fine = 0\n",
    "x = np.random.rand(L) * 2 - 1\n",
    "x = x /np.linalg.norm(x)\n",
    "mid_idx, side_idx, theta_idx = split_band_encode(x, bit_alloc, k_fine=k_fine)\n",
    "print(mid_idx, side_idx, theta_idx)\n",
    "x_hat = split_band_decode(mid_idx, side_idx, theta_idx, bit_alloc, L, k_fine)\n",
    "error = 10*np.log10(np.mean((x-x_hat)**2))\n",
    "print(list(zip(x, x_hat)))\n",
    "\n",
    "expected_snr = \n",
    "print(error)"
   ]
  },
  {
   "cell_type": "code",
   "execution_count": 136,
   "metadata": {},
   "outputs": [
    {
     "data": {
      "text/plain": [
       "(array([-0.67190593,  0.52659609, -0.32741075, -0.40501997]),\n",
       " array([-0.66666667,  0.53333333, -0.33333333, -0.4       ]))"
      ]
     },
     "execution_count": 136,
     "metadata": {},
     "output_type": "execute_result"
    }
   ],
   "source": [
    "x = np.random.rand(L) * 2 - 1\n",
    "x = x /np.linalg.norm(x)\n",
    "idx, b = quantize_pvq(x, 16)\n",
    "x_hat = dequantize_pvq(idx, L, 16)\n",
    "x, x_hat"
   ]
  },
  {
   "cell_type": "code",
   "execution_count": 139,
   "metadata": {},
   "outputs": [
    {
     "data": {
      "text/plain": [
       "1.2820369562145864"
      ]
     },
     "execution_count": 139,
     "metadata": {},
     "output_type": "execute_result"
    }
   ],
   "source": [
    "x = np.random.rand(L) * 2 - 1\n",
    "x = x /np.linalg.norm(x)\n",
    "\n",
    "mid = len(x) // 2\n",
    "left = x[:mid]\n",
    "right = x[mid:]\n",
    "\n",
    "# Calculate M and S\n",
    "M = (left + right) / 2\n",
    "S = (left - right) / 2\n",
    "M_l2 = np.linalg.norm(M)\n",
    "S_l2 = np.linalg.norm(S)\n",
    "m = M / M_l2\n",
    "s = S / S_l2\n",
    "theta = np.arctan(S_l2/ M_l2)  # Captures distribution of energy\n",
    "\n",
    "left2 = m * np.cos(theta) + s * np.sin(theta)\n",
    "right2 = m * np.cos(theta) - s * np.sin(theta)\n",
    "left2 /= np.sqrt(2)\n",
    "right2 /= np.sqrt(2)\n",
    "\n",
    "theta"
   ]
  },
  {
   "cell_type": "code",
   "execution_count": 140,
   "metadata": {},
   "outputs": [
    {
     "data": {
      "text/plain": [
       "(array([-0.84062648, -0.14275668]), array([-0.84062648, -0.14275668]))"
      ]
     },
     "execution_count": 140,
     "metadata": {},
     "output_type": "execute_result"
    }
   ],
   "source": [
    "left, left2"
   ]
  },
  {
   "cell_type": "code",
   "execution_count": 687,
   "metadata": {},
   "outputs": [
    {
     "name": "stdout",
     "output_type": "stream",
     "text": [
      "[[ 0  0  0  5]\n",
      " [ 0  0  0 -5]\n",
      " [ 0  0  1  4]\n",
      " ...\n",
      " [-4 -1  0  0]\n",
      " [ 5  0  0  0]\n",
      " [-5  0  0  0]]\n"
     ]
    }
   ],
   "source": [
    "L = 4\n",
    "K = 5\n",
    "N = pvq_codebook_size(L,K)\n",
    "codebook = []\n",
    "oops = False\n",
    "for b in range(N[L][K]):\n",
    "#     cb = decode_pvq_vector(b, L, K, N)\n",
    "    cb = decoder(b, L, K, N).step_1()   \n",
    "    if np.sum(abs(cb)) != K:\n",
    "        print(b, \"l1 norm is not K\")\n",
    "    # Test to see if it's already in there\n",
    "    for i,cb2 in enumerate(codebook):\n",
    "        if np.allclose(cb2, cb):\n",
    "            print(\"Found duplicate vector\", i, b, cb2, cb)\n",
    "            oops = True\n",
    "    codebook.append(cb)\n",
    "    if oops:\n",
    "        break\n",
    "\n",
    "print(np.array(codebook))"
   ]
  },
  {
   "cell_type": "code",
   "execution_count": 628,
   "metadata": {},
   "outputs": [
    {
     "data": {
      "text/plain": [
       "array([[1, 0, 0],\n",
       "       [1, 2, 2],\n",
       "       [1, 4, 8]])"
      ]
     },
     "execution_count": 628,
     "metadata": {},
     "output_type": "execute_result"
    }
   ],
   "source": [
    "N"
   ]
  },
  {
   "cell_type": "code",
   "execution_count": 677,
   "metadata": {},
   "outputs": [
    {
     "name": "stdout",
     "output_type": "stream",
     "text": [
      "12\n",
      "14\n",
      "1 2 2\n",
      "18\n",
      "2 2 2\n",
      "k 2\n"
     ]
    },
    {
     "data": {
      "text/plain": [
       "array([-1,  0,  2])"
      ]
     },
     "execution_count": 677,
     "metadata": {},
     "output_type": "execute_result"
    }
   ],
   "source": [
    "# decode_pvq_vector(37, L, K, N)\n",
    "decoder(20, L, K, N).step_1() "
   ]
  },
  {
   "cell_type": "code",
   "execution_count": 678,
   "metadata": {},
   "outputs": [
    {
     "name": "stdout",
     "output_type": "stream",
     "text": [
      "12\n",
      "14\n",
      "1 2 2\n",
      "18\n",
      "2 2 2\n",
      "22\n",
      "k 1\n"
     ]
    },
    {
     "data": {
      "text/plain": [
       "array([-1,  1,  1])"
      ]
     },
     "execution_count": 678,
     "metadata": {},
     "output_type": "execute_result"
    }
   ],
   "source": [
    "decoder(22, L, K, N).step_1()"
   ]
  },
  {
   "cell_type": "code",
   "execution_count": 542,
   "metadata": {},
   "outputs": [
    {
     "data": {
      "text/plain": [
       "array([[  1,   0,   0,   0,   0,   0],\n",
       "       [  1,   2,   2,   2,   2,   2],\n",
       "       [  1,   4,   8,  12,  16,  20],\n",
       "       [  1,   6,  18,  38,  66, 102]])"
      ]
     },
     "execution_count": 542,
     "metadata": {},
     "output_type": "execute_result"
    }
   ],
   "source": [
    "N"
   ]
  },
  {
   "cell_type": "code",
   "execution_count": 266,
   "metadata": {},
   "outputs": [
    {
     "name": "stdout",
     "output_type": "stream",
     "text": [
      "[-0.69584506 -0.69319058 -0.09184924 -0.16386027]\n",
      "[2. 2. 0. 0.]\n",
      "Remaining pulses: 1.0\n"
     ]
    },
    {
     "data": {
      "text/plain": [
       "(array([2.11535831, 2.10728872, 0.27922028, 0.4981327 ]),\n",
       " array([-2, -2,  0, -1]))"
      ]
     },
     "execution_count": 266,
     "metadata": {},
     "output_type": "execute_result"
    }
   ],
   "source": [
    "# x = np.array([0.53963551,  0.94695102,  0.19858073, -0.54743883])\n",
    "x = np.array([-0.68288664, -0.68028159, -0.09013877, -0.16080877])\n",
    "x /= np.linalg.norm(x)\n",
    "print(x)\n",
    "y, pre_search = pvq_search(x, 5)\n",
    "y, pre_search #, np.round(y), y - np.round(y)"
   ]
  },
  {
   "cell_type": "code",
   "execution_count": 730,
   "metadata": {},
   "outputs": [
    {
     "name": "stdout",
     "output_type": "stream",
     "text": [
      "[  4.   5.   4.   4.   5.   5.   6.   6.   7.   8.   9.  10.  12.  14.\n",
      "  16.  19.  24.  30.  38.  47.  56.  76. 107. 149. 363.]\n"
     ]
    }
   ],
   "source": [
    "nlines = AssignMDCTLinesFromFreqLimits(1024, 48000)\n",
    "print(nlines)\n",
    "# sf_bands = ScaleFactorBands(1024)"
   ]
  },
  {
   "cell_type": "code",
   "execution_count": null,
   "metadata": {},
   "outputs": [],
   "source": [
    "[12,15,9]"
   ]
  },
  {
   "cell_type": "code",
   "execution_count": 167,
   "metadata": {},
   "outputs": [
    {
     "data": {
      "text/plain": [
       "10"
      ]
     },
     "execution_count": 167,
     "metadata": {},
     "output_type": "execute_result"
    }
   ],
   "source": [
    "def get_pulses(i):\n",
    "    return  i if i<8 else (8 + (i&7)) << ((i>>3)-1)\n",
    "get_pulses(10)"
   ]
  },
  {
   "cell_type": "code",
   "execution_count": 172,
   "metadata": {},
   "outputs": [
    {
     "data": {
      "text/plain": [
       "(7, 72)"
      ]
     },
     "execution_count": 172,
     "metadata": {},
     "output_type": "execute_result"
    }
   ],
   "source": [
    "pvq_compute_k_for_R(14, 10)"
   ]
  },
  {
   "cell_type": "code",
   "execution_count": null,
   "metadata": {},
   "outputs": [],
   "source": []
  }
 ],
 "metadata": {
  "kernelspec": {
   "display_name": "Python 3",
   "language": "python",
   "name": "python3"
  },
  "language_info": {
   "codemirror_mode": {
    "name": "ipython",
    "version": 3
   },
   "file_extension": ".py",
   "mimetype": "text/x-python",
   "name": "python",
   "nbconvert_exporter": "python",
   "pygments_lexer": "ipython3",
   "version": "3.7.1"
  }
 },
 "nbformat": 4,
 "nbformat_minor": 4
}
